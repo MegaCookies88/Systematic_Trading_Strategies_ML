{
  "nbformat": 4,
  "nbformat_minor": 0,
  "metadata": {
    "colab": {
      "provenance": [],
      "collapsed_sections": [
        "wEccYf85bZFj",
        "a32sfMswbZFj",
        "5jR2JTZ-bZFm",
        "Imc4ockNbZFm",
        "y9KndxCrbZFo",
        "8CyK9-VqbZFp",
        "wi8CzM9JbZFq",
        "AXvzqjpPbZF0",
        "ZDLtlamubZGU",
        "-Ze4X5GbbZF4",
        "InnSu9i9R5gn",
        "N44tXVhK5qb8",
        "vW-7QLwbQPQi"
      ]
    },
    "kernelspec": {
      "display_name": "Python 3",
      "language": "python",
      "name": "python3"
    },
    "language_info": {
      "codemirror_mode": {
        "name": "ipython",
        "version": 3
      },
      "file_extension": ".py",
      "mimetype": "text/x-python",
      "name": "python",
      "nbconvert_exporter": "python",
      "pygments_lexer": "ipython3",
      "version": "3.7.6"
    }
  },
  "cells": [
    {
      "cell_type": "markdown",
      "metadata": {
        "id": "eSWEUFpjbZFh"
      },
      "source": [
        "# <center> Systematic Trading Strategies with Machine Learning Algorithms </center>\n",
        "\n",
        "## <center> Optional Session - Custom Loss Function\n",
        "</center>\n",
        "<center>\n",
        "<table class=\"tfo-notebook-buttons\" style=\"margin-left: auto; margin-right: auto;\">\n",
        "  <tr>\n",
        "    <td style=\"text-align: center; vertical-align: middle;\">\n",
        "      <a target=\"_blank\" href=\"https://hm-ai.github.io/Systematic_Trading_Strategies_with_Machine_Learning_Algorithms/\">\n",
        "        <img src=\"https://drive.google.com/uc?export=view&id=1hTIoxoea8RTLgKb1oE6_PFmtTNPGs5p4\" height=\"50\"/>\n",
        "        <br>Course page\n",
        "      </a>\n",
        "    </td>\n",
        "    <td style=\"text-align: center; vertical-align: middle;\">\n",
        "      <a target=\"_blank\" href=\"https://colab.research.google.com/drive/13mV0JU-4BdoSavjBRxQ7wfLnjWyMw0ao?usp=sharing\">\n",
        "        <img src=\"https://www.tensorflow.org/images/colab_logo_32px.png\" height=\"50\" />\n",
        "        <br>Run in Google Colab\n",
        "      </a>\n",
        "    </td>\n",
        "  </tr>\n",
        "</table>\n",
        "</center>"
      ]
    },
    {
      "cell_type": "markdown",
      "metadata": {
        "id": "y2tetTPX_V8V"
      },
      "source": [
        "In this Lecture we will deal with the following topics:\n",
        "\n",
        "* [x] Tensors and operations\n",
        "  * [x] Consant tensors\n",
        "  * [x] Indexing\n",
        "  * [x] Operations\n",
        "  * [x] Using backend\n",
        "  * [x] TF to Numpy and vice versa\n",
        "  * [x] Conflicting types\n",
        "  * [x] Variables\n",
        "* [x] Computing Gradients with Autodiff\n",
        "  * [x] Gradients wrt variables\n",
        "  * [x] Gradients wrt constant tensors\n",
        "  * [x] Gradients of multiple functions wrt variables\n",
        "  * [x] Stop Gradient\n",
        "* [x] Custom Loss Function\n",
        "  * [x] Position of the problem\n",
        "  * [x] Ex 3.1 Custom loss on the California Housing Dataset.\n",
        "  * [x] Custom Loss on the California Housing dataset by subclassing `keras.losses.Loss`"
      ]
    },
    {
      "cell_type": "markdown",
      "metadata": {
        "id": "9LcwDGpEbZFi"
      },
      "source": [
        "# Setup"
      ]
    },
    {
      "cell_type": "code",
      "metadata": {
        "id": "81vCBBW0bZFi"
      },
      "source": [
        "# Import Modules\n",
        "import sklearn\n",
        "import tensorflow as tf\n",
        "from tensorflow import keras\n",
        "import numpy as np\n",
        "import os\n",
        "import matplotlib.pyplot as plt\n",
        "\n",
        "# to make this notebook's output stable across runs\n",
        "np.random.seed(42)\n",
        "tf.random.set_seed(42)"
      ],
      "execution_count": null,
      "outputs": []
    },
    {
      "cell_type": "markdown",
      "metadata": {
        "id": "wEccYf85bZFj"
      },
      "source": [
        "# 1. Tensors and operations"
      ]
    },
    {
      "cell_type": "markdown",
      "metadata": {
        "id": "a32sfMswbZFj"
      },
      "source": [
        "\n",
        "### Constant Tensors"
      ]
    },
    {
      "cell_type": "markdown",
      "metadata": {
        "id": "ElVtvaV_E3Mz"
      },
      "source": [
        "Q1.1 By using `tf.constant()`\n",
        "* Create the following constant tensor of float32 numbers:\n",
        "\n",
        "  $$\n",
        "  A = \\begin{pmatrix}\n",
        "  1 & 2 \\\\\n",
        "  3 & 4\n",
        "  \\end{pmatrix}\n",
        "  $$\n",
        "\n",
        "* Print the shape and the type of $A$\n",
        "\n",
        "* Create a scalar tensor of type int and the same scalar tensor of type float32"
      ]
    },
    {
      "cell_type": "code",
      "metadata": {
        "colab": {
          "base_uri": "https://localhost:8080/"
        },
        "id": "tI0uDmRYbZFj",
        "outputId": "1b45c0c0-f602-48ba-c6e5-d8af12996340"
      },
      "source": [
        "# The constant tensor A\n",
        "A = tf.constant([[1., 2.],\n",
        "                 [3., 4.]])\n",
        "\n",
        "# Print the shape of A\n",
        "print(\"The shape of A is\", A.shape)\n",
        "\n",
        "# The type of A\n",
        "print(\"A is of type\", A.dtype)"
      ],
      "execution_count": null,
      "outputs": [
        {
          "output_type": "stream",
          "name": "stdout",
          "text": [
            "The shape of A is (2, 2)\n",
            "A is of type <dtype: 'float32'>\n"
          ]
        }
      ]
    },
    {
      "cell_type": "code",
      "metadata": {
        "colab": {
          "base_uri": "https://localhost:8080/"
        },
        "id": "V4MAXN8xGtbw",
        "outputId": "b5a24895-c89a-4137-ec12-d02f731b56da"
      },
      "source": [
        "# The scalar tensor of type int\n",
        "scalar_int = tf.constant(42)\n",
        "print(\"scalar_int is of type\", scalar_int.dtype)\n",
        "\n",
        "# The scalar tensor of type float32\n",
        "scalar_float = tf.constant(42, dtype = \"float32\")\n",
        "print(\"scalar_float is of type\", scalar_float.dtype)"
      ],
      "execution_count": null,
      "outputs": [
        {
          "output_type": "stream",
          "name": "stdout",
          "text": [
            "scalar_int is of type <dtype: 'int32'>\n",
            "scalar_float is of type <dtype: 'float32'>\n"
          ]
        }
      ]
    },
    {
      "cell_type": "markdown",
      "metadata": {
        "id": "5jR2JTZ-bZFm"
      },
      "source": [
        "### Indexing\n",
        "\n",
        "It works pretty much like NumPy"
      ]
    },
    {
      "cell_type": "markdown",
      "metadata": {
        "id": "Cu6kHA5wHrZa"
      },
      "source": [
        "Q1.2 Using `tf.constant()`\n",
        "\n",
        "* Create the following float tensor:\n",
        "\n",
        "  $$\n",
        "  B = \\begin{pmatrix}\n",
        "  1 & 2 & 3  \\\\\n",
        "  4 & 5 & 6 \\\\\n",
        "  7 & 8 & 9 \\\\\n",
        "  10 & 11 & 12\n",
        "  \\end{pmatrix}\n",
        "  $$\n",
        "\n",
        "* Create a sub-tensor C of B by taking the second and third column of B\n",
        "\n",
        "* Create a tensor D by adding a dimension 1 to C. D will be of shape (4, 2, 1)"
      ]
    },
    {
      "cell_type": "code",
      "metadata": {
        "colab": {
          "base_uri": "https://localhost:8080/"
        },
        "id": "_B4DWVKqJ5Cs",
        "outputId": "76b69780-a4c1-460e-d791-0c00052e25c0"
      },
      "source": [
        "# Create the tensor B\n",
        "B = tf.constant([[1, 2, 3],\n",
        "                 [4, 5, 6],\n",
        "                 [7, 8, 9],\n",
        "                 [10, 11, 12]], dtype = \"float32\")\n",
        "\n",
        "B"
      ],
      "execution_count": null,
      "outputs": [
        {
          "output_type": "execute_result",
          "data": {
            "text/plain": [
              "<tf.Tensor: shape=(4, 3), dtype=float32, numpy=\n",
              "array([[ 1.,  2.,  3.],\n",
              "       [ 4.,  5.,  6.],\n",
              "       [ 7.,  8.,  9.],\n",
              "       [10., 11., 12.]], dtype=float32)>"
            ]
          },
          "metadata": {},
          "execution_count": 4
        }
      ]
    },
    {
      "cell_type": "code",
      "metadata": {
        "colab": {
          "base_uri": "https://localhost:8080/"
        },
        "id": "x-BCWpqqKLuG",
        "outputId": "108100ee-b77f-4fc4-ac9c-5825a208cf9a"
      },
      "source": [
        "# Create the tensor C\n",
        "C = B[:, 1:]\n",
        "C"
      ],
      "execution_count": null,
      "outputs": [
        {
          "output_type": "execute_result",
          "data": {
            "text/plain": [
              "<tf.Tensor: shape=(4, 2), dtype=float32, numpy=\n",
              "array([[ 2.,  3.],\n",
              "       [ 5.,  6.],\n",
              "       [ 8.,  9.],\n",
              "       [11., 12.]], dtype=float32)>"
            ]
          },
          "metadata": {},
          "execution_count": 5
        }
      ]
    },
    {
      "cell_type": "code",
      "metadata": {
        "colab": {
          "base_uri": "https://localhost:8080/"
        },
        "id": "teY4hE2dKSOq",
        "outputId": "10e1d05e-b846-40e8-a4ab-90220a383ae1"
      },
      "source": [
        "# Create the tensor D\n",
        "\n",
        "D = C[:, :, tf.newaxis]\n",
        "D"
      ],
      "execution_count": null,
      "outputs": [
        {
          "output_type": "execute_result",
          "data": {
            "text/plain": [
              "<tf.Tensor: shape=(4, 2, 1), dtype=float32, numpy=\n",
              "array([[[ 2.],\n",
              "        [ 3.]],\n",
              "\n",
              "       [[ 5.],\n",
              "        [ 6.]],\n",
              "\n",
              "       [[ 8.],\n",
              "        [ 9.]],\n",
              "\n",
              "       [[11.],\n",
              "        [12.]]], dtype=float32)>"
            ]
          },
          "metadata": {},
          "execution_count": 6
        }
      ]
    },
    {
      "cell_type": "markdown",
      "metadata": {
        "id": "Imc4ockNbZFm"
      },
      "source": [
        "### Operations"
      ]
    },
    {
      "cell_type": "markdown",
      "metadata": {
        "id": "8ADuvWONdRGB"
      },
      "source": [
        "Q1.3 Using `tf.add()`, `tf.square()`, `tf.matmul()`, `tf.transpose`, `tf.multiply()`, `tf.math.log`, `tf.reduce_sum()`, `tf.reduce_mean()`, `tf.math.reduce_std()`, create the following matrices:\n",
        "\n",
        "  * $E$ where you add 1 to each component of $B$.\n",
        "\n",
        "  * $F$ where you take the square of each dimension of $B$.\n",
        "\n",
        "  * $G = B B^T$.\n",
        "\n",
        "  * $H = B \\circ B$.\n",
        "\n",
        "  * $I$ that results from taking the logarithm of each element of H.\n",
        "\n",
        "  * $S$ that results from summing all the rows of the matrix $B$ Which is equivalent to `np.mean(B, axis = 0` in NumPy.\n",
        "\n",
        "  * $B_{\\text{norm}}$ that results from normalizing the matrix B (mean of each column = 0, and std = 1)"
      ]
    },
    {
      "cell_type": "code",
      "metadata": {
        "colab": {
          "base_uri": "https://localhost:8080/"
        },
        "id": "84iQtPILfoco",
        "outputId": "4347288d-2db7-417a-a870-3c3a2a9eb720"
      },
      "source": [
        "# Computing E\n",
        "E = tf.add(B, 1)\n",
        "E"
      ],
      "execution_count": null,
      "outputs": [
        {
          "output_type": "execute_result",
          "data": {
            "text/plain": [
              "<tf.Tensor: shape=(4, 3), dtype=float32, numpy=\n",
              "array([[ 2.,  3.,  4.],\n",
              "       [ 5.,  6.,  7.],\n",
              "       [ 8.,  9., 10.],\n",
              "       [11., 12., 13.]], dtype=float32)>"
            ]
          },
          "metadata": {},
          "execution_count": 7
        }
      ]
    },
    {
      "cell_type": "code",
      "metadata": {
        "colab": {
          "base_uri": "https://localhost:8080/"
        },
        "id": "jqBFDRxHbZFn",
        "outputId": "89a8475b-8879-4e84-c9c8-0bf43ebf1936"
      },
      "source": [
        "# Matrix F = square(B)\n",
        "F = B**2\n",
        "F"
      ],
      "execution_count": null,
      "outputs": [
        {
          "output_type": "execute_result",
          "data": {
            "text/plain": [
              "<tf.Tensor: shape=(4, 3), dtype=float32, numpy=\n",
              "array([[  1.,   4.,   9.],\n",
              "       [ 16.,  25.,  36.],\n",
              "       [ 49.,  64.,  81.],\n",
              "       [100., 121., 144.]], dtype=float32)>"
            ]
          },
          "metadata": {},
          "execution_count": 8
        }
      ]
    },
    {
      "cell_type": "code",
      "metadata": {
        "colab": {
          "base_uri": "https://localhost:8080/"
        },
        "id": "qgtlfML1fbRA",
        "outputId": "039d8807-4b54-4e31-cc48-fd4d6bd88ec1"
      },
      "source": [
        "# Computing F\n",
        "F = tf.square(B)\n",
        "F"
      ],
      "execution_count": null,
      "outputs": [
        {
          "output_type": "execute_result",
          "data": {
            "text/plain": [
              "<tf.Tensor: shape=(4, 3), dtype=float32, numpy=\n",
              "array([[  1.,   4.,   9.],\n",
              "       [ 16.,  25.,  36.],\n",
              "       [ 49.,  64.,  81.],\n",
              "       [100., 121., 144.]], dtype=float32)>"
            ]
          },
          "metadata": {},
          "execution_count": 9
        }
      ]
    },
    {
      "cell_type": "code",
      "metadata": {
        "colab": {
          "base_uri": "https://localhost:8080/"
        },
        "id": "rSyVBG1Vff-7",
        "outputId": "49b985fb-231c-4d96-b650-10b97b513ce3"
      },
      "source": [
        "# Matrix G = B B^T\n",
        "G = B @ tf.transpose(B)\n",
        "G"
      ],
      "execution_count": null,
      "outputs": [
        {
          "output_type": "execute_result",
          "data": {
            "text/plain": [
              "<tf.Tensor: shape=(4, 4), dtype=float32, numpy=\n",
              "array([[ 14.,  32.,  50.,  68.],\n",
              "       [ 32.,  77., 122., 167.],\n",
              "       [ 50., 122., 194., 266.],\n",
              "       [ 68., 167., 266., 365.]], dtype=float32)>"
            ]
          },
          "metadata": {},
          "execution_count": 10
        }
      ]
    },
    {
      "cell_type": "code",
      "metadata": {
        "colab": {
          "base_uri": "https://localhost:8080/"
        },
        "id": "gzDr4GcwbZFo",
        "outputId": "371244ee-15a5-4176-c75c-216fe3dc73db"
      },
      "source": [
        "# Another way of compuyting G\n",
        "G = tf.matmul(B, tf.transpose(B))\n",
        "G"
      ],
      "execution_count": null,
      "outputs": [
        {
          "output_type": "execute_result",
          "data": {
            "text/plain": [
              "<tf.Tensor: shape=(4, 4), dtype=float32, numpy=\n",
              "array([[ 14.,  32.,  50.,  68.],\n",
              "       [ 32.,  77., 122., 167.],\n",
              "       [ 50., 122., 194., 266.],\n",
              "       [ 68., 167., 266., 365.]], dtype=float32)>"
            ]
          },
          "metadata": {},
          "execution_count": 11
        }
      ]
    },
    {
      "cell_type": "code",
      "metadata": {
        "colab": {
          "base_uri": "https://localhost:8080/"
        },
        "id": "YNe87WpYgbvw",
        "outputId": "e3743684-fcdf-4aa4-c4f4-5ed8d13a792a"
      },
      "source": [
        "# Matrix H = B \\circ B (Hadamard Product)\n",
        "H = B*B\n",
        "H"
      ],
      "execution_count": null,
      "outputs": [
        {
          "output_type": "execute_result",
          "data": {
            "text/plain": [
              "<tf.Tensor: shape=(4, 3), dtype=float32, numpy=\n",
              "array([[  1.,   4.,   9.],\n",
              "       [ 16.,  25.,  36.],\n",
              "       [ 49.,  64.,  81.],\n",
              "       [100., 121., 144.]], dtype=float32)>"
            ]
          },
          "metadata": {},
          "execution_count": 12
        }
      ]
    },
    {
      "cell_type": "code",
      "metadata": {
        "colab": {
          "base_uri": "https://localhost:8080/"
        },
        "id": "A53v4pURkTiK",
        "outputId": "e5512df2-3dfe-4732-d53d-d7c55cc82b2e"
      },
      "source": [
        "# Another way of computing H\n",
        "H = tf.multiply(B, B)\n",
        "H"
      ],
      "execution_count": null,
      "outputs": [
        {
          "output_type": "execute_result",
          "data": {
            "text/plain": [
              "<tf.Tensor: shape=(4, 3), dtype=float32, numpy=\n",
              "array([[  1.,   4.,   9.],\n",
              "       [ 16.,  25.,  36.],\n",
              "       [ 49.,  64.,  81.],\n",
              "       [100., 121., 144.]], dtype=float32)>"
            ]
          },
          "metadata": {},
          "execution_count": 13
        }
      ]
    },
    {
      "cell_type": "code",
      "metadata": {
        "colab": {
          "base_uri": "https://localhost:8080/"
        },
        "id": "DA63SDiZkaZb",
        "outputId": "d86e234c-e639-4d53-b4a9-1b27f6116003"
      },
      "source": [
        "# Matrix I = log(H)\n",
        "I = tf.math.log(H)\n",
        "I"
      ],
      "execution_count": null,
      "outputs": [
        {
          "output_type": "execute_result",
          "data": {
            "text/plain": [
              "<tf.Tensor: shape=(4, 3), dtype=float32, numpy=\n",
              "array([[0.       , 1.3862944, 2.1972246],\n",
              "       [2.7725887, 3.218876 , 3.583519 ],\n",
              "       [3.8918204, 4.158883 , 4.394449 ],\n",
              "       [4.6051702, 4.7957907, 4.9698133]], dtype=float32)>"
            ]
          },
          "metadata": {},
          "execution_count": 14
        }
      ]
    },
    {
      "cell_type": "code",
      "metadata": {
        "colab": {
          "base_uri": "https://localhost:8080/"
        },
        "id": "iVX5PjKKk8rI",
        "outputId": "06d5f30c-86c2-471a-fa11-514f8ed82e72"
      },
      "source": [
        "# Matrix S = sum(B, axis = 0)\n",
        "S = tf.reduce_sum(B, axis = 0)\n",
        "S"
      ],
      "execution_count": null,
      "outputs": [
        {
          "output_type": "execute_result",
          "data": {
            "text/plain": [
              "<tf.Tensor: shape=(3,), dtype=float32, numpy=array([22., 26., 30.], dtype=float32)>"
            ]
          },
          "metadata": {},
          "execution_count": 15
        }
      ]
    },
    {
      "cell_type": "code",
      "metadata": {
        "colab": {
          "base_uri": "https://localhost:8080/"
        },
        "id": "d_JLNN5RlMzj",
        "outputId": "d9e67271-3c13-4567-a953-e7da325af97b"
      },
      "source": [
        "# Matrix B_norm\n",
        "B_norm = (B - tf.reduce_mean(B, axis = 0, keepdims = True))/tf.math.reduce_std(B, axis = 0, keepdims = True)\n",
        "B_norm"
      ],
      "execution_count": null,
      "outputs": [
        {
          "output_type": "execute_result",
          "data": {
            "text/plain": [
              "<tf.Tensor: shape=(4, 3), dtype=float32, numpy=\n",
              "array([[-1.3416408, -1.3416408, -1.3416408],\n",
              "       [-0.4472136, -0.4472136, -0.4472136],\n",
              "       [ 0.4472136,  0.4472136,  0.4472136],\n",
              "       [ 1.3416408,  1.3416408,  1.3416408]], dtype=float32)>"
            ]
          },
          "metadata": {},
          "execution_count": 16
        }
      ]
    },
    {
      "cell_type": "markdown",
      "metadata": {
        "id": "y9KndxCrbZFo"
      },
      "source": [
        "### Using `keras.backend`"
      ]
    },
    {
      "cell_type": "code",
      "metadata": {
        "id": "8fJbxCf3b2d6"
      },
      "source": [
        "from tensorflow.keras import backend as K"
      ],
      "execution_count": null,
      "outputs": []
    },
    {
      "cell_type": "markdown",
      "metadata": {
        "id": "dyXjsLO4oQ_l"
      },
      "source": [
        "Q1.4 Calculate all the previous operations using the operations `+`, `-` and `*` or the backend `tensorflow.keras.backend`\n",
        "  * $E$ where you add 1 to each component of $B$.\n",
        "\n",
        "  * $F$ where you take the square of each dimension of $B$.\n",
        "\n",
        "  * $G = B B^T$.\n",
        "\n",
        "  * $H = B \\circ B$.\n",
        "\n",
        "  * $I$ that results from taking the logarithm of each element of H.\n",
        "\n",
        "  * $S$ that results from summing all the rows of the matrix $B$ Which is equivalent to `np.mean(B, axis = 0` in NumPy.\n",
        "\n",
        "  * $B_{\\text{norm}}$ that results from normalizing the matrix B (mean of each column = 0, and std = 1)"
      ]
    },
    {
      "cell_type": "code",
      "metadata": {
        "colab": {
          "base_uri": "https://localhost:8080/"
        },
        "id": "_iKwUwSzzMNV",
        "outputId": "10343418-7ffb-404d-abca-a32ff52cddee"
      },
      "source": [
        "# Matrix E = B + 1\n",
        "E = B + 1\n",
        "E"
      ],
      "execution_count": null,
      "outputs": [
        {
          "output_type": "execute_result",
          "data": {
            "text/plain": [
              "<tf.Tensor: shape=(4, 3), dtype=float32, numpy=\n",
              "array([[ 2.,  3.,  4.],\n",
              "       [ 5.,  6.,  7.],\n",
              "       [ 8.,  9., 10.],\n",
              "       [11., 12., 13.]], dtype=float32)>"
            ]
          },
          "metadata": {},
          "execution_count": 18
        }
      ]
    },
    {
      "cell_type": "code",
      "metadata": {
        "colab": {
          "base_uri": "https://localhost:8080/"
        },
        "id": "u-LXr8gWzf4g",
        "outputId": "64bd6f65-203b-4d52-c433-a16e35622f0c"
      },
      "source": [
        "# Matrix F = B**2\n",
        "F = B**2\n",
        "F"
      ],
      "execution_count": null,
      "outputs": [
        {
          "output_type": "execute_result",
          "data": {
            "text/plain": [
              "<tf.Tensor: shape=(4, 3), dtype=float32, numpy=\n",
              "array([[  1.,   4.,   9.],\n",
              "       [ 16.,  25.,  36.],\n",
              "       [ 49.,  64.,  81.],\n",
              "       [100., 121., 144.]], dtype=float32)>"
            ]
          },
          "metadata": {},
          "execution_count": 19
        }
      ]
    },
    {
      "cell_type": "code",
      "metadata": {
        "colab": {
          "base_uri": "https://localhost:8080/"
        },
        "id": "OdBallvrzqIA",
        "outputId": "43ee385d-3f0f-48a8-f6e1-b27220942e61"
      },
      "source": [
        "# Matrix G = B B^T\n",
        "G = K.dot(B, K.transpose(B))\n",
        "G"
      ],
      "execution_count": null,
      "outputs": [
        {
          "output_type": "execute_result",
          "data": {
            "text/plain": [
              "<tf.Tensor: shape=(4, 4), dtype=float32, numpy=\n",
              "array([[ 14.,  32.,  50.,  68.],\n",
              "       [ 32.,  77., 122., 167.],\n",
              "       [ 50., 122., 194., 266.],\n",
              "       [ 68., 167., 266., 365.]], dtype=float32)>"
            ]
          },
          "metadata": {},
          "execution_count": 20
        }
      ]
    },
    {
      "cell_type": "code",
      "metadata": {
        "colab": {
          "base_uri": "https://localhost:8080/"
        },
        "id": "EJNgfMNZz4kO",
        "outputId": "9ad2146c-5b5a-477d-f8d6-f49145388cb3"
      },
      "source": [
        "# Matrix H = B \\circ B\n",
        "H = B*B\n",
        "H"
      ],
      "execution_count": null,
      "outputs": [
        {
          "output_type": "execute_result",
          "data": {
            "text/plain": [
              "<tf.Tensor: shape=(4, 3), dtype=float32, numpy=\n",
              "array([[  1.,   4.,   9.],\n",
              "       [ 16.,  25.,  36.],\n",
              "       [ 49.,  64.,  81.],\n",
              "       [100., 121., 144.]], dtype=float32)>"
            ]
          },
          "metadata": {},
          "execution_count": 21
        }
      ]
    },
    {
      "cell_type": "code",
      "metadata": {
        "colab": {
          "base_uri": "https://localhost:8080/"
        },
        "id": "JsaT_G6y0BI3",
        "outputId": "970a2b1c-bbd3-48a3-e453-138823fab452"
      },
      "source": [
        "# Matrix I = Log(H)\n",
        "I = K.log(H)\n",
        "I"
      ],
      "execution_count": null,
      "outputs": [
        {
          "output_type": "execute_result",
          "data": {
            "text/plain": [
              "<tf.Tensor: shape=(4, 3), dtype=float32, numpy=\n",
              "array([[0.       , 1.3862944, 2.1972246],\n",
              "       [2.7725887, 3.218876 , 3.583519 ],\n",
              "       [3.8918204, 4.158883 , 4.394449 ],\n",
              "       [4.6051702, 4.7957907, 4.9698133]], dtype=float32)>"
            ]
          },
          "metadata": {},
          "execution_count": 22
        }
      ]
    },
    {
      "cell_type": "code",
      "metadata": {
        "colab": {
          "base_uri": "https://localhost:8080/"
        },
        "id": "cz5wH-zg0JqP",
        "outputId": "1a1cbc83-072d-4744-d17b-515ca7994dc1"
      },
      "source": [
        "# S = sum(B, axis = 0)\n",
        "S = K.sum(B, axis = 0)\n",
        "S"
      ],
      "execution_count": null,
      "outputs": [
        {
          "output_type": "execute_result",
          "data": {
            "text/plain": [
              "<tf.Tensor: shape=(3,), dtype=float32, numpy=array([22., 26., 30.], dtype=float32)>"
            ]
          },
          "metadata": {},
          "execution_count": 23
        }
      ]
    },
    {
      "cell_type": "code",
      "metadata": {
        "colab": {
          "base_uri": "https://localhost:8080/"
        },
        "id": "31W3YBWOzsk-",
        "outputId": "cf8ed749-e01f-4231-d4f3-4635a069af2b"
      },
      "source": [
        "# B_norm\n",
        "B_norm = (B - K.mean(B, axis = 0, keepdims = True))/K.std(B, axis = 0, keepdims = True)\n",
        "B_norm"
      ],
      "execution_count": null,
      "outputs": [
        {
          "output_type": "execute_result",
          "data": {
            "text/plain": [
              "<tf.Tensor: shape=(4, 3), dtype=float32, numpy=\n",
              "array([[-1.3416408, -1.3416408, -1.3416408],\n",
              "       [-0.4472136, -0.4472136, -0.4472136],\n",
              "       [ 0.4472136,  0.4472136,  0.4472136],\n",
              "       [ 1.3416408,  1.3416408,  1.3416408]], dtype=float32)>"
            ]
          },
          "metadata": {},
          "execution_count": 24
        }
      ]
    },
    {
      "cell_type": "markdown",
      "metadata": {
        "id": "8CyK9-VqbZFp"
      },
      "source": [
        "### TF to NumPy and vice versa"
      ]
    },
    {
      "cell_type": "markdown",
      "metadata": {
        "id": "R5rXrIEwAnix"
      },
      "source": [
        "It is straightforward to go from TF to NumPy and vice versa."
      ]
    },
    {
      "cell_type": "markdown",
      "metadata": {
        "id": "8V00Hj1y_s6m"
      },
      "source": [
        "Q1.5 By using `tensor.numpy()` and `tf.constant()`:\n",
        "\n",
        "* Create a random numpy array X of shape (2, 2) of float numbers.\n",
        "* Convert X into a constant tensor\n",
        "* What is the default precision of a constant tensor created from a numpy array ?\n",
        "* Create a constant tensor Y\n",
        "* Convert it into a numpy array\n",
        "* What is the precision of the resulting numpy array Y ?"
      ]
    },
    {
      "cell_type": "code",
      "metadata": {
        "colab": {
          "base_uri": "https://localhost:8080/"
        },
        "id": "h7BD99gabZFp",
        "outputId": "7873d127-fd71-4e62-afef-af721c5fa966"
      },
      "source": [
        "# Create a random numpy array\n",
        "X_numpy = np.random.random((2, 2))\n",
        "\n",
        "# Convert it into a constant tensor\n",
        "X_tensor = tf.constant(X_numpy)\n",
        "\n",
        "# Print the precision of the resulting tensor\n",
        "print(\"The default precision of numpy arrays is {}\".format(X_tensor.dtype))\n",
        "\n",
        "# Create a constant tensor\n",
        "Y_tensor = tf.constant([[1., 2.], [3., 4.]])\n",
        "\n",
        "# Re-convert it into a numpy array\n",
        "Y_numpy = Y_tensor.numpy()\n",
        "# Print the precision of the resulting numpy array\n",
        "print(\"The default precision of TF constant tensors is {}\".format(Y_numpy.dtype))"
      ],
      "execution_count": null,
      "outputs": [
        {
          "output_type": "stream",
          "name": "stdout",
          "text": [
            "The default precision of numpy arrays is <dtype: 'float64'>\n",
            "The default precision of TF constant tensors is float32\n"
          ]
        }
      ]
    },
    {
      "cell_type": "markdown",
      "metadata": {
        "id": "y7gDapJMJwcw"
      },
      "source": [
        "**When creating a tensor from a NumPy array, make sure to set `dtype = tf.float32`**, this precision is more than enough for neural networks"
      ]
    },
    {
      "cell_type": "markdown",
      "metadata": {
        "id": "wi8CzM9JbZFq"
      },
      "source": [
        "### Conflicting Types"
      ]
    },
    {
      "cell_type": "markdown",
      "metadata": {
        "id": "7WGfeVoPKSCx"
      },
      "source": [
        "Q1.6 Try to add X_tensor and Y_tensor"
      ]
    },
    {
      "cell_type": "code",
      "metadata": {
        "colab": {
          "base_uri": "https://localhost:8080/"
        },
        "id": "mKzVbUKFbZFq",
        "outputId": "c32f5f8e-c1b9-4e67-d0d8-53fff53ef1b1"
      },
      "source": [
        "try:\n",
        "    X_tensor + Y_tensor\n",
        "except tf.errors.InvalidArgumentError as ex:\n",
        "    print(ex)"
      ],
      "execution_count": null,
      "outputs": [
        {
          "output_type": "stream",
          "name": "stdout",
          "text": [
            "cannot compute AddV2 as input #1(zero-based) was expected to be a double tensor but is a float tensor [Op:AddV2] name: \n"
          ]
        }
      ]
    },
    {
      "cell_type": "markdown",
      "metadata": {
        "id": "1Jm_qPNuKx5I"
      },
      "source": [
        "Q1.7 Use `tf.cast()` to convert X_tensor into a float32 and add it to Y_tensor"
      ]
    },
    {
      "cell_type": "code",
      "metadata": {
        "colab": {
          "base_uri": "https://localhost:8080/"
        },
        "id": "S4IlrUp5bZFq",
        "outputId": "82df8c9e-e295-45e2-af51-18c7d1939c62"
      },
      "source": [
        "tf.cast(X_tensor, dtype = tf.float32) + Y_tensor"
      ],
      "execution_count": null,
      "outputs": [
        {
          "output_type": "execute_result",
          "data": {
            "text/plain": [
              "<tf.Tensor: shape=(2, 2), dtype=float32, numpy=\n",
              "array([[1.3745401, 2.9507143],\n",
              "       [3.731994 , 4.5986586]], dtype=float32)>"
            ]
          },
          "metadata": {},
          "execution_count": 27
        }
      ]
    },
    {
      "cell_type": "markdown",
      "metadata": {
        "id": "AXvzqjpPbZF0"
      },
      "source": [
        "### Variables"
      ]
    },
    {
      "cell_type": "markdown",
      "metadata": {
        "id": "pSyHljjzOj70"
      },
      "source": [
        "We cannot use immutable tensors to implement the weights of a neural network since they need to be updated by backpropagation. Instead, we use `tf.Variable`\n",
        "\n",
        "We have the same properties as the other tensors. It can also be modified in place using `assign()`\n",
        "\n",
        "For instance, $ X \\leftarrow X + 1 $ is equivalent to `X.assign(X+1)`"
      ]
    },
    {
      "cell_type": "markdown",
      "metadata": {
        "id": "9061AzadWsWR"
      },
      "source": [
        "Q1.7 We want to minimize the loss function $ x \\mapsto x^2$.\n",
        "\n",
        "* Initialize the minimizer x_star randomly\n",
        "* Perform a Gradient Descent by using a learning rate $\\eta = 10^{-2}$\n",
        "\n",
        "  $$x^* \\leftarrow  x^* - 2  \\eta x^*$$\n",
        "\n",
        "* Plot the loss at each update of x_star"
      ]
    },
    {
      "cell_type": "code",
      "metadata": {
        "colab": {
          "base_uri": "https://localhost:8080/",
          "height": 641
        },
        "id": "AbOCN9rmbZF1",
        "outputId": "9cbcf704-7ecd-4489-fe0f-5673eb4b77ef"
      },
      "source": [
        "# Learning rate\n",
        "eta = 1e-2\n",
        "# Initialize x_star\n",
        "x_star = tf.Variable(np.random.random(1), dtype = tf.float32)\n",
        "# Gradient Descent\n",
        "losses = []\n",
        "for i in range(1000):\n",
        "  # Update equation\n",
        "  x_star.assign(x_star - 2*eta*x_star)\n",
        "  # Compute loss\n",
        "  loss = tf.square(x_star)\n",
        "  # Append losses\n",
        "  losses.append(loss.numpy()[0])\n",
        "# Plot the losses\n",
        "plt.figure(figsize = (10, 7))\n",
        "plt.plot(losses)\n",
        "plt.xlabel(\"iteration\")\n",
        "plt.ylabel(\"loss\")\n",
        "plt.title(\"Gradient Descent\")\n",
        "plt.show()"
      ],
      "execution_count": null,
      "outputs": [
        {
          "output_type": "display_data",
          "data": {
            "text/plain": [
              "<Figure size 1000x700 with 1 Axes>"
            ],
            "image/png": "[encoded data removed]"
          },
          "metadata": {}
        }
      ]
    },
    {
      "cell_type": "markdown",
      "metadata": {
        "id": "ZDLtlamubZGU"
      },
      "source": [
        "# 2. Computing Gradients with Autodiff"
      ]
    },
    {
      "cell_type": "markdown",
      "metadata": {
        "id": "5lCGmFNNGfd-"
      },
      "source": [
        "### Gradients wrt variables"
      ]
    },
    {
      "cell_type": "markdown",
      "metadata": {
        "id": "0u3ERsal96al"
      },
      "source": [
        "\n",
        "Let us consider $a \\in \\mathbb{R}^{d_1}$ and $A \\in \\mathbb{R}^{d_2 \\times d_2}$. Let us also consider the following function: $f: (w_1, w_2) \\in \\mathbb{R}^{d_1} \\times \\mathbb{R}^{d_2} \\mapsto  a^T w_1  + w_2^T A w_2$\n",
        "\n",
        "We know that $\\nabla f(w_1) = a$ and $\\nabla f(w_2) = A w_2 + A^T w_2$\n",
        "\n",
        "* Create two constant tensors a and A.\n",
        "* Compute $\\nabla f(w_1)$ and $\\nabla f(w_2)$ using  the following code:\n",
        "  ```python\n",
        "  with tf.GradientTape() as tape:\n",
        "    z = f(w_1, w_2)\n",
        "  grad_w_1, grad_w_2 = tape.gradient(z, [w_1, w_2])\n",
        "  ```\n",
        "* Compare the analytical expressions of the gradients and the computational gradients\n"
      ]
    },
    {
      "cell_type": "code",
      "metadata": {
        "colab": {
          "base_uri": "https://localhost:8080/"
        },
        "id": "uu3CPkcS953P",
        "outputId": "c94b064a-aeb6-44b3-a9f6-9c3abe5cef07"
      },
      "source": [
        "# Hyperparameters\n",
        "d_1 = 128\n",
        "d_2 = 256\n",
        "\n",
        "# Define the constant matrices a and A\n",
        "a = tf.constant(np.random.randn(d_1, 1), dtype = tf.float32)\n",
        "A = tf.constant(np.random.randn(d_2, d_2), dtype = tf.float32)\n",
        "\n",
        "\n",
        "# Define f\n",
        "def f(w_1, w_2):\n",
        "  return tf.add(tf.matmul(tf.transpose(a), w_1), tf.matmul(tf.transpose(w_2), tf.matmul(A, w_2)))\n",
        "\n",
        "\n",
        "# Compute the gradients\n",
        "w_1 = tf.Variable(np.random.randn(d_1, 1), dtype = tf.float32)\n",
        "w_2 = tf.Variable(np.random.randn(d_2, 1), dtype = tf.float32)\n",
        "with tf.GradientTape() as tape:\n",
        "  z = f(w_1, w_2)\n",
        "grad_w_1, grad_w_2 = tape.gradient(z, [w_1, w_2])\n",
        "\n",
        "\n",
        "# Analytical expressions of gradiends\n",
        "analytical_grad_w_1 = a\n",
        "analytical_grad_w_2 = tf.add(tf.matmul(A, w_2), tf.matmul(tf.transpose(A), w_2))\n",
        "\n",
        "# Print results\n",
        "diff_grads_w_1 = tf.reduce_sum(analytical_grad_w_1 - grad_w_1).numpy()\n",
        "print(\"The difference between the analytical and the computational gradient wrt w_1 is \", diff_grads_w_1)\n",
        "\n",
        "diff_grads_w_2 = tf.reduce_sum(analytical_grad_w_2 - grad_w_2).numpy()\n",
        "print(\"The difference between the analytical and the computational gradient wrt w_2 is \", diff_grads_w_2)"
      ],
      "execution_count": null,
      "outputs": [
        {
          "output_type": "stream",
          "name": "stdout",
          "text": [
            "The difference between the analytical and the computational gradient wrt w_1 is  0.0\n",
            "The difference between the analytical and the computational gradient wrt w_2 is  4.6491623e-05\n"
          ]
        }
      ]
    },
    {
      "cell_type": "markdown",
      "metadata": {
        "id": "pgh41TjnGmpu"
      },
      "source": [
        "### Gradients wrt constant tensors"
      ]
    },
    {
      "cell_type": "markdown",
      "metadata": {
        "id": "gO3JlqD30lcr"
      },
      "source": [
        "\n",
        "---\n",
        "Remarks:\n",
        "\n",
        "* The tape is automatically erased immediately after you call its `gradient()` method. If you call the method twice, you will get a RunTime Error.\n",
        "* If you need to call the `gradient` more that once, use `tf.GradientTape(persistent = True)` and delete the tape using `del tape` when you're done.\n",
        "* The tape will only track operations involving variables. Any gradient wrt other than a variable will return None, unless you force the tape to watch it using `tape.watch()`\n",
        "\n",
        "---\n",
        "\n",
        "* Create the following function $g: (w, \\lambda) \\in \\mathbb{R}^d \\times \\mathbb{R} \\mapsto w^T a + \\lambda ||w||^2$ where a and $\\lambda$ are constant tensors and $w$ a Variable tensor. Then compute the gradient of g wrt lambda and $w$ and compare to the analytical expressions of these tensors"
      ]
    },
    {
      "cell_type": "code",
      "metadata": {
        "colab": {
          "base_uri": "https://localhost:8080/"
        },
        "id": "BfzBJPP_jjvj",
        "outputId": "44f96a32-c818-4fb4-97a6-d228023eac24"
      },
      "source": [
        "# Hyperparameters\n",
        "d = 128\n",
        "\n",
        "# Create the constant tensors\n",
        "a = tf.constant(np.random.randn(d, 1), dtype = tf.float32)\n",
        "lambda_value = tf.constant(1e-4)\n",
        "\n",
        "# create the function g\n",
        "def g(w, lambda_value):\n",
        "  return tf.add(tf.matmul(tf.transpose(w), a), lambda_value*tf.matmul(tf.transpose(w), w))\n",
        "\n",
        "# Take the gradient wrt w\n",
        "\n",
        "w = tf.Variable(np.random.randn(d, 1), dtype = tf.float32)\n",
        "with tf.GradientTape() as tape:\n",
        "  tape.watch(lambda_value)\n",
        "  z = g(w, lambda_value)\n",
        "\n",
        "grad_w, grad_lambda = tape.gradient(z, [w, lambda_value])\n",
        "\n",
        "\n",
        "# Analytical expressions of gradiends\n",
        "# grad_w = a + 2 lambda w\n",
        "# grad_lambda = w^T w\n",
        "analytical_grad_w = a + 2*lambda_value*w\n",
        "analytical_grad_lambda = tf.transpose(w) @ w\n",
        "\n",
        "# Print result\n",
        "diff_grad_w = tf.reduce_sum(analytical_grad_w - grad_w).numpy()\n",
        "print(\"The difference between the analytical and computational result of the gradient wrt w is: \", diff_grad_w)\n",
        "\n",
        "diff_grad_lambda = tf.reduce_sum(analytical_grad_lambda - grad_lambda).numpy()\n",
        "print(\"The difference between the analytical and computational result of the gradient wrt lambda is: \", diff_grad_lambda)"
      ],
      "execution_count": null,
      "outputs": [
        {
          "output_type": "stream",
          "name": "stdout",
          "text": [
            "The difference between the analytical and computational result of the gradient wrt w is:  2.4959445e-07\n",
            "The difference between the analytical and computational result of the gradient wrt lambda is:  0.0\n"
          ]
        }
      ]
    },
    {
      "cell_type": "markdown",
      "metadata": {
        "id": "7zPlOb49GtTP"
      },
      "source": [
        "### Gradients of multiple functions wrt variables"
      ]
    },
    {
      "cell_type": "markdown",
      "metadata": {
        "id": "ytV5CZZ0C_se"
      },
      "source": [
        "* Create 3 easy functions $z_1, z_2, z_3$ of two variables $w_1, w_2$. And show that the following code computes the gradient of $z_1 + z_2 + z_3$ instead of the three gradients.\n",
        "  ```python\n",
        "  with tf.GradientTape() as tape:\n",
        "    z_1 = f(w_1, w_2)\n",
        "    z_2 = g(w_1, w_2)\n",
        "    z_3 = h(w_1, w_2)\n",
        "  tape.gradient([z_1, z_2, z_3], [w_1, w_2])\n",
        "  ```"
      ]
    },
    {
      "cell_type": "code",
      "metadata": {
        "colab": {
          "base_uri": "https://localhost:8080/"
        },
        "id": "jSbwE-eZjjyM",
        "outputId": "6019ed15-d794-46f6-c621-d1260bdebd07"
      },
      "source": [
        "# gradient of [z_1, z_2, z_3] wrt [w_1, w_2]\n",
        "w_1, w_2 = tf.Variable(3.), tf.Variable(5.)\n",
        "\n",
        "with tf.GradientTape() as tape:\n",
        "  z_1 = w_1**2 - 3*w_2\n",
        "  z_2 = w_1**3 - 2*w_2\n",
        "  z_3 = w_1**4 + w_2\n",
        "\n",
        "grad = tape.gradient([z_1, z_2, z_3], [w_1, w_2])\n",
        "\n",
        "# gradient of sum_i z_i with respect to [w_1, w_2]\n",
        "w_1, w_2 = tf.Variable(3.), tf.Variable(5.)\n",
        "\n",
        "with tf.GradientTape() as tape:\n",
        "  z_1 = w_1**2 - 3*w_2\n",
        "  z_2 = w_1**3 - 2*w_2\n",
        "  z_3 = w_1**4 + w_2\n",
        "  z_4 = z_1 + z_2 + z_3\n",
        "\n",
        "grad_sum = tape.gradient(z_4, [w_1, w_2])\n",
        "\n",
        "# Show it's the same gradient computed:\n",
        "tf.equal(grad, grad_sum)"
      ],
      "execution_count": null,
      "outputs": [
        {
          "output_type": "execute_result",
          "data": {
            "text/plain": [
              "<tf.Tensor: shape=(2,), dtype=bool, numpy=array([ True,  True])>"
            ]
          },
          "metadata": {},
          "execution_count": 31
        }
      ]
    },
    {
      "cell_type": "markdown",
      "metadata": {
        "id": "YU-cvE6nFawG"
      },
      "source": [
        "* by adding the argument `persistent = True` to `tf.GradientTape()` compute all the three gradients (of shape (2,)) and stack them to get a tensor of shape (3, 2)\n",
        "\n",
        "* Sum according to the `axis = 0` to get the previous gradient"
      ]
    },
    {
      "cell_type": "code",
      "metadata": {
        "colab": {
          "base_uri": "https://localhost:8080/"
        },
        "id": "oEg3sdx33jGd",
        "outputId": "7686c784-ae84-4de1-bbe0-9e19b4a62828"
      },
      "source": [
        "w_1, w_2 = tf.Variable(3.), tf.Variable(5.)\n",
        "\n",
        "with tf.GradientTape(persistent = True) as tape:\n",
        "  z_1 = w_1**2 - 3*w_2\n",
        "  z_2 = w_1**3 - 2*w_2\n",
        "  z_3 = w_1**4 + w_2\n",
        "\n",
        "# Stack the 3 gradient vectors of shape (2,)\n",
        "gradients = tf.stack([tape.gradient(z, [w_1, w_2]) for z in [z_1, z_2, z_3]], axis = 0)\n",
        "del tape\n",
        "\n",
        "# Sum of gradient\n",
        "sum_gradients = tf.reduce_sum(gradients, axis = 0)\n",
        "tf.equal(grad, sum_gradients)"
      ],
      "execution_count": null,
      "outputs": [
        {
          "output_type": "execute_result",
          "data": {
            "text/plain": [
              "<tf.Tensor: shape=(2,), dtype=bool, numpy=array([ True,  True])>"
            ]
          },
          "metadata": {},
          "execution_count": 32
        }
      ]
    },
    {
      "cell_type": "markdown",
      "metadata": {
        "id": "964KcdovG3bD"
      },
      "source": [
        "### Stop Gradient"
      ]
    },
    {
      "cell_type": "markdown",
      "metadata": {
        "id": "OagMjGsJG7_2"
      },
      "source": [
        "We would like to stop gradients from backpropagating through some part of neural network. For that, we use `tf.stop_gradient()`. The function returns its input during **forward propagation** and does not let gradients through during backpropagation\n",
        "\n",
        "* Create the following function $f (w_1, w_2) \\mapsto w_1^2 - w_1 w_2$ with the stop gradient function applied to the part $ - w_1 w2$\n",
        "\n",
        "For values $w_1 = 2$ and $w_2 = -1$, we should expect $f(w_1, w_2) = 6$ and $\\nabla f(w_1) = 4$"
      ]
    },
    {
      "cell_type": "code",
      "metadata": {
        "colab": {
          "base_uri": "https://localhost:8080/"
        },
        "id": "_9YYlGu43jJF",
        "outputId": "eebc545d-8c7b-452e-ac58-ed5c9cddaf57"
      },
      "source": [
        "# Define the function f with the stop gradient\n",
        "def f(w_1, w_2):\n",
        "  return w_1**2 + tf.stop_gradient(- w_1*w_2)\n",
        "\n",
        "# Compute gradient\n",
        "w_1, w_2 = tf.Variable(2.), tf.Variable(-1.)\n",
        "\n",
        "with tf.GradientTape() as tape:\n",
        "  z = f(w_1, w_2)\n",
        "  print(\"The value of f(w_1, w_2) is : \", z.numpy())\n",
        "\n",
        "grad_w_1, grad_w_2 = tape.gradient(z, [w_1, w_2]) # grad_w_2 : None\n",
        "print(\"The gradient wrt w_1 is \", grad_w_1.numpy())"
      ],
      "execution_count": null,
      "outputs": [
        {
          "output_type": "stream",
          "name": "stdout",
          "text": [
            "The value of f(w_1, w_2) is :  6.0\n",
            "The gradient wrt w_1 is  4.0\n"
          ]
        }
      ]
    },
    {
      "cell_type": "markdown",
      "metadata": {
        "id": "-Ze4X5GbbZF4"
      },
      "source": [
        "# 3. Custom Loss Function"
      ]
    },
    {
      "cell_type": "markdown",
      "metadata": {
        "id": "InnSu9i9R5gn"
      },
      "source": [
        "### Position of the problem"
      ]
    },
    {
      "cell_type": "markdown",
      "metadata": {
        "id": "TQ_TTqmFre_d"
      },
      "source": [
        "What if the loss we want to use is not available in Keras API ?\n",
        "\n",
        "\n",
        "* Imagine we are performing a regression task on a noisy dataset.\n",
        "\n",
        "  * If we use the mse as a loss, the outliers will affect our training resulting in an imprecise model.\n",
        "\n",
        "  * If we use the mae as a loss, our training might take a while before it converges.\n",
        "\n",
        "* One way of handling this issue is to introduce the **Huber Loss** which has a quadratic loss for \"normal\" values and a linear loss for outliers.\n",
        "\n",
        "---\n",
        "Let $y$ and $p$ be the target tensor and the output tensor, both of shape $(n_{\\mathcal{B}},)$ (the batch size)\n",
        "\n",
        "We define the **Huber Loss** as follows:\n",
        "\n",
        "\n",
        "$$ \\mathcal{L}_{\\epsilon}(y, p) = \\frac{1}{n_{\\mathcal{B}}} \\sum\\limits_{i \\in \\mathcal{B}} \\left( \\underbrace{(\\epsilon |y_i - p_i| - \\frac{1}{2} \\epsilon^2) \\mathbb{1}_{ \\{|y_i - p_i| \\geq \\epsilon \\}} + \\frac{1}{2} (y_i - p_i)^2 \\mathbb{1}_{ \\{|y_i - p_i| < \\epsilon \\}}}_{\\mathcal{\\mathcal{L}_{\\epsilon}(y_i, p_i)}} \\right) $$\n",
        "\n",
        "---\n",
        "\n"
      ]
    },
    {
      "cell_type": "markdown",
      "metadata": {
        "id": "N44tXVhK5qb8"
      },
      "source": [
        "### Ex 3.1 Custom loss on the California Housing Dataset.\n",
        "\n",
        "\n"
      ]
    },
    {
      "cell_type": "markdown",
      "metadata": {
        "id": "4K-WMJAb5s9r"
      },
      "source": [
        "* Load the dataset `fetch_california_housing` from `sklearn.datasets`\n",
        "* Split the data into train and test using `train_test_split` from `sklearn.model_selection` and scale your data using`StandardScaler` from `sklearn.preprocessing`\n",
        "* Define the Huber loss function called `huber_loss` (on each instance) and define a function called `define_huber_loss` that takes as input $\\epsilon$ and that returns your loss $\\mathcal{L}_{\\epsilon}$\n",
        "* Plot the Huber Loss $\\mathcal{L}_{\\epsilon}(0, .)$ for $\\epsilon \\in \\{0.5, 1, 2 \\}$\n",
        "* Create a basic Neural Network with one hidden layer\n",
        "* Compile and fit your model by specifying the new loss for $\\epsilon = 1.0$\n",
        "* Plot the training and validation loss\n",
        "* Save your model using `model.save(\"model.h5\")`\n",
        "* Load your model. Notice that you have to specify the threshold $\\epsilon$ as follows:\n",
        "  ```python\n",
        "  model = load_model(\"model.h5\",\n",
        "                    custom_objects = {\"huber_loss\" : def_huber_loss(1.)}\n",
        "  ```\n",
        "* Evaluate your model on the test data"
      ]
    },
    {
      "cell_type": "code",
      "metadata": {
        "colab": {
          "base_uri": "https://localhost:8080/",
          "height": 1000
        },
        "id": "1QHR1FNB6DK4",
        "outputId": "d620468d-86c3-4af6-b235-d4ec95c4c888"
      },
      "source": [
        "# Import Modules\n",
        "import numpy as np\n",
        "import matplotlib.pyplot as plt\n",
        "\n",
        "from sklearn.datasets import fetch_california_housing\n",
        "from sklearn.model_selection import train_test_split\n",
        "from sklearn.preprocessing import StandardScaler\n",
        "\n",
        "import tensorflow as tf\n",
        "from tensorflow.keras.models import Sequential\n",
        "from tensorflow.keras.layers import Dense\n",
        "from tensorflow.keras.models import load_model\n",
        "\n",
        "# Fix the seed\n",
        "tf.random.set_seed(42)\n",
        "np.random.seed(42)\n",
        "\n",
        "# Hyperparameters\n",
        "HIDDEN_SIZE = 32\n",
        "BATCH_SIZE = 128\n",
        "EPOCHS = 20\n",
        "\n",
        "# Load the data\n",
        "dataset = fetch_california_housing()\n",
        "X_train, X_test, y_train, y_test = train_test_split(dataset.data, # Features (N, D)\n",
        "                                                    dataset.target[:, None], # Targets reshapes (N, 1)\n",
        "                                                    random_state = 42) # To fix the seed\n",
        "# Scale the data\n",
        "scaler = StandardScaler()\n",
        "X_train = scaler.fit_transform(X_train)\n",
        "X_test = scaler.transform(X_test)\n",
        "\n",
        "\n",
        "# Define the Huber Loss\n",
        "def define_huber_loss(epsilon = 1.0):\n",
        "  def huber_loss(y, p):\n",
        "    error = tf.abs(y-p)\n",
        "    condition = error < epsilon\n",
        "    quadratic_loss = (1/2)*(error**2)\n",
        "    linear_loss = epsilon*error - (1/2)*(epsilon**2)\n",
        "    return tf.where(condition, quadratic_loss, linear_loss)\n",
        "  return huber_loss\n",
        "\n",
        "# Plot the Huber Loss\n",
        "plt.figure(figsize=(10, 5))\n",
        "z = np.linspace(-5, 5, 200)\n",
        "plt.plot(z, define_huber_loss(epsilon=0.5)(0, z), \"y-\", linewidth=2, label=\"$\\epsilon = 0.5$\")\n",
        "plt.plot(z, define_huber_loss(epsilon=1.0)(0, z), \"b-\", linewidth=2, label=\"$\\epsilon = 1.$\")\n",
        "plt.plot(z, define_huber_loss(epsilon=2.0)(0, z), \"g-\", linewidth=2, label=\"$\\epsilon = 2.$\")\n",
        "plt.axis([-5, 5, 0, 5])\n",
        "plt.grid(True)\n",
        "plt.xlabel(\"$z$\")\n",
        "plt.legend(fontsize=14)\n",
        "plt.title(\"Huber loss\", fontsize=14)\n",
        "plt.show()\n",
        "\n",
        "# Create a basic Neural Network\n",
        "model = Sequential([Dense(HIDDEN_SIZE, activation = \"relu\", input_shape = (X_train.shape[1],)),\n",
        "                    Dense(1)])\n",
        "\n",
        "model.summary()\n",
        "\n",
        "# Compile the model\n",
        "model.compile(optimizer = \"adam\",\n",
        "              loss = define_huber_loss(1.0),\n",
        "              metrics = [\"mae\"])\n",
        "\n",
        "# Fit the model to the data\n",
        "history = model.fit(X_train, y_train,\n",
        "                    batch_size = BATCH_SIZE,\n",
        "                    epochs = EPOCHS,\n",
        "                    validation_split = 0.33,\n",
        "                    verbose = 0)\n",
        "\n",
        "# Plot the training and validation loss\n",
        "plt.figure(figsize = (10, 5))\n",
        "plt.plot(history.history[\"loss\"], \"b-\", linewidth = 2.0, label = \"training loss\")\n",
        "plt.plot(history.history[\"val_loss\"], \"r--\", linewidth = 2.0, label = \"validation_loss\")\n",
        "plt.xlabel(\"epochs\")\n",
        "plt.ylabel(\"loss\")\n",
        "plt.legend()\n",
        "plt.title(\"Training and Validation Loss\")\n",
        "plt.show()\n",
        "\n",
        "# Save the model\n",
        "model.save(\"model.h5\")\n",
        "\n",
        "# Load the model\n",
        "model_loaded = load_model(\"model.h5\",\n",
        "                          custom_objects = {\"huber_loss\" : define_huber_loss(1.0)})\n",
        "\n",
        "# Evaluate the model\n",
        "loss, mae = model_loaded.evaluate(X_test, y_test,\n",
        "                                  verbose = 0)\n",
        "print(\"The mae of the test data is\", mae)"
      ],
      "execution_count": null,
      "outputs": [
        {
          "output_type": "display_data",
          "data": {
            "text/plain": [
              "<Figure size 1000x500 with 1 Axes>"
            ],
            "image/png": "[encoded data removed]"
          },
          "metadata": {}
        },
        {
          "output_type": "stream",
          "name": "stderr",
          "text": [
            "/usr/local/lib/python3.11/dist-packages/keras/src/layers/core/dense.py:87: UserWarning: Do not pass an `input_shape`/`input_dim` argument to a layer. When using Sequential models, prefer using an `Input(shape)` object as the first layer in the model instead.\n",
            "  super().__init__(activity_regularizer=activity_regularizer, **kwargs)\n"
          ]
        },
        {
          "output_type": "display_data",
          "data": {
            "text/plain": [
              "\u001b[1mModel: \"sequential\"\u001b[0m\n"
            ],
            "text/html": [
              "<pre style=\"white-space:pre;overflow-x:auto;line-height:normal;font-family:Menlo,'DejaVu Sans Mono',consolas,'Courier New',monospace\"><span style=\"font-weight: bold\">Model: \"sequential\"</span>\n",
              "</pre>\n"
            ]
          },
          "metadata": {}
        },
        {
          "output_type": "display_data",
          "data": {
            "text/plain": [
              "┏━━━━━━━━━━━━━━━━━━━━━━━━━━━━━━━━━┳━━━━━━━━━━━━━━━━━━━━━━━━┳━━━━━━━━━━━━━━━┓\n",
              "┃\u001b[1m \u001b[0m\u001b[1mLayer (type)                   \u001b[0m\u001b[1m \u001b[0m┃\u001b[1m \u001b[0m\u001b[1mOutput Shape          \u001b[0m\u001b[1m \u001b[0m┃\u001b[1m \u001b[0m\u001b[1m      Param #\u001b[0m\u001b[1m \u001b[0m┃\n",
              "┡━━━━━━━━━━━━━━━━━━━━━━━━━━━━━━━━━╇━━━━━━━━━━━━━━━━━━━━━━━━╇━━━━━━━━━━━━━━━┩\n",
              "│ dense (\u001b[38;5;33mDense\u001b[0m)                   │ (\u001b[38;5;45mNone\u001b[0m, \u001b[38;5;34m32\u001b[0m)             │           \u001b[38;5;34m288\u001b[0m │\n",
              "├─────────────────────────────────┼────────────────────────┼───────────────┤\n",
              "│ dense_1 (\u001b[38;5;33mDense\u001b[0m)                 │ (\u001b[38;5;45mNone\u001b[0m, \u001b[38;5;34m1\u001b[0m)              │            \u001b[38;5;34m33\u001b[0m │\n",
              "└─────────────────────────────────┴────────────────────────┴───────────────┘\n"
            ],
            "text/html": [
              "<pre style=\"white-space:pre;overflow-x:auto;line-height:normal;font-family:Menlo,'DejaVu Sans Mono',consolas,'Courier New',monospace\">┏━━━━━━━━━━━━━━━━━━━━━━━━━━━━━━━━━┳━━━━━━━━━━━━━━━━━━━━━━━━┳━━━━━━━━━━━━━━━┓\n",
              "┃<span style=\"font-weight: bold\"> Layer (type)                    </span>┃<span style=\"font-weight: bold\"> Output Shape           </span>┃<span style=\"font-weight: bold\">       Param # </span>┃\n",
              "┡━━━━━━━━━━━━━━━━━━━━━━━━━━━━━━━━━╇━━━━━━━━━━━━━━━━━━━━━━━━╇━━━━━━━━━━━━━━━┩\n",
              "│ dense (<span style=\"color: #0087ff; text-decoration-color: #0087ff\">Dense</span>)                   │ (<span style=\"color: #00d7ff; text-decoration-color: #00d7ff\">None</span>, <span style=\"color: #00af00; text-decoration-color: #00af00\">32</span>)             │           <span style=\"color: #00af00; text-decoration-color: #00af00\">288</span> │\n",
              "├─────────────────────────────────┼────────────────────────┼───────────────┤\n",
              "│ dense_1 (<span style=\"color: #0087ff; text-decoration-color: #0087ff\">Dense</span>)                 │ (<span style=\"color: #00d7ff; text-decoration-color: #00d7ff\">None</span>, <span style=\"color: #00af00; text-decoration-color: #00af00\">1</span>)              │            <span style=\"color: #00af00; text-decoration-color: #00af00\">33</span> │\n",
              "└─────────────────────────────────┴────────────────────────┴───────────────┘\n",
              "</pre>\n"
            ]
          },
          "metadata": {}
        },
        {
          "output_type": "display_data",
          "data": {
            "text/plain": [
              "\u001b[1m Total params: \u001b[0m\u001b[38;5;34m321\u001b[0m (1.25 KB)\n"
            ],
            "text/html": [
              "<pre style=\"white-space:pre;overflow-x:auto;line-height:normal;font-family:Menlo,'DejaVu Sans Mono',consolas,'Courier New',monospace\"><span style=\"font-weight: bold\"> Total params: </span><span style=\"color: #00af00; text-decoration-color: #00af00\">321</span> (1.25 KB)\n",
              "</pre>\n"
            ]
          },
          "metadata": {}
        },
        {
          "output_type": "display_data",
          "data": {
            "text/plain": [
              "\u001b[1m Trainable params: \u001b[0m\u001b[38;5;34m321\u001b[0m (1.25 KB)\n"
            ],
            "text/html": [
              "<pre style=\"white-space:pre;overflow-x:auto;line-height:normal;font-family:Menlo,'DejaVu Sans Mono',consolas,'Courier New',monospace\"><span style=\"font-weight: bold\"> Trainable params: </span><span style=\"color: #00af00; text-decoration-color: #00af00\">321</span> (1.25 KB)\n",
              "</pre>\n"
            ]
          },
          "metadata": {}
        },
        {
          "output_type": "display_data",
          "data": {
            "text/plain": [
              "\u001b[1m Non-trainable params: \u001b[0m\u001b[38;5;34m0\u001b[0m (0.00 B)\n"
            ],
            "text/html": [
              "<pre style=\"white-space:pre;overflow-x:auto;line-height:normal;font-family:Menlo,'DejaVu Sans Mono',consolas,'Courier New',monospace\"><span style=\"font-weight: bold\"> Non-trainable params: </span><span style=\"color: #00af00; text-decoration-color: #00af00\">0</span> (0.00 B)\n",
              "</pre>\n"
            ]
          },
          "metadata": {}
        },
        {
          "output_type": "display_data",
          "data": {
            "text/plain": [
              "<Figure size 1000x500 with 1 Axes>"
            ],
            "image/png": "[encoded data removed]"
          },
          "metadata": {}
        },
        {
          "output_type": "stream",
          "name": "stderr",
          "text": [
            "WARNING:absl:You are saving your model as an HDF5 file via `model.save()` or `keras.saving.save_model(model)`. This file format is considered legacy. We recommend using instead the native Keras format, e.g. `model.save('my_model.keras')` or `keras.saving.save_model(model, 'my_model.keras')`. \n",
            "WARNING:absl:Compiled the loaded model, but the compiled metrics have yet to be built. `model.compile_metrics` will be empty until you train or evaluate the model.\n"
          ]
        },
        {
          "output_type": "stream",
          "name": "stdout",
          "text": [
            "The mae of the test data is 0.44131436944007874\n"
          ]
        }
      ]
    },
    {
      "cell_type": "markdown",
      "metadata": {
        "id": "vW-7QLwbQPQi"
      },
      "source": [
        "### Ex 3.2 Custom Loss on the California Housing dataset by subclassing `keras.losses.Loss`"
      ]
    },
    {
      "cell_type": "markdown",
      "metadata": {
        "id": "Kqxf-H80RYy3"
      },
      "source": [
        "In order to avoid specifying the threshold $\\epsilon$ when loading the model, we can create the custom loss by subclassing `keras.losses.Loss`.\n",
        "\n",
        "Same as before:\n",
        "\n",
        "* Load the dataset\n",
        "* Split the data into train and test using and scale it\n",
        "* Define the Huber loss by sublassing `keras.losses.Loss` as follows:\n",
        "  ```python\n",
        "  class HuberLoss(keras.losses.Loss):\n",
        "    def __init__(self, epsilon = 1.0, **kwargs):\n",
        "      super().__init__(**kwargs)\n",
        "      ###### TO DO #####\n",
        "      # Initialize epsilon\n",
        "    def call(self, y, p):\n",
        "      ##### TO DO #####\n",
        "      # Define your huber loss function\n",
        "    def get_config(self):\n",
        "      base_config = super().get_config()\n",
        "      return {**base_config, \"epsilon\": self.epsilon}\n",
        "  ```\n",
        "* Create the same Neural Network with one hidden layer\n",
        "* Compile and fit your model by specifying the new loss for $\\epsilon = 1.0$\n",
        "* Plot the training and validation loss\n",
        "* Save your model using `model.save(\"model.h5\")`\n",
        "* Load your model. Notice that you don't have to specify the threshold $\\epsilon$ since when the model is saved, Keras calls loss instance's `get_config()` method and saves the config as JSON in the HDF5 file.   \n",
        "* Evaluate your model on the test data\n",
        "\n",
        "\n",
        "\n"
      ]
    },
    {
      "cell_type": "code",
      "metadata": {
        "colab": {
          "base_uri": "https://localhost:8080/",
          "height": 773
        },
        "id": "yllddOHbQ4_9",
        "outputId": "9fb7447c-2117-41ec-ca0e-daa02c74c335"
      },
      "source": [
        "# Import Modules\n",
        "import numpy as np\n",
        "import matplotlib.pyplot as plt\n",
        "\n",
        "from sklearn.datasets import fetch_california_housing\n",
        "from sklearn.model_selection import train_test_split\n",
        "\n",
        "import tensorflow as tf\n",
        "from tensorflow import keras\n",
        "from tensorflow.keras.models import Sequential, load_model\n",
        "from tensorflow.keras.layers import Dense\n",
        "\n",
        "# Hyperparameters\n",
        "HIDDEN_SIZE = 32\n",
        "BATCH_SIZE = 128\n",
        "EPOCHS = 20\n",
        "\n",
        "# Set the seed\n",
        "tf.random.set_seed(42)\n",
        "np.random.seed(42)\n",
        "\n",
        "# Load the data\n",
        "dataset = fetch_california_housing()\n",
        "X_train, X_test, y_train, y_test = train_test_split(dataset.data,\n",
        "                                                    dataset.target[:, None],\n",
        "                                                    random_state = 42)\n",
        "\n",
        "# Scale the data\n",
        "scale = StandardScaler()\n",
        "X_train = scale.fit_transform(X_train)\n",
        "X_test = scale.transform(X_test)\n",
        "\n",
        "# Create the model\n",
        "model = Sequential([Dense(HIDDEN_SIZE, activation = \"relu\", input_shape = (X_train.shape[1],)),\n",
        "                    Dense(1)])\n",
        "\n",
        "model.summary()\n",
        "\n",
        "# Define the loss\n",
        "class HuberLoss(keras.losses.Loss):\n",
        "  def __init__(self, epsilon, **kwargs):\n",
        "    super().__init__(**kwargs)\n",
        "    self.epsilon = epsilon\n",
        "\n",
        "  def call(self, y, p):\n",
        "    error = tf.abs(y - p)\n",
        "    condition = error < self.epsilon\n",
        "    linear_loss = self.epsilon*error - (1/2)*(self.epsilon**2)\n",
        "    quadratic_loss = (1/2)*(error**2)\n",
        "    return tf.where(condition, quadratic_loss, linear_loss)\n",
        "\n",
        "  def get_config(self):\n",
        "    base_config = super().get_config()\n",
        "    return {**base_config,\n",
        "            \"epsilon\" : self.epsilon}\n",
        "\n",
        "# Compile the model\n",
        "model.compile(optimizer = \"adam\",\n",
        "              loss = HuberLoss(1.0),\n",
        "              metrics = [\"mae\"])\n",
        "\n",
        "# Fit the model to the data\n",
        "history = model.fit(X_train, y_train,\n",
        "                    batch_size = BATCH_SIZE,\n",
        "                    epochs = EPOCHS,\n",
        "                    validation_split = 0.33,\n",
        "                    verbose = 0)\n",
        "\n",
        "# Plot the training and valdiation data\n",
        "plt.figure(figsize = (10, 5))\n",
        "plt.plot(history.history[\"loss\"], \"b-\", linewidth = 2.0, label = \"training loss\")\n",
        "plt.plot(history.history[\"val_loss\"], \"r--\", linewidth = 2.0, label = \"validation loss\")\n",
        "plt.xlabel(\"epochs\")\n",
        "plt.ylabel(\"loss\")\n",
        "plt.legend()\n",
        "plt.title(\"Training and Validation Loss\")\n",
        "plt.show()\n",
        "\n",
        "\n",
        "# Save the model\n",
        "model.save(\"model.h5\")\n",
        "\n",
        "\n",
        "# Load the model\n",
        "model_loaded = load_model(\"model.h5\",\n",
        "                          custom_objects = {\"HuberLoss\": HuberLoss})\n",
        "# Evaluate the model\n",
        "loss, mae = model.evaluate(X_test, y_test,\n",
        "                           verbose = 0)\n",
        "print(\"The mae of the test data is:\", mae)"
      ],
      "execution_count": null,
      "outputs": [
        {
          "output_type": "stream",
          "name": "stderr",
          "text": [
            "/usr/local/lib/python3.11/dist-packages/keras/src/layers/core/dense.py:87: UserWarning: Do not pass an `input_shape`/`input_dim` argument to a layer. When using Sequential models, prefer using an `Input(shape)` object as the first layer in the model instead.\n",
            "  super().__init__(activity_regularizer=activity_regularizer, **kwargs)\n"
          ]
        },
        {
          "output_type": "display_data",
          "data": {
            "text/plain": [
              "\u001b[1mModel: \"sequential_1\"\u001b[0m\n"
            ],
            "text/html": [
              "<pre style=\"white-space:pre;overflow-x:auto;line-height:normal;font-family:Menlo,'DejaVu Sans Mono',consolas,'Courier New',monospace\"><span style=\"font-weight: bold\">Model: \"sequential_1\"</span>\n",
              "</pre>\n"
            ]
          },
          "metadata": {}
        },
        {
          "output_type": "display_data",
          "data": {
            "text/plain": [
              "┏━━━━━━━━━━━━━━━━━━━━━━━━━━━━━━━━━┳━━━━━━━━━━━━━━━━━━━━━━━━┳━━━━━━━━━━━━━━━┓\n",
              "┃\u001b[1m \u001b[0m\u001b[1mLayer (type)                   \u001b[0m\u001b[1m \u001b[0m┃\u001b[1m \u001b[0m\u001b[1mOutput Shape          \u001b[0m\u001b[1m \u001b[0m┃\u001b[1m \u001b[0m\u001b[1m      Param #\u001b[0m\u001b[1m \u001b[0m┃\n",
              "┡━━━━━━━━━━━━━━━━━━━━━━━━━━━━━━━━━╇━━━━━━━━━━━━━━━━━━━━━━━━╇━━━━━━━━━━━━━━━┩\n",
              "│ dense_2 (\u001b[38;5;33mDense\u001b[0m)                 │ (\u001b[38;5;45mNone\u001b[0m, \u001b[38;5;34m32\u001b[0m)             │           \u001b[38;5;34m288\u001b[0m │\n",
              "├─────────────────────────────────┼────────────────────────┼───────────────┤\n",
              "│ dense_3 (\u001b[38;5;33mDense\u001b[0m)                 │ (\u001b[38;5;45mNone\u001b[0m, \u001b[38;5;34m1\u001b[0m)              │            \u001b[38;5;34m33\u001b[0m │\n",
              "└─────────────────────────────────┴────────────────────────┴───────────────┘\n"
            ],
            "text/html": [
              "<pre style=\"white-space:pre;overflow-x:auto;line-height:normal;font-family:Menlo,'DejaVu Sans Mono',consolas,'Courier New',monospace\">┏━━━━━━━━━━━━━━━━━━━━━━━━━━━━━━━━━┳━━━━━━━━━━━━━━━━━━━━━━━━┳━━━━━━━━━━━━━━━┓\n",
              "┃<span style=\"font-weight: bold\"> Layer (type)                    </span>┃<span style=\"font-weight: bold\"> Output Shape           </span>┃<span style=\"font-weight: bold\">       Param # </span>┃\n",
              "┡━━━━━━━━━━━━━━━━━━━━━━━━━━━━━━━━━╇━━━━━━━━━━━━━━━━━━━━━━━━╇━━━━━━━━━━━━━━━┩\n",
              "│ dense_2 (<span style=\"color: #0087ff; text-decoration-color: #0087ff\">Dense</span>)                 │ (<span style=\"color: #00d7ff; text-decoration-color: #00d7ff\">None</span>, <span style=\"color: #00af00; text-decoration-color: #00af00\">32</span>)             │           <span style=\"color: #00af00; text-decoration-color: #00af00\">288</span> │\n",
              "├─────────────────────────────────┼────────────────────────┼───────────────┤\n",
              "│ dense_3 (<span style=\"color: #0087ff; text-decoration-color: #0087ff\">Dense</span>)                 │ (<span style=\"color: #00d7ff; text-decoration-color: #00d7ff\">None</span>, <span style=\"color: #00af00; text-decoration-color: #00af00\">1</span>)              │            <span style=\"color: #00af00; text-decoration-color: #00af00\">33</span> │\n",
              "└─────────────────────────────────┴────────────────────────┴───────────────┘\n",
              "</pre>\n"
            ]
          },
          "metadata": {}
        },
        {
          "output_type": "display_data",
          "data": {
            "text/plain": [
              "\u001b[1m Total params: \u001b[0m\u001b[38;5;34m321\u001b[0m (1.25 KB)\n"
            ],
            "text/html": [
              "<pre style=\"white-space:pre;overflow-x:auto;line-height:normal;font-family:Menlo,'DejaVu Sans Mono',consolas,'Courier New',monospace\"><span style=\"font-weight: bold\"> Total params: </span><span style=\"color: #00af00; text-decoration-color: #00af00\">321</span> (1.25 KB)\n",
              "</pre>\n"
            ]
          },
          "metadata": {}
        },
        {
          "output_type": "display_data",
          "data": {
            "text/plain": [
              "\u001b[1m Trainable params: \u001b[0m\u001b[38;5;34m321\u001b[0m (1.25 KB)\n"
            ],
            "text/html": [
              "<pre style=\"white-space:pre;overflow-x:auto;line-height:normal;font-family:Menlo,'DejaVu Sans Mono',consolas,'Courier New',monospace\"><span style=\"font-weight: bold\"> Trainable params: </span><span style=\"color: #00af00; text-decoration-color: #00af00\">321</span> (1.25 KB)\n",
              "</pre>\n"
            ]
          },
          "metadata": {}
        },
        {
          "output_type": "display_data",
          "data": {
            "text/plain": [
              "\u001b[1m Non-trainable params: \u001b[0m\u001b[38;5;34m0\u001b[0m (0.00 B)\n"
            ],
            "text/html": [
              "<pre style=\"white-space:pre;overflow-x:auto;line-height:normal;font-family:Menlo,'DejaVu Sans Mono',consolas,'Courier New',monospace\"><span style=\"font-weight: bold\"> Non-trainable params: </span><span style=\"color: #00af00; text-decoration-color: #00af00\">0</span> (0.00 B)\n",
              "</pre>\n"
            ]
          },
          "metadata": {}
        },
        {
          "output_type": "display_data",
          "data": {
            "text/plain": [
              "<Figure size 1000x500 with 1 Axes>"
            ],
            "image/png": "[encoded data removed]"
          },
          "metadata": {}
        },
        {
          "output_type": "stream",
          "name": "stderr",
          "text": [
            "WARNING:absl:You are saving your model as an HDF5 file via `model.save()` or `keras.saving.save_model(model)`. This file format is considered legacy. We recommend using instead the native Keras format, e.g. `model.save('my_model.keras')` or `keras.saving.save_model(model, 'my_model.keras')`. \n",
            "WARNING:absl:Compiled the loaded model, but the compiled metrics have yet to be built. `model.compile_metrics` will be empty until you train or evaluate the model.\n"
          ]
        },
        {
          "output_type": "stream",
          "name": "stdout",
          "text": [
            "The mae of the test data is: 0.4449753761291504\n"
          ]
        }
      ]
    },
    {
      "cell_type": "code",
      "metadata": {
        "colab": {
          "base_uri": "https://localhost:8080/"
        },
        "id": "O_w5xihHq5T-",
        "outputId": "be67edc1-18ba-4b5a-e2c8-50b25bb5c56b"
      },
      "source": [
        "HL = HuberLoss(2.0)\n",
        "HL.get_config()"
      ],
      "execution_count": null,
      "outputs": [
        {
          "output_type": "execute_result",
          "data": {
            "text/plain": [
              "{'name': 'huber_loss_1', 'reduction': 'sum_over_batch_size', 'epsilon': 2.0}"
            ]
          },
          "metadata": {},
          "execution_count": 36
        }
      ]
    }
  ]
}