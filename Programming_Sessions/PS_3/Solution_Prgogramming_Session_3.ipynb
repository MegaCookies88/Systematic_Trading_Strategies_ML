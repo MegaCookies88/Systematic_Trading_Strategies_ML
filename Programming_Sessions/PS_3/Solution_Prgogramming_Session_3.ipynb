{
  "nbformat": 4,
  "nbformat_minor": 0,
  "metadata": {
    "colab": {
      "provenance": []
    },
    "kernelspec": {
      "name": "python3",
      "display_name": "Python 3"
    },
    "language_info": {
      "name": "python"
    }
  },
  "cells": [
    {
      "cell_type": "markdown",
      "metadata": {
        "id": "eHz_knk-QXx0"
      },
      "source": [
        "# <center> Systematic Trading Strategies with Machine Learning Algorithms </center>\n",
        "\n",
        "## <center>Programming Session 3 - Introducing discrete HMMs\n",
        "</center>\n",
        "<center>\n",
        "<table class=\"tfo-notebook-buttons\" style=\"margin-left: auto; margin-right: auto;\">\n",
        "  <tr>\n",
        "    <td style=\"text-align: center; vertical-align: middle;\">\n",
        "      <a target=\"_blank\" href=\"https://hm-ai.github.io/Systematic_Trading_Strategies_with_Machine_Learning_Algorithms/\">\n",
        "        <img src=\"https://drive.google.com/uc?export=view&id=1hTIoxoea8RTLgKb1oE6_PFmtTNPGs5p4\" height=\"50\"/>\n",
        "        <br>Course page\n",
        "      </a>\n",
        "    </td>\n",
        "    <td style=\"text-align: center; vertical-align: middle;\">\n",
        "      <a target=\"_blank\" href=\"https://colab.research.google.com/drive/14OiCp7UdI8-EKQiQ-C1FTXkLm9mwDSy3?usp=sharing\">\n",
        "        <img src=\"https://www.tensorflow.org/images/colab_logo_32px.png\" height=\"50\" />\n",
        "        <br>Run in Google Colab\n",
        "      </a>\n",
        "    </td>\n",
        "  </tr>\n",
        "</table>\n",
        "</center>"
      ]
    },
    {
      "cell_type": "markdown",
      "source": [
        "\n",
        "\n",
        "This notebook illustrates the fundamental concepts of Hidden Markov Models (HMMs) as introduced in the seminal paper by [Rabiner(1989)](https://www.ece.ucsb.edu/Faculty/Rabiner/ece259/Reprints/tutorial%20on%20hmm%20and%20applications.pdf).\n",
        "\n",
        "We'll explore the following three problems of HMMs:\n",
        "\n",
        "1. **The Evaluation Problem**: Computing the probability of an observation sequence given a model.\n",
        "2. **The Learning Problem**: Estimating model parameters from a sequence of observations.\n",
        "3. **The Prediction Problem**: Forecasting future states and observations based on historical observations.\n"
      ],
      "metadata": {
        "id": "XXb6XyXeUEMC"
      }
    },
    {
      "cell_type": "markdown",
      "source": [
        "<p align=\"center\">\n",
        "  <img src=\"https://media.giphy.com/media/BeurjzzpsYwqQ/giphy.gif\" alt=\"Ross\">\n",
        "</p>"
      ],
      "metadata": {
        "id": "idvcDOnSULj4"
      }
    },
    {
      "cell_type": "markdown",
      "source": [
        "# Introducing the problem and Generating the data"
      ],
      "metadata": {
        "id": "41LZgRdtVmTf"
      }
    },
    {
      "cell_type": "markdown",
      "source": [
        "Dr. Ross Geller, a paleontologist at New York University, faces a peculiar dilemma. Every day, he brings a delicious sandwich to work and stores it in the department refrigerator. However, his lunch frequently disappears before he can eat it.\n",
        "\n",
        "Being a scientist, Dr. Geller decides to track whether his sandwich remains in the refrigerator each day. He can only **observe** one of two possible states:\n",
        "- **0**: The sandwich is safe (still in the refrigerator)\n",
        "- **1**: The sandwich is missing (someone ate it)\n",
        "\n",
        "After collecting data for several months (1,000 observations), Dr. Geller wants to determine who might be responsible for his missing lunches and predict when future sandwiches might disappear."
      ],
      "metadata": {
        "id": "vSemwsg7Vu3R"
      }
    },
    {
      "cell_type": "markdown",
      "source": [
        "<center><img width=\"500\" src = \"https://drive.google.com/uc?export=view&id=1oG74_aXIkxFlz_ppK6N5DBXwa0bYwx26\"></center>\n"
      ],
      "metadata": {
        "id": "em2tWlK8WTMe"
      }
    },
    {
      "cell_type": "markdown",
      "source": [
        "### Introducing the Hidden States"
      ],
      "metadata": {
        "id": "4ZdffT0gVw6O"
      }
    },
    {
      "cell_type": "markdown",
      "source": [
        "Through departmental gossip, Dr. Geller has narrowed down the potential culprits to two colleagues:\n",
        "\n",
        "1. **Dr. Donald**: A sandwich enthusiast who has a high probability (0.9) of eating Ross's sandwich when present\n",
        "2. **Dr. Charlie**: A more selective eater who only occasionally (with probability 0.5) takes the sandwich\n",
        "\n",
        "Importantly, Dr. Donald and Dr. Charlie work on different schedules and are never present simultaneously. This creates three possible hidden states that Dr. Geller cannot directly observe:\n",
        "\n",
        "- **State 0**: Dr. Donald is present (and Dr. Charlie is absent) - 90% chance the sandwich disappears\n",
        "- **State 1**: Dr. Charlie is present (and Dr. Donald is absent) - 50% chance the sandwich disappears\n",
        "- **State 2**: Neither colleague is present - 0% chance the sandwich disappears"
      ],
      "metadata": {
        "id": "tGP1QPRAV1Kd"
      }
    },
    {
      "cell_type": "markdown",
      "source": [
        "<center><img width=\"500\" src = \"https://drive.google.com/uc?export=view&id=1CC6UoA7K5O7DLpbCqHYKtc6P13eSZjUs\"></center>\n"
      ],
      "metadata": {
        "id": "qSConjA6WqND"
      }
    },
    {
      "cell_type": "markdown",
      "source": [
        "### Introducing the Parameters of the Hidden Markov Model"
      ],
      "metadata": {
        "id": "kV-Q4ciXX9Sf"
      }
    },
    {
      "cell_type": "markdown",
      "source": [
        "We'll now define the key parameters of our Hidden Markov Model:\n",
        "\n",
        "1. **Number of hidden states**: M = 3 (the three scenarios described above)\n",
        "2. **Observation dimension**: D = 2 (sandwich is either present or missing)\n",
        "3. **Number of observations**: N = 1,000 (days Dr. Geller recorded data)\n",
        "\n",
        "Using the notation from our slides, our HMM is characterized by three key components:\n",
        "\n",
        "\n",
        "- **Initial state distribution**: $\\pi = \\{\\pi_0, \\pi_1, \\pi_2\\}$, where $\\pi_m = P(H_1 = m)$\n",
        "- **Transition matrix**: $Q$, where $Q_{ij} = P(H_{t+1} = j \\mid H_t = i)$\n",
        "- **Emission matrix**: $O$, where $O_{mj} = P(\\tilde{X}_t = o_j \\mid H_t = m)$"
      ],
      "metadata": {
        "id": "i7YsNrByX-R3"
      }
    },
    {
      "cell_type": "markdown",
      "source": [
        "### Generating the Synthetic Data"
      ],
      "metadata": {
        "id": "xCmZe4M-ZHsU"
      }
    },
    {
      "cell_type": "markdown",
      "source": [
        "Let's begin by setting up our environment and generating synthetic data based on our HMM setup."
      ],
      "metadata": {
        "id": "ojXa6fmzZL9c"
      }
    },
    {
      "cell_type": "code",
      "source": [
        "!pip install hmmlearn"
      ],
      "metadata": {
        "id": "NGCjQ90pQ1qW",
        "colab": {
          "base_uri": "https://localhost:8080/"
        },
        "outputId": "5363f6f2-6e40-4b29-bf1f-bffe6a056b78"
      },
      "execution_count": 1,
      "outputs": [
        {
          "output_type": "stream",
          "name": "stdout",
          "text": [
            "Requirement already satisfied: hmmlearn in /usr/local/lib/python3.11/dist-packages (0.3.3)\n",
            "Requirement already satisfied: numpy>=1.10 in /usr/local/lib/python3.11/dist-packages (from hmmlearn) (2.0.2)\n",
            "Requirement already satisfied: scikit-learn!=0.22.0,>=0.16 in /usr/local/lib/python3.11/dist-packages (from hmmlearn) (1.6.1)\n",
            "Requirement already satisfied: scipy>=0.19 in /usr/local/lib/python3.11/dist-packages (from hmmlearn) (1.15.2)\n",
            "Requirement already satisfied: joblib>=1.2.0 in /usr/local/lib/python3.11/dist-packages (from scikit-learn!=0.22.0,>=0.16->hmmlearn) (1.4.2)\n",
            "Requirement already satisfied: threadpoolctl>=3.1.0 in /usr/local/lib/python3.11/dist-packages (from scikit-learn!=0.22.0,>=0.16->hmmlearn) (3.6.0)\n"
          ]
        }
      ]
    },
    {
      "cell_type": "code",
      "source": [
        "import numpy as np\n",
        "import matplotlib.pyplot as plt\n",
        "import seaborn as sns\n",
        "import pandas as pd\n",
        "from hmmlearn.hmm import CategoricalHMM\n",
        "# Set the random seed for reproducibility\n",
        "np.random.seed(42)"
      ],
      "metadata": {
        "id": "fDTUF6KuQ1s3"
      },
      "execution_count": 2,
      "outputs": []
    },
    {
      "cell_type": "code",
      "source": [
        "# Define the parameters of our HMM\n",
        "n_states = 3  # Number of hidden states (Donald present, Charlie present, Neither present)\n",
        "n_observations = 2  # Number of possible observations (0: sandwich safe, 1: sandwich missing)\n",
        "n_samples = 1000  # Number of days to simulate"
      ],
      "metadata": {
        "id": "DzCtbtCdQ1v7"
      },
      "execution_count": 3,
      "outputs": []
    },
    {
      "cell_type": "markdown",
      "source": [
        "Now, let's define the parameters of our HMM: $\\pi$ (initial state distribution), $Q$ (transition matrix), and $O$ (emission matrix)."
      ],
      "metadata": {
        "id": "JE0Vw3keZV7I"
      }
    },
    {
      "cell_type": "markdown",
      "source": [
        "Here's the updated question with LaTeX code for the equations:\n",
        "\n",
        "---\n",
        "<font color=green>Q1:</font> <br><font color='green'>\n",
        "Based on the description of the emission distributions, define the emission matrix O. Remember that $O_{mj} = P(\\tilde{X}_t = o_j \\mid H_t = m)$, where $o_0$ = \"sandwich safe\" and $o_1$ = \"sandwich missing\". Recall that:\n",
        "- When Dr. Donald is present (state 0), there's a 90% chance the sandwich disappears\n",
        "- When Dr. Charlie is present (state 1), there's a 50% chance the sandwich disappears\n",
        "- When neither is present (state 2), there's a 0% chance the sandwich disappears\n",
        "</font>  \n",
        "\n",
        "---"
      ],
      "metadata": {
        "id": "Q5g0V4bkZbhQ"
      }
    },
    {
      "cell_type": "markdown",
      "source": [
        "<center><img width=\"500\" src = \"https://drive.google.com/uc?export=view&id=1HmR-xWY-PjXBuQWs9G_0dDsuMMllVJGh\"></center>\n"
      ],
      "metadata": {
        "id": "2XlLmX-mZySd"
      }
    },
    {
      "cell_type": "code",
      "source": [
        "# Define the emission matrix (O)\n",
        "# O[m,j] = P(X̃ₜ = oⱼ | Hₜ = m)\n",
        "O = np.array([\n",
        "    [0.1, 0.9],  # State 0 (Donald): 10% safe, 90% eaten\n",
        "    [0.5, 0.5],  # State 1 (Charlie): 50% safe, 50% eaten\n",
        "    [1.0, 0.0]   # State 2 (Neither): 100% safe, 0% eaten\n",
        "])"
      ],
      "metadata": {
        "id": "6RTZJpt8Q1x-"
      },
      "execution_count": 4,
      "outputs": []
    },
    {
      "cell_type": "markdown",
      "source": [
        "Now, let's define the transition matrix Q based on the state transition diagram:\n",
        "\n",
        "<center><img width=\"300\" src = \"https://drive.google.com/uc?export=view&id=1DmyO8Ie_ESgyAGB2YDn2lq5_E1P7TW-v\"></center>\n"
      ],
      "metadata": {
        "id": "3SvaGIDfZ99F"
      }
    },
    {
      "cell_type": "markdown",
      "source": [
        "---\n",
        "<font color=green>Q2:</font> <br><font color='green'>\n",
        "Using the state transition diagram above, define the transition matrix Q where $Q_{ij} = P(H_{t+1} = j \\mid H_t = i)$. The arrows in the diagram represent the probabilities of transitioning from one state to another.\n",
        "</font>  \n",
        "\n",
        "---"
      ],
      "metadata": {
        "id": "Y8aAOu9PaR1m"
      }
    },
    {
      "cell_type": "code",
      "source": [
        "# Define the transition matrix (Q)\n",
        "# Q[i,j] = P(Hₜ₊₁ = j | Hₜ = i)\n",
        "Q = np.array([\n",
        "    [0.8, 0.1, 0.1],  # From State 0 (Donald present)\n",
        "    [0.1, 0.7, 0.2],  # From State 1 (Charlie present)\n",
        "    [0.2, 0.2, 0.6]   # From State 2 (Neither present)\n",
        "])"
      ],
      "metadata": {
        "id": "pDh141QzQ10K"
      },
      "execution_count": 5,
      "outputs": []
    },
    {
      "cell_type": "markdown",
      "source": [
        "Finally, let's define the initial state distribution as a uniform distribution:"
      ],
      "metadata": {
        "id": "UIhp-qTgawD7"
      }
    },
    {
      "cell_type": "code",
      "source": [
        "# Define the initial state distribution ($\\pi$)\n",
        "pi = np.array([1, 1, 1])/3  # Initial probabilities for states 0, 1, and 2"
      ],
      "metadata": {
        "id": "QkJ9I1rKQ12w"
      },
      "execution_count": 6,
      "outputs": []
    },
    {
      "cell_type": "markdown",
      "source": [
        "---\n",
        "<font color=green>Q3:</font> <br><font color='green'>\n",
        "Write a function `generate_hmm_sequence(pi, Q, O, n_samples)` that generates a sequence of hidden states and observations based on the HMM parameters pi, Q, and O. The function should return two arrays: hidden_states and observations.\n",
        "</font>  \n",
        "\n",
        "---"
      ],
      "metadata": {
        "id": "dtsDATtJbBz5"
      }
    },
    {
      "cell_type": "markdown",
      "source": [
        "<center><img width=\"500\" src = \"https://drive.google.com/uc?export=view&id=1eURJOKwaBrafYn7lH6aaEPcwEt4KW-N2\"></center>"
      ],
      "metadata": {
        "id": "1yyaWoh4FfqD"
      }
    },
    {
      "cell_type": "code",
      "source": [
        "def generate_hmm_sequence(pi, Q, O, n_samples):\n",
        "   \"\"\"\n",
        "   Generate a sequence of hidden states and observations from a Hidden Markov Model.\n",
        "\n",
        "   Parameters:\n",
        "   -----------\n",
        "   pi : numpy.ndarray\n",
        "       Initial state distribution vector of shape (n_states,)\n",
        "       pi[m] = probability of starting in state m\n",
        "\n",
        "   Q : numpy.ndarray\n",
        "       Transition probability matrix of shape (n_states, n_states)\n",
        "       Q[i,j] = probability of transitioning from state i to state j\n",
        "\n",
        "   O : numpy.ndarray\n",
        "       Emission probability matrix of shape (n_states, n_observations)\n",
        "       O[m,j] = probability of observing j given we're in state m\n",
        "\n",
        "   n_samples : int\n",
        "       Number of time steps to simulate\n",
        "\n",
        "   Returns:\n",
        "   --------\n",
        "   hidden_states : numpy.ndarray\n",
        "       Sequence of hidden states (integers) of shape (n_samples,)\n",
        "\n",
        "   observations : numpy.ndarray\n",
        "       Sequence of observations (integers) of shape (n_samples,)\n",
        "   \"\"\"\n",
        "   # Get the number of possible states from the shape of pi\n",
        "   n_states = len(pi)\n",
        "\n",
        "   # Get the number of possible observations from the shape of O\n",
        "   n_observations = O.shape[1]\n",
        "\n",
        "   # Initialize arrays to store the generated sequences\n",
        "   hidden_states = np.zeros(n_samples, dtype=int)\n",
        "   observations = np.zeros(n_samples, dtype=int)\n",
        "\n",
        "   # Step 1: Sample the initial hidden state from the initial distribution pi\n",
        "   # np.random.choice selects a state with probabilities given by pi\n",
        "   hidden_states[0] = np.random.choice(np.arange(n_states), p=pi)\n",
        "\n",
        "   # Step 2: Given the initial hidden state, sample the first observation\n",
        "   # from the emission distribution of that state\n",
        "   observations[0] = np.random.choice(np.arange(n_observations), p=O[hidden_states[0]])\n",
        "\n",
        "   # Step 3: Generate the rest of the sequence\n",
        "   for t in range(1, n_samples):\n",
        "       # Sample the next hidden state based on the transition probabilities\n",
        "       # from the current state (using the row of Q corresponding to the current state)\n",
        "       hidden_states[t] = np.random.choice(np.arange(n_states), p=Q[hidden_states[t-1]])\n",
        "\n",
        "       # Sample the observation at time t based on the emission probabilities\n",
        "       # of the current hidden state\n",
        "       observations[t] = np.random.choice(np.arange(n_observations), p=O[hidden_states[t]])\n",
        "\n",
        "   return hidden_states, observations"
      ],
      "metadata": {
        "id": "R05Yhk19Q17i"
      },
      "execution_count": 7,
      "outputs": []
    },
    {
      "cell_type": "markdown",
      "source": [
        "---\n",
        "<font color=green>Q4:</font> <br><font color='green'>\n",
        "Use the `generate_hmm_sequence` function to generate a sequence of 1000 hidden states and observations based on our HMM parameters ($\\pi$, $Q$, $O$). This will simulate 1000 days of Dr. Geller's sandwich saga. Store the results in variables called `hidden_states` and `observations`. Remember that `hidden_states` represents who was present each day (Donald, Charlie, or neither), while `observations` represents whether the sandwich was safe or missing each day.\n",
        "</font>  \n",
        "\n",
        "---"
      ],
      "metadata": {
        "id": "nUGdqI0ncCdg"
      }
    },
    {
      "cell_type": "code",
      "source": [
        "# Generate our synthetic data\n",
        "hidden_states, observations = generate_hmm_sequence(pi, Q, O, n_samples)"
      ],
      "metadata": {
        "id": "ANIENcbTQ1-S"
      },
      "execution_count": 8,
      "outputs": []
    },
    {
      "cell_type": "markdown",
      "source": [
        "---\n",
        "<font color=green>Q5:</font> <br><font color='green'>\n",
        "Now, write code to visualize a segment of our data to understand what it looks like. Plot the hidden states (who was present) and the observations (whether the sandwich was safe or missing) for the first 50 days.\n",
        "</font>  \n",
        "\n",
        "---"
      ],
      "metadata": {
        "id": "JPYhI652ccIX"
      }
    },
    {
      "cell_type": "code",
      "source": [
        "# Let's visualize a segment of our data to understand what it looks like\n",
        "segment_length = 50  # Show first 50 days\n",
        "\n",
        "plt.figure(figsize=(10, 5))\n",
        "\n",
        "# Plot the hidden states\n",
        "plt.subplot(2, 1, 1)\n",
        "plt.step(range(segment_length), hidden_states[:segment_length], where='post',\n",
        "         label='Hidden States', color='red')\n",
        "plt.yticks([0, 1, 2], ['Donald', 'Charlie', 'Neither'])\n",
        "plt.title('Hidden States')\n",
        "plt.legend()\n",
        "plt.grid(True)\n",
        "\n",
        "# Plot the observations\n",
        "plt.subplot(2, 1, 2)\n",
        "plt.step(range(segment_length), observations[:segment_length], where='post',\n",
        "         label='Observations', color='blue')\n",
        "plt.yticks([0, 1], ['Sandwich Safe', 'Sandwich Missing'])\n",
        "plt.title('Observed Data')\n",
        "plt.xlabel('Day')\n",
        "plt.legend()\n",
        "plt.grid(True)\n",
        "\n",
        "plt.tight_layout()\n",
        "plt.show()"
      ],
      "metadata": {
        "id": "mr_lxfs1Q2Ah",
        "colab": {
          "base_uri": "https://localhost:8080/",
          "height": 507
        },
        "outputId": "e7c33ae8-6d06-4d37-c899-f83fefc228fd"
      },
      "execution_count": 9,
      "outputs": [
        {
          "output_type": "display_data",
          "data": {
            "text/plain": [
              "<Figure size 1000x500 with 2 Axes>"
            ],
            "image/png": "[encoded data removed]"
          },
          "metadata": {}
        }
      ]
    },
    {
      "cell_type": "markdown",
      "source": [
        "This completes our data generation process. We now have:\n",
        "\n",
        "1. Generated a synthetic dataset following our HMM assumptions\n",
        "2. Visualized what Dr. Geller can actually observe versus the hidden ground truth"
      ],
      "metadata": {
        "id": "RukpyO4dfeIR"
      }
    },
    {
      "cell_type": "markdown",
      "source": [
        "# The Learning Problem: EM Algorithm"
      ],
      "metadata": {
        "id": "9K40mycSffbo"
      }
    },
    {
      "cell_type": "markdown",
      "source": [
        "Now that Dr. Geller has collected observations on whether his sandwich was present or missing each day, he wants to determine the underlying model. In a real-world scenario, he would not know the true parameters ($\\pi$, $Q$, $O$) - he would only have the observations.\n",
        "\n",
        "The learning problem focuses on estimating these parameters from the observation sequence. There are two mains methods for that:\n",
        "\n",
        "\n",
        "* The **spectral method** described in the following paper [Hsu(2012)](https://arxiv.org/pdf/0811.4413.pdf). It is based on a Singular Value Decomposition (SVD) of a matrix derived from triplets of observations.\n",
        "\n",
        "* The **Expectation Maximization** (EM) algorithm described in the [Rabiner(1989)](https://www.ece.ucsb.edu/Faculty/Rabiner/ece259/Reprints/tutorial%20on%20hmm%20and%20applications.pdf) and shown in the following figure\n",
        "\n",
        "\n",
        "We'll use the Expectation-Maximization (EM) algorithm, also known as the Baum-Welch algorithm in the context of HMMs, as described in Rabiner (1989).\n",
        "\n",
        "<center><img width=\"500\" src = \"https://drive.google.com/uc?export=view&id=1eZQ1tdhMv92WDWFoYVqaRLy2N3-mTrv8\"></center>\n"
      ],
      "metadata": {
        "id": "KJWLclGqfoxa"
      }
    },
    {
      "cell_type": "markdown",
      "source": [
        "### Fitting the Model Using hmmlearn\n",
        "\n",
        "We'll use the `hmmlearn` library to implement the EM algorithm:"
      ],
      "metadata": {
        "id": "LFi7QHTjpXo2"
      }
    },
    {
      "cell_type": "code",
      "source": [
        "# Reshape the observations for hmmlearn (it expects a 2D array)\n",
        "X = observations.reshape(-1, 1)\n",
        "\n",
        "# Initialize a model with the correct number of hidden states\n",
        "fitted_model = CategoricalHMM(n_components=n_states, n_iter=100, tol=1e-6, random_state=42)\n",
        "\n",
        "# Fit the model to our observations\n",
        "fitted_model.fit(X)"
      ],
      "metadata": {
        "colab": {
          "base_uri": "https://localhost:8080/",
          "height": 98
        },
        "id": "B4O5ghgkBEff",
        "outputId": "ce5d670b-02ad-4ae9-cb32-daa30d177fd9"
      },
      "execution_count": 10,
      "outputs": [
        {
          "output_type": "execute_result",
          "data": {
            "text/plain": [
              "CategoricalHMM(n_components=3, n_features=np.int64(2), n_iter=100,\n",
              "               random_state=RandomState(MT19937) at 0x7FA8E3BA0440, tol=1e-06)"
            ],
            "text/html": [
              "<style>#sk-container-id-1 {\n",
              "  /* Definition of color scheme common for light and dark mode */\n",
              "  --sklearn-color-text: #000;\n",
              "  --sklearn-color-text-muted: #666;\n",
              "  --sklearn-color-line: gray;\n",
              "  /* Definition of color scheme for unfitted estimators */\n",
              "  --sklearn-color-unfitted-level-0: #fff5e6;\n",
              "  --sklearn-color-unfitted-level-1: #f6e4d2;\n",
              "  --sklearn-color-unfitted-level-2: #ffe0b3;\n",
              "  --sklearn-color-unfitted-level-3: chocolate;\n",
              "  /* Definition of color scheme for fitted estimators */\n",
              "  --sklearn-color-fitted-level-0: #f0f8ff;\n",
              "  --sklearn-color-fitted-level-1: #d4ebff;\n",
              "  --sklearn-color-fitted-level-2: #b3dbfd;\n",
              "  --sklearn-color-fitted-level-3: cornflowerblue;\n",
              "\n",
              "  /* Specific color for light theme */\n",
              "  --sklearn-color-text-on-default-background: var(--sg-text-color, var(--theme-code-foreground, var(--jp-content-font-color1, black)));\n",
              "  --sklearn-color-background: var(--sg-background-color, var(--theme-background, var(--jp-layout-color0, white)));\n",
              "  --sklearn-color-border-box: var(--sg-text-color, var(--theme-code-foreground, var(--jp-content-font-color1, black)));\n",
              "  --sklearn-color-icon: #696969;\n",
              "\n",
              "  @media (prefers-color-scheme: dark) {\n",
              "    /* Redefinition of color scheme for dark theme */\n",
              "    --sklearn-color-text-on-default-background: var(--sg-text-color, var(--theme-code-foreground, var(--jp-content-font-color1, white)));\n",
              "    --sklearn-color-background: var(--sg-background-color, var(--theme-background, var(--jp-layout-color0, #111)));\n",
              "    --sklearn-color-border-box: var(--sg-text-color, var(--theme-code-foreground, var(--jp-content-font-color1, white)));\n",
              "    --sklearn-color-icon: #878787;\n",
              "  }\n",
              "}\n",
              "\n",
              "#sk-container-id-1 {\n",
              "  color: var(--sklearn-color-text);\n",
              "}\n",
              "\n",
              "#sk-container-id-1 pre {\n",
              "  padding: 0;\n",
              "}\n",
              "\n",
              "#sk-container-id-1 input.sk-hidden--visually {\n",
              "  border: 0;\n",
              "  clip: rect(1px 1px 1px 1px);\n",
              "  clip: rect(1px, 1px, 1px, 1px);\n",
              "  height: 1px;\n",
              "  margin: -1px;\n",
              "  overflow: hidden;\n",
              "  padding: 0;\n",
              "  position: absolute;\n",
              "  width: 1px;\n",
              "}\n",
              "\n",
              "#sk-container-id-1 div.sk-dashed-wrapped {\n",
              "  border: 1px dashed var(--sklearn-color-line);\n",
              "  margin: 0 0.4em 0.5em 0.4em;\n",
              "  box-sizing: border-box;\n",
              "  padding-bottom: 0.4em;\n",
              "  background-color: var(--sklearn-color-background);\n",
              "}\n",
              "\n",
              "#sk-container-id-1 div.sk-container {\n",
              "  /* jupyter's `normalize.less` sets `[hidden] { display: none; }`\n",
              "     but bootstrap.min.css set `[hidden] { display: none !important; }`\n",
              "     so we also need the `!important` here to be able to override the\n",
              "     default hidden behavior on the sphinx rendered scikit-learn.org.\n",
              "     See: https://github.com/scikit-learn/scikit-learn/issues/21755 */\n",
              "  display: inline-block !important;\n",
              "  position: relative;\n",
              "}\n",
              "\n",
              "#sk-container-id-1 div.sk-text-repr-fallback {\n",
              "  display: none;\n",
              "}\n",
              "\n",
              "div.sk-parallel-item,\n",
              "div.sk-serial,\n",
              "div.sk-item {\n",
              "  /* draw centered vertical line to link estimators */\n",
              "  background-image: linear-gradient(var(--sklearn-color-text-on-default-background), var(--sklearn-color-text-on-default-background));\n",
              "  background-size: 2px 100%;\n",
              "  background-repeat: no-repeat;\n",
              "  background-position: center center;\n",
              "}\n",
              "\n",
              "/* Parallel-specific style estimator block */\n",
              "\n",
              "#sk-container-id-1 div.sk-parallel-item::after {\n",
              "  content: \"\";\n",
              "  width: 100%;\n",
              "  border-bottom: 2px solid var(--sklearn-color-text-on-default-background);\n",
              "  flex-grow: 1;\n",
              "}\n",
              "\n",
              "#sk-container-id-1 div.sk-parallel {\n",
              "  display: flex;\n",
              "  align-items: stretch;\n",
              "  justify-content: center;\n",
              "  background-color: var(--sklearn-color-background);\n",
              "  position: relative;\n",
              "}\n",
              "\n",
              "#sk-container-id-1 div.sk-parallel-item {\n",
              "  display: flex;\n",
              "  flex-direction: column;\n",
              "}\n",
              "\n",
              "#sk-container-id-1 div.sk-parallel-item:first-child::after {\n",
              "  align-self: flex-end;\n",
              "  width: 50%;\n",
              "}\n",
              "\n",
              "#sk-container-id-1 div.sk-parallel-item:last-child::after {\n",
              "  align-self: flex-start;\n",
              "  width: 50%;\n",
              "}\n",
              "\n",
              "#sk-container-id-1 div.sk-parallel-item:only-child::after {\n",
              "  width: 0;\n",
              "}\n",
              "\n",
              "/* Serial-specific style estimator block */\n",
              "\n",
              "#sk-container-id-1 div.sk-serial {\n",
              "  display: flex;\n",
              "  flex-direction: column;\n",
              "  align-items: center;\n",
              "  background-color: var(--sklearn-color-background);\n",
              "  padding-right: 1em;\n",
              "  padding-left: 1em;\n",
              "}\n",
              "\n",
              "\n",
              "/* Toggleable style: style used for estimator/Pipeline/ColumnTransformer box that is\n",
              "clickable and can be expanded/collapsed.\n",
              "- Pipeline and ColumnTransformer use this feature and define the default style\n",
              "- Estimators will overwrite some part of the style using the `sk-estimator` class\n",
              "*/\n",
              "\n",
              "/* Pipeline and ColumnTransformer style (default) */\n",
              "\n",
              "#sk-container-id-1 div.sk-toggleable {\n",
              "  /* Default theme specific background. It is overwritten whether we have a\n",
              "  specific estimator or a Pipeline/ColumnTransformer */\n",
              "  background-color: var(--sklearn-color-background);\n",
              "}\n",
              "\n",
              "/* Toggleable label */\n",
              "#sk-container-id-1 label.sk-toggleable__label {\n",
              "  cursor: pointer;\n",
              "  display: flex;\n",
              "  width: 100%;\n",
              "  margin-bottom: 0;\n",
              "  padding: 0.5em;\n",
              "  box-sizing: border-box;\n",
              "  text-align: center;\n",
              "  align-items: start;\n",
              "  justify-content: space-between;\n",
              "  gap: 0.5em;\n",
              "}\n",
              "\n",
              "#sk-container-id-1 label.sk-toggleable__label .caption {\n",
              "  font-size: 0.6rem;\n",
              "  font-weight: lighter;\n",
              "  color: var(--sklearn-color-text-muted);\n",
              "}\n",
              "\n",
              "#sk-container-id-1 label.sk-toggleable__label-arrow:before {\n",
              "  /* Arrow on the left of the label */\n",
              "  content: \"▸\";\n",
              "  float: left;\n",
              "  margin-right: 0.25em;\n",
              "  color: var(--sklearn-color-icon);\n",
              "}\n",
              "\n",
              "#sk-container-id-1 label.sk-toggleable__label-arrow:hover:before {\n",
              "  color: var(--sklearn-color-text);\n",
              "}\n",
              "\n",
              "/* Toggleable content - dropdown */\n",
              "\n",
              "#sk-container-id-1 div.sk-toggleable__content {\n",
              "  max-height: 0;\n",
              "  max-width: 0;\n",
              "  overflow: hidden;\n",
              "  text-align: left;\n",
              "  /* unfitted */\n",
              "  background-color: var(--sklearn-color-unfitted-level-0);\n",
              "}\n",
              "\n",
              "#sk-container-id-1 div.sk-toggleable__content.fitted {\n",
              "  /* fitted */\n",
              "  background-color: var(--sklearn-color-fitted-level-0);\n",
              "}\n",
              "\n",
              "#sk-container-id-1 div.sk-toggleable__content pre {\n",
              "  margin: 0.2em;\n",
              "  border-radius: 0.25em;\n",
              "  color: var(--sklearn-color-text);\n",
              "  /* unfitted */\n",
              "  background-color: var(--sklearn-color-unfitted-level-0);\n",
              "}\n",
              "\n",
              "#sk-container-id-1 div.sk-toggleable__content.fitted pre {\n",
              "  /* unfitted */\n",
              "  background-color: var(--sklearn-color-fitted-level-0);\n",
              "}\n",
              "\n",
              "#sk-container-id-1 input.sk-toggleable__control:checked~div.sk-toggleable__content {\n",
              "  /* Expand drop-down */\n",
              "  max-height: 200px;\n",
              "  max-width: 100%;\n",
              "  overflow: auto;\n",
              "}\n",
              "\n",
              "#sk-container-id-1 input.sk-toggleable__control:checked~label.sk-toggleable__label-arrow:before {\n",
              "  content: \"▾\";\n",
              "}\n",
              "\n",
              "/* Pipeline/ColumnTransformer-specific style */\n",
              "\n",
              "#sk-container-id-1 div.sk-label input.sk-toggleable__control:checked~label.sk-toggleable__label {\n",
              "  color: var(--sklearn-color-text);\n",
              "  background-color: var(--sklearn-color-unfitted-level-2);\n",
              "}\n",
              "\n",
              "#sk-container-id-1 div.sk-label.fitted input.sk-toggleable__control:checked~label.sk-toggleable__label {\n",
              "  background-color: var(--sklearn-color-fitted-level-2);\n",
              "}\n",
              "\n",
              "/* Estimator-specific style */\n",
              "\n",
              "/* Colorize estimator box */\n",
              "#sk-container-id-1 div.sk-estimator input.sk-toggleable__control:checked~label.sk-toggleable__label {\n",
              "  /* unfitted */\n",
              "  background-color: var(--sklearn-color-unfitted-level-2);\n",
              "}\n",
              "\n",
              "#sk-container-id-1 div.sk-estimator.fitted input.sk-toggleable__control:checked~label.sk-toggleable__label {\n",
              "  /* fitted */\n",
              "  background-color: var(--sklearn-color-fitted-level-2);\n",
              "}\n",
              "\n",
              "#sk-container-id-1 div.sk-label label.sk-toggleable__label,\n",
              "#sk-container-id-1 div.sk-label label {\n",
              "  /* The background is the default theme color */\n",
              "  color: var(--sklearn-color-text-on-default-background);\n",
              "}\n",
              "\n",
              "/* On hover, darken the color of the background */\n",
              "#sk-container-id-1 div.sk-label:hover label.sk-toggleable__label {\n",
              "  color: var(--sklearn-color-text);\n",
              "  background-color: var(--sklearn-color-unfitted-level-2);\n",
              "}\n",
              "\n",
              "/* Label box, darken color on hover, fitted */\n",
              "#sk-container-id-1 div.sk-label.fitted:hover label.sk-toggleable__label.fitted {\n",
              "  color: var(--sklearn-color-text);\n",
              "  background-color: var(--sklearn-color-fitted-level-2);\n",
              "}\n",
              "\n",
              "/* Estimator label */\n",
              "\n",
              "#sk-container-id-1 div.sk-label label {\n",
              "  font-family: monospace;\n",
              "  font-weight: bold;\n",
              "  display: inline-block;\n",
              "  line-height: 1.2em;\n",
              "}\n",
              "\n",
              "#sk-container-id-1 div.sk-label-container {\n",
              "  text-align: center;\n",
              "}\n",
              "\n",
              "/* Estimator-specific */\n",
              "#sk-container-id-1 div.sk-estimator {\n",
              "  font-family: monospace;\n",
              "  border: 1px dotted var(--sklearn-color-border-box);\n",
              "  border-radius: 0.25em;\n",
              "  box-sizing: border-box;\n",
              "  margin-bottom: 0.5em;\n",
              "  /* unfitted */\n",
              "  background-color: var(--sklearn-color-unfitted-level-0);\n",
              "}\n",
              "\n",
              "#sk-container-id-1 div.sk-estimator.fitted {\n",
              "  /* fitted */\n",
              "  background-color: var(--sklearn-color-fitted-level-0);\n",
              "}\n",
              "\n",
              "/* on hover */\n",
              "#sk-container-id-1 div.sk-estimator:hover {\n",
              "  /* unfitted */\n",
              "  background-color: var(--sklearn-color-unfitted-level-2);\n",
              "}\n",
              "\n",
              "#sk-container-id-1 div.sk-estimator.fitted:hover {\n",
              "  /* fitted */\n",
              "  background-color: var(--sklearn-color-fitted-level-2);\n",
              "}\n",
              "\n",
              "/* Specification for estimator info (e.g. \"i\" and \"?\") */\n",
              "\n",
              "/* Common style for \"i\" and \"?\" */\n",
              "\n",
              ".sk-estimator-doc-link,\n",
              "a:link.sk-estimator-doc-link,\n",
              "a:visited.sk-estimator-doc-link {\n",
              "  float: right;\n",
              "  font-size: smaller;\n",
              "  line-height: 1em;\n",
              "  font-family: monospace;\n",
              "  background-color: var(--sklearn-color-background);\n",
              "  border-radius: 1em;\n",
              "  height: 1em;\n",
              "  width: 1em;\n",
              "  text-decoration: none !important;\n",
              "  margin-left: 0.5em;\n",
              "  text-align: center;\n",
              "  /* unfitted */\n",
              "  border: var(--sklearn-color-unfitted-level-1) 1pt solid;\n",
              "  color: var(--sklearn-color-unfitted-level-1);\n",
              "}\n",
              "\n",
              ".sk-estimator-doc-link.fitted,\n",
              "a:link.sk-estimator-doc-link.fitted,\n",
              "a:visited.sk-estimator-doc-link.fitted {\n",
              "  /* fitted */\n",
              "  border: var(--sklearn-color-fitted-level-1) 1pt solid;\n",
              "  color: var(--sklearn-color-fitted-level-1);\n",
              "}\n",
              "\n",
              "/* On hover */\n",
              "div.sk-estimator:hover .sk-estimator-doc-link:hover,\n",
              ".sk-estimator-doc-link:hover,\n",
              "div.sk-label-container:hover .sk-estimator-doc-link:hover,\n",
              ".sk-estimator-doc-link:hover {\n",
              "  /* unfitted */\n",
              "  background-color: var(--sklearn-color-unfitted-level-3);\n",
              "  color: var(--sklearn-color-background);\n",
              "  text-decoration: none;\n",
              "}\n",
              "\n",
              "div.sk-estimator.fitted:hover .sk-estimator-doc-link.fitted:hover,\n",
              ".sk-estimator-doc-link.fitted:hover,\n",
              "div.sk-label-container:hover .sk-estimator-doc-link.fitted:hover,\n",
              ".sk-estimator-doc-link.fitted:hover {\n",
              "  /* fitted */\n",
              "  background-color: var(--sklearn-color-fitted-level-3);\n",
              "  color: var(--sklearn-color-background);\n",
              "  text-decoration: none;\n",
              "}\n",
              "\n",
              "/* Span, style for the box shown on hovering the info icon */\n",
              ".sk-estimator-doc-link span {\n",
              "  display: none;\n",
              "  z-index: 9999;\n",
              "  position: relative;\n",
              "  font-weight: normal;\n",
              "  right: .2ex;\n",
              "  padding: .5ex;\n",
              "  margin: .5ex;\n",
              "  width: min-content;\n",
              "  min-width: 20ex;\n",
              "  max-width: 50ex;\n",
              "  color: var(--sklearn-color-text);\n",
              "  box-shadow: 2pt 2pt 4pt #999;\n",
              "  /* unfitted */\n",
              "  background: var(--sklearn-color-unfitted-level-0);\n",
              "  border: .5pt solid var(--sklearn-color-unfitted-level-3);\n",
              "}\n",
              "\n",
              ".sk-estimator-doc-link.fitted span {\n",
              "  /* fitted */\n",
              "  background: var(--sklearn-color-fitted-level-0);\n",
              "  border: var(--sklearn-color-fitted-level-3);\n",
              "}\n",
              "\n",
              ".sk-estimator-doc-link:hover span {\n",
              "  display: block;\n",
              "}\n",
              "\n",
              "/* \"?\"-specific style due to the `<a>` HTML tag */\n",
              "\n",
              "#sk-container-id-1 a.estimator_doc_link {\n",
              "  float: right;\n",
              "  font-size: 1rem;\n",
              "  line-height: 1em;\n",
              "  font-family: monospace;\n",
              "  background-color: var(--sklearn-color-background);\n",
              "  border-radius: 1rem;\n",
              "  height: 1rem;\n",
              "  width: 1rem;\n",
              "  text-decoration: none;\n",
              "  /* unfitted */\n",
              "  color: var(--sklearn-color-unfitted-level-1);\n",
              "  border: var(--sklearn-color-unfitted-level-1) 1pt solid;\n",
              "}\n",
              "\n",
              "#sk-container-id-1 a.estimator_doc_link.fitted {\n",
              "  /* fitted */\n",
              "  border: var(--sklearn-color-fitted-level-1) 1pt solid;\n",
              "  color: var(--sklearn-color-fitted-level-1);\n",
              "}\n",
              "\n",
              "/* On hover */\n",
              "#sk-container-id-1 a.estimator_doc_link:hover {\n",
              "  /* unfitted */\n",
              "  background-color: var(--sklearn-color-unfitted-level-3);\n",
              "  color: var(--sklearn-color-background);\n",
              "  text-decoration: none;\n",
              "}\n",
              "\n",
              "#sk-container-id-1 a.estimator_doc_link.fitted:hover {\n",
              "  /* fitted */\n",
              "  background-color: var(--sklearn-color-fitted-level-3);\n",
              "}\n",
              "</style><div id=\"sk-container-id-1\" class=\"sk-top-container\"><div class=\"sk-text-repr-fallback\"><pre>CategoricalHMM(n_components=3, n_features=np.int64(2), n_iter=100,\n",
              "               random_state=RandomState(MT19937) at 0x7FA8E3BA0440, tol=1e-06)</pre><b>In a Jupyter environment, please rerun this cell to show the HTML representation or trust the notebook. <br />On GitHub, the HTML representation is unable to render, please try loading this page with nbviewer.org.</b></div><div class=\"sk-container\" hidden><div class=\"sk-item\"><div class=\"sk-estimator fitted sk-toggleable\"><input class=\"sk-toggleable__control sk-hidden--visually\" id=\"sk-estimator-id-1\" type=\"checkbox\" checked><label for=\"sk-estimator-id-1\" class=\"sk-toggleable__label fitted sk-toggleable__label-arrow\"><div><div>CategoricalHMM</div></div><div><span class=\"sk-estimator-doc-link fitted\">i<span>Fitted</span></span></div></label><div class=\"sk-toggleable__content fitted\"><pre>CategoricalHMM(n_components=3, n_features=np.int64(2), n_iter=100,\n",
              "               random_state=RandomState(MT19937) at 0x7FA8E3BA0440, tol=1e-06)</pre></div> </div></div></div></div>"
            ]
          },
          "metadata": {},
          "execution_count": 10
        }
      ]
    },
    {
      "cell_type": "markdown",
      "source": [
        "---\n",
        "<font color=green>Q6:</font> <br><font color='green'>\n",
        "After fitting the model, extract the learned parameters (initial state distribution, transition matrix, and emission matrix)\n",
        "\n",
        "For reference:\n",
        "- The learned initial state distribution is stored in `fitted_model.startprob_`\n",
        "- The learned transition matrix is stored in `fitted_model.transmat_`\n",
        "- The learned emission matrix is stored in `fitted_model.emissionprob_`\n",
        "</font>  \n",
        "\n",
        "---\n"
      ],
      "metadata": {
        "id": "nnJqWSUPph6O"
      }
    },
    {
      "cell_type": "code",
      "source": [
        "# Extract the learned parameters\n",
        "learned_pi = fitted_model.startprob_\n",
        "learned_Q = fitted_model.transmat_\n",
        "learned_O = fitted_model.emissionprob_\n",
        "\n",
        "# Print the learned parameters\n",
        "print(\"\\nLearned initial state distribution (π):\")\n",
        "print(learned_pi)\n",
        "print(\"\\nLearned transition matrix (Q):\")\n",
        "print(learned_Q)\n",
        "print(\"\\nLearned emission matrix (O):\")\n",
        "print(learned_O)"
      ],
      "metadata": {
        "id": "Q0IXFc2iQ2FN",
        "colab": {
          "base_uri": "https://localhost:8080/"
        },
        "outputId": "6b7db70c-5ddf-46d5-8c67-22ec74c68d4c"
      },
      "execution_count": 11,
      "outputs": [
        {
          "output_type": "stream",
          "name": "stdout",
          "text": [
            "\n",
            "Learned initial state distribution (π):\n",
            "[1.00000000e+000 6.06465463e-053 2.13382880e-125]\n",
            "\n",
            "Learned transition matrix (Q):\n",
            "[[8.57948099e-05 9.99778742e-01 1.35463634e-04]\n",
            " [6.68192680e-01 1.22984882e-03 3.30577471e-01]\n",
            " [1.43324361e-01 1.33994383e-02 8.43276200e-01]]\n",
            "\n",
            "Learned emission matrix (O):\n",
            "[[0.12365776 0.87634224]\n",
            " [0.07855612 0.92144388]\n",
            " [0.78590443 0.21409557]]\n"
          ]
        }
      ]
    },
    {
      "cell_type": "markdown",
      "source": [
        "### Comparing Log Likelihoods\n",
        "\n",
        "An important measure of how well our model fits the data is the log-likelihood, which quantifies the probability of observing our data given the model parameters.\n"
      ],
      "metadata": {
        "id": "TK03F_8qp8mV"
      }
    },
    {
      "cell_type": "markdown",
      "source": [
        "---\n",
        "<font color=green>Q7:</font> <br><font color='green'>\n",
        "Compare the log-likelihood of the observations under three different models:\n",
        "1. The fitted model (with parameters learned via EM)\n",
        "2. The true model (with the parameters we used to generate the data)\n",
        "3. Random models (with randomly generated parameters)\n",
        "\n",
        "Which model gives the highest log-likelihood? What can you conclude about the EM algorithm's effectiveness in recovering the true model?\n",
        "</font>  \n",
        "\n",
        "---"
      ],
      "metadata": {
        "id": "e81kDDrTqAOh"
      }
    },
    {
      "cell_type": "code",
      "source": [
        "# 1. Log-likelihood with the fitted model\n",
        "ll_fitted = fitted_model.score(X)\n",
        "print(f\"Log-likelihood with fitted model: {ll_fitted:.2f}\")\n",
        "\n",
        "# 2. Create a new model with the true parameters\n",
        "true_model = CategoricalHMM(n_components=n_states)\n",
        "true_model.startprob_ = pi\n",
        "true_model.transmat_ = Q\n",
        "true_model.emissionprob_ = O\n",
        "\n",
        "# Calculate log-likelihood with true model\n",
        "ll_true = true_model.score(X)\n",
        "print(f\"Log-likelihood with true model: {ll_true:.2f}\")\n",
        "\n",
        "# 3. Generate random models and compare\n",
        "n_random_models = 20\n",
        "random_lls = []\n",
        "\n",
        "for i in range(n_random_models):\n",
        "    # Generate random parameters\n",
        "    random_pi = np.random.random(n_states)\n",
        "    random_pi /= random_pi.sum()\n",
        "\n",
        "    random_Q = np.random.random((n_states, n_states))\n",
        "    random_Q /= random_Q.sum(axis=1, keepdims=True)\n",
        "\n",
        "    random_O = np.random.random((n_states, n_observations))\n",
        "    random_O /= random_O.sum(axis=1, keepdims=True)\n",
        "\n",
        "    # Create and configure random model\n",
        "    random_model = CategoricalHMM(n_components=n_states)\n",
        "    random_model.startprob_ = random_pi\n",
        "    random_model.transmat_ = random_Q\n",
        "    random_model.emissionprob_ = random_O\n",
        "\n",
        "    # Calculate log-likelihood\n",
        "    ll_random = random_model.score(X)\n",
        "    random_lls.append(ll_random)\n",
        "\n",
        "# Calculate average random log-likelihood\n",
        "ll_random_avg = np.mean(random_lls)\n",
        "\n",
        "# Print results\n",
        "print(f\"Average log-likelihood with random models: {ll_random_avg:.2f}\")\n",
        "\n",
        "# Plot the log-likelihoods\n",
        "plt.figure(figsize=(10, 6))\n",
        "plt.axhline(y=ll_random_avg, color='blue', linestyle='-', label=f'Random Models (avg): {ll_random_avg:.2f}')\n",
        "plt.axhline(y=ll_fitted, color='green', linestyle='-', label=f'Fitted Model: {ll_fitted:.2f}')\n",
        "plt.axhline(y=ll_true, color='red', linestyle='-', label=f'True Model: {ll_true:.2f}')\n",
        "\n",
        "plt.title('Comparison of Log-Likelihoods')\n",
        "plt.ylabel('Log-Likelihood')\n",
        "plt.grid(True)\n",
        "plt.legend()\n",
        "plt.show()"
      ],
      "metadata": {
        "id": "-WVnr-2eQ2KW",
        "colab": {
          "base_uri": "https://localhost:8080/",
          "height": 599
        },
        "outputId": "1ed72d18-dbed-463b-e4ab-71461d0276e6"
      },
      "execution_count": 12,
      "outputs": [
        {
          "output_type": "stream",
          "name": "stdout",
          "text": [
            "Log-likelihood with fitted model: -628.79\n",
            "Log-likelihood with true model: -632.51\n",
            "Average log-likelihood with random models: -751.64\n"
          ]
        },
        {
          "output_type": "display_data",
          "data": {
            "text/plain": [
              "<Figure size 1000x600 with 1 Axes>"
            ],
            "image/png": "[encoded data removed]"
          },
          "metadata": {}
        }
      ]
    },
    {
      "cell_type": "markdown",
      "source": [
        "### The Label Switching Problem"
      ],
      "metadata": {
        "id": "0Vs8Gwf1AbZu"
      }
    },
    {
      "cell_type": "markdown",
      "source": [
        "One challenge when learning HMMs is the \"label switching\" problem. The states in our learned model might correspond to different states in the true model."
      ],
      "metadata": {
        "id": "7skc-pn4AbOV"
      }
    },
    {
      "cell_type": "markdown",
      "source": [
        "---\n",
        "<font color=green>Q8:</font> <br><font color='green'>\n",
        "Examine the emission matrix of the learned model. Can you determine which state in the learned model corresponds to which character (Donald, Charlie, or Neither)?\n",
        "</font>  \n",
        "\n",
        "---"
      ],
      "metadata": {
        "id": "f5H0yx65Ajio"
      }
    },
    {
      "cell_type": "code",
      "source": [
        "# Let's identify the states based on their emission probabilities\n",
        "# Donald: High probability (~0.9) of eating sandwich\n",
        "# Charlie: Medium probability (~0.5) of eating sandwich\n",
        "# Neither: Low probability (~0) of eating sandwich\n",
        "\n",
        "# Extract probability of sandwich missing for each state\n",
        "prob_sandwich_missing = learned_O[:, 1]  # Second column is sandwich missing\n",
        "\n",
        "# Find the most likely mapping based on emission probabilities\n",
        "donald_idx = np.argmax(prob_sandwich_missing)  # Highest probability of missing sandwich\n",
        "neither_idx = np.argmin(prob_sandwich_missing)  # Lowest probability of missing sandwich\n",
        "\n",
        "# Charlie is the remaining state\n",
        "charlie_idx = [i for i in range(n_states) if i != donald_idx and i != neither_idx][0]\n",
        "\n",
        "# Print the mapping\n",
        "print(\"Mapping between learned model states and true characters:\")\n",
        "print(f\"Learned state {donald_idx} → Donald (prob. sandwich missing: {prob_sandwich_missing[donald_idx]:.2f})\")\n",
        "print(f\"Learned state {charlie_idx} → Charlie (prob. sandwich missing: {prob_sandwich_missing[charlie_idx]:.2f})\")\n",
        "print(f\"Learned state {neither_idx} → Neither (prob. sandwich missing: {prob_sandwich_missing[neither_idx]:.2f})\")"
      ],
      "metadata": {
        "id": "P9Uh4qDhQ2Mp",
        "colab": {
          "base_uri": "https://localhost:8080/"
        },
        "outputId": "550cf57d-a6f3-420c-8091-922f163feb6b"
      },
      "execution_count": 13,
      "outputs": [
        {
          "output_type": "stream",
          "name": "stdout",
          "text": [
            "Mapping between learned model states and true characters:\n",
            "Learned state 1 → Donald (prob. sandwich missing: 0.92)\n",
            "Learned state 0 → Charlie (prob. sandwich missing: 0.88)\n",
            "Learned state 2 → Neither (prob. sandwich missing: 0.21)\n"
          ]
        }
      ]
    },
    {
      "cell_type": "markdown",
      "source": [
        "# Predicting the next Hidden State / Next Observation"
      ],
      "metadata": {
        "id": "7PbucIdrFyiF"
      }
    },
    {
      "cell_type": "markdown",
      "source": [
        "### Predicting the Next Hidden State"
      ],
      "metadata": {
        "id": "zJIvSyamc7F-"
      }
    },
    {
      "cell_type": "markdown",
      "source": [
        "Now that we have the filtered state distribution at the last time step, we can predict the distribution of the next hidden state.\n"
      ],
      "metadata": {
        "id": "dg0EOCEOaNSi"
      }
    },
    {
      "cell_type": "markdown",
      "source": [
        "---\n",
        "<font color=green>Q9:</font> <br><font color='green'>\n",
        "Calculate the distribution of the next hidden state: $p(H_{t+1} = h| \\tilde{X}_1 = x_1, \\dots, \\tilde{X}_t = x_t)$ for $h \\in \\{0, \\dots, M-1\\}$ using the equation:\n",
        "\n",
        "$p(H_{t+1} = h| \\tilde{X}_1 = x_1, \\dots, \\tilde{X}_t = x_t) = \\sum_{h'=0}^{M-1} Q_{h'h} \\cdot p(H_{t} = h' | \\tilde{X}_1 = x_1, \\dots, \\tilde{X}_t = x_t)$\n",
        "\n",
        "Using matrix notation, if we define:\n",
        "- $F = [p(H_t = h' | \\tilde{X}_1 = x_1, \\dots, \\tilde{X}_t = x_t)]_{h' \\in \\{0, \\dots, M-1\\}} \\in \\mathbb{R}^{1 \\times M}$\n",
        "- $H = [p(H_{t+1} = h | \\tilde{X}_1 = x_1, \\dots, \\tilde{X}_t = x_t)]_{h \\in \\{0, \\dots, M-1\\}} \\in \\mathbb{R}^{1 \\times M}$\n",
        "\n",
        "Then we can compute $H = F \\cdot Q$\n",
        "</font>  \n",
        "\n",
        "---"
      ],
      "metadata": {
        "id": "ph9f8NwMaTdS"
      }
    },
    {
      "cell_type": "markdown",
      "source": [
        "<center><img width=\"500\" src = \"https://drive.google.com/uc?export=view&id=18BSCEYXHm3XKrnQ5V_L5x3NoUm_FfdPs\"></center>"
      ],
      "metadata": {
        "id": "4z4709-McEzc"
      }
    },
    {
      "cell_type": "code",
      "source": [
        "# Compute the filtered state distribution for all time steps\n",
        "filtered_states = fitted_model.predict_proba(X)\n",
        "\n",
        "# Extract the last filtering probability p(H_t = h' | X_1 = x_1, ..., X_t = x_t) for h' in {0, 1, 2}\n",
        "F = filtered_states[-1]"
      ],
      "metadata": {
        "id": "oMqW1vEDbcui"
      },
      "execution_count": 14,
      "outputs": []
    },
    {
      "cell_type": "code",
      "source": [
        "# Predict the next hidden state distribution using matrix multiplication\n",
        "# H = F · Q\n",
        "H = np.dot(F, fitted_model.transmat_)\n",
        "\n",
        "# Visualize the current and next state distributions\n",
        "states = ['State 0', 'State 1', 'State 2']\n",
        "plt.figure(figsize=(8, 4))\n",
        "\n",
        "plt.subplot(1, 2, 1)\n",
        "plt.bar(states, F, color='blue', alpha=0.7)\n",
        "plt.title('Current State Distribution')\n",
        "plt.ylabel('Probability')\n",
        "plt.grid(True, axis='y')\n",
        "\n",
        "plt.subplot(1, 2, 2)\n",
        "plt.bar(states, H, color='green', alpha=0.7)\n",
        "plt.title('Next State Distribution')\n",
        "plt.grid(True, axis='y')\n",
        "\n",
        "plt.tight_layout()\n",
        "plt.show()\n",
        "\n",
        "# Determine the most likely next state\n",
        "most_likely_next_state = np.argmax(H)\n",
        "print(f\"The most likely next state is State {most_likely_next_state} with probability {H[most_likely_next_state]:.4f}\")"
      ],
      "metadata": {
        "colab": {
          "base_uri": "https://localhost:8080/",
          "height": 425
        },
        "id": "-VyEzcVDF2NI",
        "outputId": "45b34e54-f755-422a-9269-203f0bfb5f51"
      },
      "execution_count": 15,
      "outputs": [
        {
          "output_type": "display_data",
          "data": {
            "text/plain": [
              "<Figure size 800x400 with 2 Axes>"
            ],
            "image/png": "[encoded data removed]"
          },
          "metadata": {}
        },
        {
          "output_type": "stream",
          "name": "stdout",
          "text": [
            "The most likely next state is State 2 with probability 0.4228\n"
          ]
        }
      ]
    },
    {
      "cell_type": "markdown",
      "source": [
        "### Predicting the Next Observation"
      ],
      "metadata": {
        "id": "3lbubW7Pc87h"
      }
    },
    {
      "cell_type": "markdown",
      "source": [
        "Finally, we can use the predicted next state distribution to calculate the probability distribution for the next observation."
      ],
      "metadata": {
        "id": "7oTCAy0tdCGn"
      }
    },
    {
      "cell_type": "markdown",
      "source": [
        "---\n",
        "<font color=green>Q10:</font> <br><font color='green'>\n",
        "Calculate the distribution of the next observation: $p(\\tilde{X}_{t+1} = x | \\tilde{X}_1 = x_1, \\dots, \\tilde{X}_t = x_t)$ for $x \\in \\{0, 1\\}$ using the equation:\n",
        "\n",
        "$p(\\tilde{X}_{t+1} = x | \\tilde{X}_1 = x_1, \\dots, \\tilde{X}_t = x_t) = \\sum_{h=0}^{M-1} O_{hx} \\cdot p(H_{t+1} = h | \\tilde{X}_1 = x_1, \\dots, \\tilde{X}_t = x_t)$\n",
        "\n",
        "Using matrix notation, if we define:\n",
        "- $P = [p(\\tilde{X}_{t+1} = x | \\tilde{X}_1 = x_1, \\dots, \\tilde{X}_t = x_t)]_{x \\in \\{0, 1\\}} \\in \\mathbb{R}^{1 \\times 2}$\n",
        "\n",
        "Then we can compute $P = H \\cdot O$\n",
        "</font>  \n",
        "\n",
        "---"
      ],
      "metadata": {
        "id": "2W2r-SRKdE4L"
      }
    },
    {
      "cell_type": "code",
      "source": [
        "# Calculate the next observation distribution\n",
        "# P = H · O\n",
        "P = np.dot(H, fitted_model.emissionprob_)\n",
        "\n",
        "print(\"Predicted next observation distribution:\")\n",
        "print(f\"p(X_{len(observations)+1} = 0 | observations) = {P[0]:.4f} (Sandwich Safe)\")\n",
        "print(f\"p(X_{len(observations)+1} = 1 | observations) = {P[1]:.4f} (Sandwich Missing)\")\n",
        "\n",
        "# Visualize the next observation distribution\n",
        "plt.figure(figsize=(6, 4))\n",
        "plt.bar(['Sandwich Safe', 'Sandwich Missing'], P, color=['green', 'red'], alpha=0.7)\n",
        "plt.title('Predicted Probability for Tomorrow\\'s Sandwich')\n",
        "plt.ylabel('Probability')\n",
        "plt.grid(True, axis='y')\n",
        "plt.show()\n",
        "\n",
        "# Determine the most likely next observation\n",
        "most_likely_next_obs = np.argmax(P)\n",
        "obs_labels = ['safe', 'missing']\n",
        "print(f\"The sandwich is most likely to be {obs_labels[most_likely_next_obs]} tomorrow with probability {P[most_likely_next_obs]:.4f}\")"
      ],
      "metadata": {
        "colab": {
          "base_uri": "https://localhost:8080/",
          "height": 462
        },
        "id": "vR_QbUqGbmDI",
        "outputId": "ce2e9ea4-06cf-4636-fdfd-bfacf9f2dd4f"
      },
      "execution_count": 16,
      "outputs": [
        {
          "output_type": "stream",
          "name": "stdout",
          "text": [
            "Predicted next observation distribution:\n",
            "p(X_1001 = 0 | observations) = 0.3849 (Sandwich Safe)\n",
            "p(X_1001 = 1 | observations) = 0.6151 (Sandwich Missing)\n"
          ]
        },
        {
          "output_type": "display_data",
          "data": {
            "text/plain": [
              "<Figure size 600x400 with 1 Axes>"
            ],
            "image/png": "[encoded data removed]"
          },
          "metadata": {}
        },
        {
          "output_type": "stream",
          "name": "stdout",
          "text": [
            "The sandwich is most likely to be missing tomorrow with probability 0.6151\n"
          ]
        }
      ]
    },
    {
      "cell_type": "markdown",
      "source": [
        "### Conclusion"
      ],
      "metadata": {
        "id": "lUyqss7feiw3"
      }
    },
    {
      "cell_type": "markdown",
      "source": [
        "\n",
        "\n",
        "This notebook explores Hidden Markov Models through a practical example of Dr. Ross Geller's missing sandwich problem. The content is structured in three main sections:\n",
        "\n",
        "#### 1. Introducing the Problem and Generating the Data\n",
        "- **Introducing the Hidden States**: Sets up a scenario where Dr. Geller's sandwiches go missing, with three possible hidden states (Donald present, Charlie present, or neither present)\n",
        "- **Introducing the Parameters of the Hidden Markov Model**: Defines the model parameters - initial state distribution (π), transition matrix (Q), and emission matrix (O)\n",
        "- **Generating the Synthetic Data**: Creates simulated data using the HMM parameters to represent 1000 days of sandwich observations\n",
        "\n",
        "#### 2. The Learning Problem: EM Algorithm\n",
        "- **Fitting the Model Using hmmlearn**: Implements the Expectation-Maximization algorithm to learn the model parameters from observations only\n",
        "- **Comparing Log Likelihoods**: Evaluates model quality by comparing log-likelihoods of fitted, true, and random models\n",
        "- **The Label Switching Problem**: Addresses the issue of state identifiability in learned HMMs and reorders states to match original interpretations\n",
        "\n",
        "#### 3. Predicting the Next Hidden State / Next Observation\n",
        "- **Predicting the Next Hidden State**: Uses filtering probabilities to predict the next hidden state\n",
        "- **Predicting the Next Observation**: Calculates the probability of Dr. Geller's sandwich going missing, enabling him to make informed decisions about his sandwich security based on data-driven predictions\n",
        "\n",
        "\n",
        "These techniques have broad applications including:\n",
        "- Speech recognition\n",
        "- Natural language processing\n",
        "- Biological sequence analysis\n",
        "- Financial market regime modeling\n"
      ],
      "metadata": {
        "id": "2LQg9TzFeklr"
      }
    },
    {
      "cell_type": "markdown",
      "source": [
        "### Contact\n",
        "\n",
        "If you have any question regarding this notebook, do not hesitate to contact: h.madmoun@imperial.ac.uk"
      ],
      "metadata": {
        "id": "5p36-lQEfptd"
      }
    }
  ]
}