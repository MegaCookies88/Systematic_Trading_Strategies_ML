{
  "nbformat": 4,
  "nbformat_minor": 0,
  "metadata": {
    "colab": {
      "provenance": []
    },
    "kernelspec": {
      "name": "python3",
      "display_name": "Python 3"
    },
    "language_info": {
      "name": "python"
    }
  },
  "cells": [
    {
      "cell_type": "markdown",
      "source": [
        "# <center> Systematic Trading Strategies with Machine Learning Algorithms </center>\n",
        "\n",
        "## <center>Programming Session 6 - Introducing Variable Selection Networks\n",
        "</center>\n",
        "<center>\n",
        "<table class=\"tfo-notebook-buttons\" style=\"margin-left: auto; margin-right: auto;\">\n",
        "  <tr>\n",
        "    <td style=\"text-align: center; vertical-align: middle;\">\n",
        "      <a target=\"_blank\" href=\"https://hm-ai.github.io/Systematic_Trading_Strategies_with_Machine_Learning_Algorithms/\">\n",
        "        <img src=\"https://drive.google.com/uc?export=view&id=1hTIoxoea8RTLgKb1oE6_PFmtTNPGs5p4\" height=\"50\"/>\n",
        "        <br>Course page\n",
        "      </a>\n",
        "    </td>\n",
        "    <td style=\"text-align: center; vertical-align: middle;\">\n",
        "      <a target=\"_blank\" href=\"https://colab.research.google.com/drive/1_wQoRnnKuuVVQvN-dhVUulgaJM7MQCXI?usp=sharing\">\n",
        "        <img src=\"https://www.tensorflow.org/images/colab_logo_32px.png\" height=\"50\" />\n",
        "        <br>Run in Google Colab\n",
        "      </a>\n",
        "    </td>\n",
        "  </tr>\n",
        "</table>\n",
        "</center>"
      ],
      "metadata": {
        "id": "yXH0yIK4SptS"
      }
    },
    {
      "cell_type": "markdown",
      "source": [
        "# Introduction"
      ],
      "metadata": {
        "id": "kaS-VWYPVE2U"
      }
    },
    {
      "cell_type": "markdown",
      "source": [
        "\n",
        "\n",
        "This Programmong Session introduces the Variable Selection Network (VSN), a neural network architecture specifically designed to identify important features in complex datasets. We'll be using the same synthetic dataset from Programming Session 2, with the addition of categorical features that introduce more complexity and realism to our data.\n",
        "\n",
        "The VSN architecture addresses a key limitation of standard neural networks: their lack of inherent feature importance interpretation. While tree-based models naturally provide feature importance metrics, neural networks typically require additional techniques to understand which features drive predictions.\n",
        "\n",
        "\n",
        "![My GIF](https://drive.google.com/uc?id=1T1Il-U_g8X7CmN5qOO_Mhm_pRg7Ydo4Q)\n",
        "\n",
        "\n",
        "\n",
        "Our notebook follows these key steps:\n",
        "\n",
        "1. **Basic Models Comparison**:\n",
        "   - First, we'll implement tree-based models (Random Forest) to establish a baseline for feature importance analysis using Mean Decrease in Impurity (MDI)\n",
        "   - Next, we'll build a vanilla neural network and observe its limitations in determining feature importance\n",
        "\n",
        "2. **Variable Selection Network (VSN)**:\n",
        "   - We'll then implement the VSN architecture to introduce explicit feature importance mechanisms into our neural network\n",
        "   - This approach allows us to determine feature importance directly from the network's learned parameters\n",
        "\n",
        "\n",
        "This architecture enables neural networks to maintain their predictive power while gaining the interpretability typically associated with tree-based models.\n",
        "\n",
        "Let's begin by exploring how we generate synthetic data with known feature importance that will serve as our ground truth for evaluation."
      ],
      "metadata": {
        "id": "r5a0mpQdU0bg"
      }
    },
    {
      "cell_type": "markdown",
      "source": [
        "# Generating Synthetic Data"
      ],
      "metadata": {
        "id": "hBognj8VVKZE"
      }
    },
    {
      "cell_type": "code",
      "source": [
        "# Data manipulation libraries\n",
        "import numpy as np  # for numerical operations\n",
        "import pandas as pd  # for dataframes\n",
        "import os  # for operating system functions\n",
        "import time  # for timing operations\n",
        "import warnings  # for handling warnings\n",
        "\n",
        "# Set random seed for reproducibility\n",
        "np.random.seed(42)\n",
        "\n",
        "# Visualization libraries\n",
        "import matplotlib.pyplot as plt  # for creating plots\n",
        "import seaborn as sns  # for enhanced visualizations\n",
        "\n",
        "# Statistical libraries\n",
        "from scipy.stats import spearmanr  # for correlation analysis\n",
        "\n",
        "# Machine learning preprocessing\n",
        "from sklearn.preprocessing import StandardScaler, MinMaxScaler, OrdinalEncoder\n",
        "from sklearn.model_selection import train_test_split\n",
        "\n",
        "# Machine learning models\n",
        "from sklearn.ensemble import RandomForestClassifier\n",
        "from sklearn.cluster import KMeans\n",
        "from sklearn.mixture import GaussianMixture\n",
        "from sklearn.decomposition import PCA\n",
        "\n",
        "# Machine learning metrics and evaluation\n",
        "from sklearn.metrics import (\n",
        "    mutual_info_score, silhouette_samples, silhouette_score,\n",
        "    calinski_harabasz_score, davies_bouldin_score,\n",
        "    accuracy_score, roc_auc_score, log_loss, classification_report\n",
        ")\n",
        "from sklearn.inspection import permutation_importance\n",
        "\n",
        "# Deep learning libraries\n",
        "import tensorflow as tf\n",
        "from tensorflow.keras.models import Model\n",
        "from tensorflow.keras.layers import (\n",
        "    Layer, Input, Dense, Concatenate, Embedding,\n",
        "    BatchNormalization, LayerNormalization, Dropout\n",
        ")\n",
        "from tensorflow.keras.metrics import AUC, Precision, Recall"
      ],
      "metadata": {
        "id": "sAwkAAnFS_Bx"
      },
      "execution_count": null,
      "outputs": []
    },
    {
      "cell_type": "markdown",
      "source": [
        "### Generating and Visualizing a Linear Dataset"
      ],
      "metadata": {
        "id": "HbwifzlgVgpp"
      }
    },
    {
      "cell_type": "code",
      "source": [
        "def generate_correlated_dataset(n_samples=1000, n_clusters=3, features_per_cluster=5,\n",
        "                              n_noise=5, n_cat_features=3, cat_cardinalities=[5, 3, 7],\n",
        "                              correlation=0.8, cat_importance=0.5, noise_level=0.3,\n",
        "                              random_state=42):\n",
        "    \"\"\"\n",
        "    Generate a dataset with numerical and categorical features for classification.\n",
        "\n",
        "    Parameters:\n",
        "    -----------\n",
        "    n_samples : int\n",
        "        Number of samples (rows) in the dataset\n",
        "    n_clusters : int\n",
        "        Number of feature clusters to generate\n",
        "    features_per_cluster : int\n",
        "        Number of numerical features in each cluster (including one base feature)\n",
        "    n_noise : int\n",
        "        Number of random noise features to add\n",
        "    n_cat_features : int\n",
        "        Number of categorical features to generate\n",
        "    cat_cardinalities : list\n",
        "        List containing the number of categories for each categorical feature\n",
        "    correlation : float\n",
        "        Correlation coefficient between features in the same cluster (0-1)\n",
        "    cat_importance : float\n",
        "        Weight given to categorical features in target creation (0-1)\n",
        "    noise_level : float\n",
        "        Amount of noise added to target (0-1, lower = higher accuracy)\n",
        "    random_state : int\n",
        "        Seed for random number generation\n",
        "\n",
        "    Returns:\n",
        "    --------\n",
        "    X_num : pandas DataFrame\n",
        "        Numerical feature matrix\n",
        "    X_cat : pandas DataFrame\n",
        "        Categorical feature matrix\n",
        "    y : pandas Series\n",
        "        Binary target variable\n",
        "    true_importance : dict\n",
        "        Dictionary with true feature importance values\n",
        "    \"\"\"\n",
        "    import numpy as np\n",
        "    import pandas as pd\n",
        "    from sklearn.preprocessing import StandardScaler\n",
        "\n",
        "    np.random.seed(random_state)\n",
        "\n",
        "    # Validate inputs\n",
        "    if n_cat_features > 0 and len(cat_cardinalities) != n_cat_features:\n",
        "        raise ValueError(\"Length of cat_cardinalities must match n_cat_features\")\n",
        "\n",
        "    # Print dataset configuration\n",
        "    print(f\"Generating dataset with:\")\n",
        "    print(f\"- {n_samples} samples\")\n",
        "    print(f\"- {n_clusters} clusters with {features_per_cluster} numerical features each\")\n",
        "    print(f\"- {n_noise} noise features\")\n",
        "    print(f\"- {n_cat_features} categorical features\")\n",
        "    print(f\"- Base correlation: {correlation}\")\n",
        "    print(f\"- Categorical importance: {cat_importance}\")\n",
        "    print(f\"- Noise level: {noise_level} (lower = higher accuracy)\")\n",
        "\n",
        "    # Initialize dataframes\n",
        "    X_num = pd.DataFrame()\n",
        "    X_cat = pd.DataFrame()\n",
        "\n",
        "    # Track cluster membership\n",
        "    cluster_membership = {}\n",
        "\n",
        "    # Generate numerical features\n",
        "    for i in range(n_clusters):\n",
        "        # Create base feature\n",
        "        base_feature = f\"Base_{i}\"\n",
        "        X_num[base_feature] = np.random.normal(0, 1, n_samples)\n",
        "        cluster_membership[base_feature] = f\"Cluster_{i}\"\n",
        "\n",
        "        # Create correlated features\n",
        "        for j in range(1, features_per_cluster):\n",
        "            feature_name = f\"Corr_{i}_{j}\"\n",
        "            noise = np.random.normal(0, 1, n_samples)\n",
        "            noise_scale = np.sqrt(1 - correlation**2)\n",
        "            X_num[feature_name] = correlation * X_num[base_feature] + noise_scale * noise\n",
        "            cluster_membership[feature_name] = f\"Cluster_{i}\"\n",
        "\n",
        "    # Add noise features\n",
        "    for i in range(n_noise):\n",
        "        feature_name = f\"Noise_{i}\"\n",
        "        X_num[feature_name] = np.random.normal(0, 1, n_samples)\n",
        "        cluster_membership[feature_name] = \"Noise\"\n",
        "\n",
        "    # Generate categorical features\n",
        "    cat_mappings = []  # Save mappings for importance calculation\n",
        "\n",
        "    for i in range(n_cat_features):\n",
        "        # Choose which cluster this categorical feature relates to\n",
        "        cluster_idx = i % n_clusters\n",
        "        base_feature = f\"Base_{cluster_idx}\"\n",
        "        cat_feature_name = f\"Cat_{i}\"\n",
        "\n",
        "        # Get cardinality for this feature\n",
        "        cardinality = cat_cardinalities[i]\n",
        "\n",
        "        # Create categories based on base feature values\n",
        "        base_values = X_num[base_feature].values\n",
        "\n",
        "        # Make categories by binning base feature values\n",
        "        categories = []\n",
        "        bin_edges = np.linspace(-3, 3, cardinality + 1)  # Normal dist mostly within [-3, 3]\n",
        "\n",
        "        # Assign each sample to a category\n",
        "        for val in base_values:\n",
        "            for bin_idx in range(len(bin_edges) - 1):\n",
        "                if bin_edges[bin_idx] <= val < bin_edges[bin_idx + 1]:\n",
        "                    categories.append(bin_idx)\n",
        "                    break\n",
        "            else:  # If value is outside bins\n",
        "                categories.append(cardinality - 1)\n",
        "\n",
        "        # Store categorical feature\n",
        "        X_cat[cat_feature_name] = categories\n",
        "        cluster_membership[cat_feature_name] = f\"Cluster_{cluster_idx}\"\n",
        "\n",
        "        # Save mapping for importance calculation\n",
        "        cat_mappings.append({\n",
        "            'feature': cat_feature_name,\n",
        "            'base_feature': base_feature,\n",
        "            'cardinality': cardinality\n",
        "        })\n",
        "\n",
        "    # Create target variable\n",
        "    y_value = np.zeros(n_samples)\n",
        "    feature_importance = {}\n",
        "\n",
        "    # Numerical features contribution to target\n",
        "    num_weight = 1.0 - cat_importance\n",
        "    for i in range(n_clusters):\n",
        "        base_feature = f\"Base_{i}\"\n",
        "        # Decreasing importance by cluster (first cluster most important)\n",
        "        weight = num_weight * (1.0 / (i + 1))\n",
        "        y_value += weight * X_num[base_feature]\n",
        "        feature_importance[base_feature] = weight\n",
        "\n",
        "    # Categorical features contribution to target\n",
        "    if n_cat_features > 0:\n",
        "        cat_weight = cat_importance / n_cat_features\n",
        "        for i, mapping in enumerate(cat_mappings):\n",
        "            cat_feature = mapping['feature']\n",
        "            cardinality = mapping['cardinality']\n",
        "\n",
        "            # Convert categories to normalized values [0, 1]\n",
        "            cat_values = X_cat[cat_feature].values\n",
        "            normalized_effect = cat_values / (cardinality - 1)\n",
        "\n",
        "            # Add to target with weight that decreases by index\n",
        "            weight = cat_weight * (1.0 - 0.2 * i)  # Slightly reduce importance for later cats\n",
        "            y_value += weight * normalized_effect\n",
        "            feature_importance[cat_feature] = weight\n",
        "\n",
        "    # Add controlled noise to target\n",
        "    noise = np.random.normal(0, noise_level, n_samples)\n",
        "    y_value += noise\n",
        "\n",
        "    # Create binary target (above/below median)\n",
        "    y_binary = (y_value > np.median(y_value)).astype(int)\n",
        "    y = pd.Series(y_binary, name=\"target\")\n",
        "\n",
        "    # Calculate importance for correlated features\n",
        "    for feature, cluster in cluster_membership.items():\n",
        "        if feature in feature_importance:\n",
        "            continue  # Already calculated\n",
        "        elif cluster == \"Noise\":\n",
        "            feature_importance[feature] = 0.0\n",
        "        else:\n",
        "            # Derived features get importance based on correlation with base\n",
        "            cluster_idx = int(cluster.split('_')[1])\n",
        "            base_feature = f\"Base_{cluster_idx}\"\n",
        "            base_importance = feature_importance.get(base_feature, 0)\n",
        "\n",
        "            # Importance proportional to correlation with base\n",
        "            corr = np.corrcoef(X_num[feature], X_num[base_feature])[0, 1]\n",
        "            feature_importance[feature] = base_importance * abs(corr) * 0.5\n",
        "\n",
        "    # Normalize feature importance to sum to 1\n",
        "    total_importance = sum(feature_importance.values())\n",
        "    for feature in feature_importance:\n",
        "        feature_importance[feature] /= total_importance\n",
        "\n",
        "    # Standardize numerical features\n",
        "    scaler = StandardScaler()\n",
        "    X_num_scaled = pd.DataFrame(\n",
        "        scaler.fit_transform(X_num),\n",
        "        columns=X_num.columns\n",
        "    )\n",
        "\n",
        "    # Convert categorical features to proper type\n",
        "    for col in X_cat.columns:\n",
        "        X_cat[col] = X_cat[col].astype('category')\n",
        "\n",
        "    # Package importance information\n",
        "    true_importance = {\n",
        "        'feature': feature_importance\n",
        "    }\n",
        "\n",
        "    return X_num_scaled, X_cat, y, true_importance"
      ],
      "metadata": {
        "id": "mzIg37ATT4f6"
      },
      "execution_count": null,
      "outputs": []
    },
    {
      "cell_type": "code",
      "source": [
        "X_num, X_cat, y, true_importance = generate_correlated_dataset(\n",
        "    noise_level=0.01,\n",
        "    cat_importance=0.6\n",
        ")"
      ],
      "metadata": {
        "colab": {
          "base_uri": "https://localhost:8080/"
        },
        "id": "lDEobIMuRLlN",
        "outputId": "a12bcf84-704f-48b9-aaec-24e4abb66263"
      },
      "execution_count": null,
      "outputs": [
        {
          "output_type": "stream",
          "name": "stdout",
          "text": [
            "Generating dataset with:\n",
            "- 1000 samples\n",
            "- 3 clusters with 5 numerical features each\n",
            "- 5 noise features\n",
            "- 3 categorical features\n",
            "- Base correlation: 0.8\n",
            "- Categorical importance: 0.6\n",
            "- Noise level: 0.01 (lower = higher accuracy)\n"
          ]
        }
      ]
    },
    {
      "cell_type": "code",
      "source": [
        "# Visualize true feature importance\n",
        "feature_imp_df = pd.DataFrame({\n",
        "    'Feature': list(true_importance['feature'].keys()),\n",
        "    'True Importance': list(true_importance['feature'].values()),\n",
        "    'Type': ['Categorical' if f.startswith('Cat_') else 'Numerical' for f in true_importance['feature'].keys()]\n",
        "}).sort_values('True Importance', ascending=False)\n",
        "\n",
        "plt.figure(figsize=(10, 6))\n",
        "bars = plt.barh(feature_imp_df['Feature'], feature_imp_df['True Importance'])\n",
        "\n",
        "# Color bars by feature type\n",
        "for i, bar in enumerate(bars):\n",
        "    if feature_imp_df.iloc[i]['Type'] == 'Categorical':\n",
        "        bar.set_color('orangered')\n",
        "    else:\n",
        "        bar.set_color('steelblue')\n",
        "\n",
        "plt.xlabel('True Importance')\n",
        "plt.ylabel('Feature')\n",
        "plt.title('True Feature Importance (Generated Dataset)')\n",
        "plt.gca().invert_yaxis()  # Highest importance at top\n",
        "\n",
        "# Add a legend\n",
        "from matplotlib.patches import Patch\n",
        "legend_elements = [\n",
        "    Patch(facecolor='steelblue', label='Numerical'),\n",
        "    Patch(facecolor='orangered', label='Categorical')\n",
        "]\n",
        "plt.legend(handles=legend_elements, loc='lower right')\n",
        "\n",
        "plt.tight_layout()\n",
        "plt.show()\n",
        "\n",
        "# Print top features\n",
        "print(\"Top 10 Features by True Importance:\")\n",
        "print(feature_imp_df.head(10))"
      ],
      "metadata": {
        "colab": {
          "base_uri": "https://localhost:8080/",
          "height": 815
        },
        "id": "8SvxJ0CJRTn1",
        "outputId": "8f3fcd7f-66b4-4730-c99f-ff81e46ac810"
      },
      "execution_count": null,
      "outputs": [
        {
          "output_type": "display_data",
          "data": {
            "text/plain": [
              "<Figure size 1000x600 with 1 Axes>"
            ],
            "image/png": "[encoded data removed]"
          },
          "metadata": {}
        },
        {
          "output_type": "stream",
          "name": "stdout",
          "text": [
            "Top 10 Features by True Importance:\n",
            "    Feature  True Importance         Type\n",
            "0    Base_0         0.168222    Numerical\n",
            "1    Base_1         0.084111    Numerical\n",
            "3     Cat_0         0.084111  Categorical\n",
            "7  Corr_0_2         0.067589    Numerical\n",
            "4     Cat_1         0.067289  Categorical\n",
            "9  Corr_0_4         0.066380    Numerical\n",
            "6  Corr_0_1         0.066076    Numerical\n",
            "8  Corr_0_3         0.065841    Numerical\n",
            "2    Base_2         0.056074    Numerical\n",
            "5     Cat_2         0.050467  Categorical\n"
          ]
        }
      ]
    },
    {
      "cell_type": "markdown",
      "source": [
        "---\n",
        "<font color=green>Q1:</font> <br><font color='green'>\n",
        "Split the dataset into training and testing sets with a test size of 20% and random state of 42. The dataset consists of:\n",
        "- X_num: Numerical features (standardized continuous variables organized in clusters)\n",
        "- X_cat: Categorical features (discrete variables correlated with base numerical features)\n",
        "- y: Target variable (binary classification target)\n",
        "\n",
        "Print the number of samples in each set to verify the split ratio.\n",
        "</font>  \n",
        "\n",
        "---\n"
      ],
      "metadata": {
        "id": "ziGnmAL9KkAF"
      }
    },
    {
      "cell_type": "code",
      "source": [
        "# Split the data\n",
        "X_num_train, X_num_test, X_cat_train, X_cat_test, y_train, y_test = train_test_split(\n",
        "    X_num, X_cat, y, test_size=0.2, random_state=42\n",
        ")\n",
        "\n",
        "print(f\"Training set size: {len(y_train)} samples\")\n",
        "print(f\"Testing set size: {len(y_test)} samples\")"
      ],
      "metadata": {
        "colab": {
          "base_uri": "https://localhost:8080/"
        },
        "id": "yOecf5wVKmcN",
        "outputId": "16c1851c-ae2c-46e3-ed8b-cca934723369"
      },
      "execution_count": null,
      "outputs": [
        {
          "output_type": "stream",
          "name": "stdout",
          "text": [
            "Training set size: 800 samples\n",
            "Testing set size: 200 samples\n"
          ]
        }
      ]
    },
    {
      "cell_type": "markdown",
      "source": [
        "---\n",
        "<font color=green>Q2:</font> <br><font color='green'>\n",
        "Prepare the features for model training by:\n",
        "1. One-hot encoding the categorical features in both `X_cat_train` and `X_cat_test` datasets\n",
        "2. Combining numerical features (`X_num_train`/`X_num_test`) and encoded categorical features into unified matrices `X_train_combined` and `X_test_combined`\n",
        "</font>  \n",
        "\n",
        "---"
      ],
      "metadata": {
        "id": "6GppI-IQKqkD"
      }
    },
    {
      "cell_type": "code",
      "source": [
        "# One-hot encode categorical features\n",
        "X_cat_train_encoded = pd.get_dummies(X_cat_train, drop_first=False)\n",
        "X_cat_test_encoded = pd.get_dummies(X_cat_test, drop_first=False)\n",
        "\n",
        "# Align the one-hot encoded columns (in case test set is missing some categories)\n",
        "train_columns = X_cat_train_encoded.columns\n",
        "for col in train_columns:\n",
        "    if col not in X_cat_test_encoded.columns:\n",
        "        X_cat_test_encoded[col] = 0\n",
        "X_cat_test_encoded = X_cat_test_encoded[train_columns]\n",
        "\n",
        "# Combine all features\n",
        "X_train_combined = pd.concat([X_num_train, X_cat_train_encoded], axis=1)\n",
        "X_test_combined = pd.concat([X_num_test, X_cat_test_encoded], axis=1)\n",
        "\n",
        "print(f\"Training data shape: {X_train_combined.shape}\")\n",
        "print(f\"Testing data shape: {X_test_combined.shape}\")\n"
      ],
      "metadata": {
        "colab": {
          "base_uri": "https://localhost:8080/"
        },
        "id": "3f6neeb_KqrG",
        "outputId": "26ba410b-1136-4fad-a32c-cadf53198b56"
      },
      "execution_count": null,
      "outputs": [
        {
          "output_type": "stream",
          "name": "stdout",
          "text": [
            "Training data shape: (800, 35)\n",
            "Testing data shape: (200, 35)\n"
          ]
        }
      ]
    },
    {
      "cell_type": "markdown",
      "source": [
        "<center><img width=\"500\" src = \"https://drive.google.com/uc?export=view&id=1O0S5tEUBHZaynn1L8a5KSwXLLiYimW5g\"></center>\n",
        "\n",
        "<center>👉👉 <a href=\"https://forms.gle/H7v5qZbBuiHvMbBu9\">Click here to participate in the poll</a>👈👈</center>"
      ],
      "metadata": {
        "id": "39weddiSk2Wc"
      }
    },
    {
      "cell_type": "markdown",
      "source": [
        "# Tree based models and vanilla Neural Networks"
      ],
      "metadata": {
        "id": "z4nAOkOxHerb"
      }
    },
    {
      "cell_type": "markdown",
      "source": [
        "### Tree based Models"
      ],
      "metadata": {
        "id": "a18RdKpCQKYl"
      }
    },
    {
      "cell_type": "markdown",
      "source": [
        "---\n",
        "<font color=green>Q3:</font> <br><font color='green'>\n",
        "Train a Random Forest model and evaluate its performance.\n",
        "</font>  \n",
        "\n",
        "---"
      ],
      "metadata": {
        "id": "6226AeaVKqx5"
      }
    },
    {
      "cell_type": "code",
      "source": [
        "# Train a Random Forest model\n",
        "rf_model = RandomForestClassifier(n_estimators=100, random_state=42)\n",
        "rf_model.fit(X_train_combined, y_train)\n",
        "\n",
        "# Evaluate the model\n",
        "y_pred = rf_model.predict(X_test_combined)\n",
        "print(f\"Model Accuracy: {accuracy_score(y_test, y_pred):.4f}\")\n",
        "print(\"\\nClassification Report:\")\n",
        "print(classification_report(y_test, y_pred))"
      ],
      "metadata": {
        "colab": {
          "base_uri": "https://localhost:8080/"
        },
        "id": "0Zqz46zZKrAR",
        "outputId": "afdd7d4f-fad5-45e5-dc86-96d803358474"
      },
      "execution_count": null,
      "outputs": [
        {
          "output_type": "stream",
          "name": "stdout",
          "text": [
            "Model Accuracy: 0.9400\n",
            "\n",
            "Classification Report:\n",
            "              precision    recall  f1-score   support\n",
            "\n",
            "           0       0.94      0.94      0.94        96\n",
            "           1       0.94      0.94      0.94       104\n",
            "\n",
            "    accuracy                           0.94       200\n",
            "   macro avg       0.94      0.94      0.94       200\n",
            "weighted avg       0.94      0.94      0.94       200\n",
            "\n"
          ]
        }
      ]
    },
    {
      "cell_type": "markdown",
      "source": [
        "---\n",
        "<font color=green>Q4:</font> <br><font color='green'>\n",
        "Analyze feature importance using Mean Decrease in Impurity (MDI) from the Random Forest model.\n",
        "</font>  \n",
        "\n",
        "---"
      ],
      "metadata": {
        "id": "dUqZnvp_KrK8"
      }
    },
    {
      "cell_type": "code",
      "source": [
        "# Extract feature importance\n",
        "importances = rf_model.feature_importances_\n",
        "feature_names = X_train_combined.columns\n",
        "\n",
        "# Create DataFrame for visualization\n",
        "feature_importance_df = pd.DataFrame({\n",
        "    'Feature': feature_names,\n",
        "    'MDI_Importance': importances\n",
        "})\n",
        "\n",
        "# Sort by importance\n",
        "feature_importance_df = feature_importance_df.sort_values('MDI_Importance', ascending=False)\n",
        "\n",
        "# Plot feature importance\n",
        "plt.figure(figsize=(10, 6))\n",
        "sns.set_style(\"whitegrid\")\n",
        "\n",
        "# Show top 15 features for better readability\n",
        "top_n = min(15, len(feature_importance_df))\n",
        "top_features = feature_importance_df.head(top_n)\n",
        "\n",
        "# Plot MDI importance\n",
        "ax = sns.barplot(x='MDI_Importance', y='Feature', data=top_features, color='steelblue')\n",
        "\n",
        "plt.title('Feature Importance Analysis using Mean Decrease in Impurity (MDI)', fontsize=14)\n",
        "plt.xlabel('MDI Importance', fontsize=12)\n",
        "plt.ylabel('Feature', fontsize=12)\n",
        "plt.tight_layout()\n",
        "plt.show()\n",
        "\n",
        "# Display the top 10 important features\n",
        "print(\"Top 10 Features by Importance:\")\n",
        "print(feature_importance_df.head(10))"
      ],
      "metadata": {
        "colab": {
          "base_uri": "https://localhost:8080/",
          "height": 815
        },
        "id": "GKdSEoLaKrRe",
        "outputId": "887137c7-1771-4e96-b039-7c1c24c615bf"
      },
      "execution_count": null,
      "outputs": [
        {
          "output_type": "display_data",
          "data": {
            "text/plain": [
              "<Figure size 1000x600 with 1 Axes>"
            ],
            "image/png": "[encoded data removed]"
          },
          "metadata": {}
        },
        {
          "output_type": "stream",
          "name": "stdout",
          "text": [
            "Top 10 Features by Importance:\n",
            "     Feature  MDI_Importance\n",
            "0     Base_0        0.170017\n",
            "2   Corr_0_2        0.079800\n",
            "1   Corr_0_1        0.067769\n",
            "3   Corr_0_3        0.066389\n",
            "21   Cat_0_1        0.065776\n",
            "5     Base_1        0.065126\n",
            "4   Corr_0_4        0.058231\n",
            "10    Base_2        0.044173\n",
            "9   Corr_1_4        0.042188\n",
            "6   Corr_1_1        0.034218\n"
          ]
        }
      ]
    },
    {
      "cell_type": "markdown",
      "source": [
        "<center><img width=\"500\" src = \"https://drive.google.com/uc?export=view&id=1O0S5tEUBHZaynn1L8a5KSwXLLiYimW5g\"></center>\n",
        "\n",
        "<center>👉👉 <a href=\"https://forms.gle/H7v5qZbBuiHvMbBu9\">Click here to participate in the poll</a>👈👈</center>"
      ],
      "metadata": {
        "id": "0UtYe30_lVl_"
      }
    },
    {
      "cell_type": "markdown",
      "source": [
        "### Neural Networks"
      ],
      "metadata": {
        "id": "fsgv9XkzQNj6"
      }
    },
    {
      "cell_type": "markdown",
      "source": [
        "---\n",
        "<font color=green>Q5:</font> <br><font color='green'>\n",
        "Implement a binary classification neural network that matches exactly the following architecture specifications:\n",
        "- Input layer that accepts features with dimensions matching your training data\n",
        "- First hidden layer with 128 neurons and ReLU activation\n",
        "- Dropout layer with 0.3 rate\n",
        "- Second hidden layer with 64 neurons and ReLU activation\n",
        "- Another dropout layer with 0.3 rate\n",
        "- Output layer with a single neuron and sigmoid activation\n",
        "Use the Functional API approach rather than Sequential, and display the model summary after creation.\n",
        "</font>  \n",
        "\n",
        "---"
      ],
      "metadata": {
        "id": "IHY1WMCoQQlo"
      }
    },
    {
      "cell_type": "markdown",
      "source": [
        "<center><img width=\"600\" src = \"https://drive.google.com/uc?export=view&id=1p7mADAot9H7CyTOcrNBVEyHNme0zSoPn\"></center>\n"
      ],
      "metadata": {
        "id": "1AKnSWk0X0KK"
      }
    },
    {
      "cell_type": "code",
      "source": [
        "# Define input dimensions\n",
        "input_dim = X_train_combined.shape[1]\n",
        "\n",
        "# Step 1: Create the Neural Network using Functional API\n",
        "# Define the input layer\n",
        "inputs = Input(shape=(input_dim,))\n",
        "\n",
        "# First hidden layer\n",
        "x = Dense(128, activation='relu')(inputs)\n",
        "x = Dropout(0.3)(x)\n",
        "\n",
        "# Second hidden layer\n",
        "x = Dense(64, activation='relu')(x)\n",
        "x = Dropout(0.3)(x)\n",
        "\n",
        "# Output layer\n",
        "outputs = Dense(1, activation='sigmoid')(x)\n",
        "\n",
        "# Create the model\n",
        "nn_model = Model(inputs=inputs, outputs=outputs)\n",
        "\n",
        "# Model summary\n",
        "nn_model.summary()"
      ],
      "metadata": {
        "colab": {
          "base_uri": "https://localhost:8080/",
          "height": 321
        },
        "id": "1PD-cLxMQZDV",
        "outputId": "d839785b-5d14-4bbc-dbd9-9f6724a0f80e"
      },
      "execution_count": null,
      "outputs": [
        {
          "output_type": "display_data",
          "data": {
            "text/plain": [
              "\u001b[1mModel: \"functional\"\u001b[0m\n"
            ],
            "text/html": [
              "<pre style=\"white-space:pre;overflow-x:auto;line-height:normal;font-family:Menlo,'DejaVu Sans Mono',consolas,'Courier New',monospace\"><span style=\"font-weight: bold\">Model: \"functional\"</span>\n",
              "</pre>\n"
            ]
          },
          "metadata": {}
        },
        {
          "output_type": "display_data",
          "data": {
            "text/plain": [
              "┏━━━━━━━━━━━━━━━━━━━━━━━━━━━━━━━━━┳━━━━━━━━━━━━━━━━━━━━━━━━┳━━━━━━━━━━━━━━━┓\n",
              "┃\u001b[1m \u001b[0m\u001b[1mLayer (type)                   \u001b[0m\u001b[1m \u001b[0m┃\u001b[1m \u001b[0m\u001b[1mOutput Shape          \u001b[0m\u001b[1m \u001b[0m┃\u001b[1m \u001b[0m\u001b[1m      Param #\u001b[0m\u001b[1m \u001b[0m┃\n",
              "┡━━━━━━━━━━━━━━━━━━━━━━━━━━━━━━━━━╇━━━━━━━━━━━━━━━━━━━━━━━━╇━━━━━━━━━━━━━━━┩\n",
              "│ input_layer (\u001b[38;5;33mInputLayer\u001b[0m)        │ (\u001b[38;5;45mNone\u001b[0m, \u001b[38;5;34m35\u001b[0m)             │             \u001b[38;5;34m0\u001b[0m │\n",
              "├─────────────────────────────────┼────────────────────────┼───────────────┤\n",
              "│ dense (\u001b[38;5;33mDense\u001b[0m)                   │ (\u001b[38;5;45mNone\u001b[0m, \u001b[38;5;34m128\u001b[0m)            │         \u001b[38;5;34m4,608\u001b[0m │\n",
              "├─────────────────────────────────┼────────────────────────┼───────────────┤\n",
              "│ dropout (\u001b[38;5;33mDropout\u001b[0m)               │ (\u001b[38;5;45mNone\u001b[0m, \u001b[38;5;34m128\u001b[0m)            │             \u001b[38;5;34m0\u001b[0m │\n",
              "├─────────────────────────────────┼────────────────────────┼───────────────┤\n",
              "│ dense_1 (\u001b[38;5;33mDense\u001b[0m)                 │ (\u001b[38;5;45mNone\u001b[0m, \u001b[38;5;34m64\u001b[0m)             │         \u001b[38;5;34m8,256\u001b[0m │\n",
              "├─────────────────────────────────┼────────────────────────┼───────────────┤\n",
              "│ dropout_1 (\u001b[38;5;33mDropout\u001b[0m)             │ (\u001b[38;5;45mNone\u001b[0m, \u001b[38;5;34m64\u001b[0m)             │             \u001b[38;5;34m0\u001b[0m │\n",
              "├─────────────────────────────────┼────────────────────────┼───────────────┤\n",
              "│ dense_2 (\u001b[38;5;33mDense\u001b[0m)                 │ (\u001b[38;5;45mNone\u001b[0m, \u001b[38;5;34m1\u001b[0m)              │            \u001b[38;5;34m65\u001b[0m │\n",
              "└─────────────────────────────────┴────────────────────────┴───────────────┘\n"
            ],
            "text/html": [
              "<pre style=\"white-space:pre;overflow-x:auto;line-height:normal;font-family:Menlo,'DejaVu Sans Mono',consolas,'Courier New',monospace\">┏━━━━━━━━━━━━━━━━━━━━━━━━━━━━━━━━━┳━━━━━━━━━━━━━━━━━━━━━━━━┳━━━━━━━━━━━━━━━┓\n",
              "┃<span style=\"font-weight: bold\"> Layer (type)                    </span>┃<span style=\"font-weight: bold\"> Output Shape           </span>┃<span style=\"font-weight: bold\">       Param # </span>┃\n",
              "┡━━━━━━━━━━━━━━━━━━━━━━━━━━━━━━━━━╇━━━━━━━━━━━━━━━━━━━━━━━━╇━━━━━━━━━━━━━━━┩\n",
              "│ input_layer (<span style=\"color: #0087ff; text-decoration-color: #0087ff\">InputLayer</span>)        │ (<span style=\"color: #00d7ff; text-decoration-color: #00d7ff\">None</span>, <span style=\"color: #00af00; text-decoration-color: #00af00\">35</span>)             │             <span style=\"color: #00af00; text-decoration-color: #00af00\">0</span> │\n",
              "├─────────────────────────────────┼────────────────────────┼───────────────┤\n",
              "│ dense (<span style=\"color: #0087ff; text-decoration-color: #0087ff\">Dense</span>)                   │ (<span style=\"color: #00d7ff; text-decoration-color: #00d7ff\">None</span>, <span style=\"color: #00af00; text-decoration-color: #00af00\">128</span>)            │         <span style=\"color: #00af00; text-decoration-color: #00af00\">4,608</span> │\n",
              "├─────────────────────────────────┼────────────────────────┼───────────────┤\n",
              "│ dropout (<span style=\"color: #0087ff; text-decoration-color: #0087ff\">Dropout</span>)               │ (<span style=\"color: #00d7ff; text-decoration-color: #00d7ff\">None</span>, <span style=\"color: #00af00; text-decoration-color: #00af00\">128</span>)            │             <span style=\"color: #00af00; text-decoration-color: #00af00\">0</span> │\n",
              "├─────────────────────────────────┼────────────────────────┼───────────────┤\n",
              "│ dense_1 (<span style=\"color: #0087ff; text-decoration-color: #0087ff\">Dense</span>)                 │ (<span style=\"color: #00d7ff; text-decoration-color: #00d7ff\">None</span>, <span style=\"color: #00af00; text-decoration-color: #00af00\">64</span>)             │         <span style=\"color: #00af00; text-decoration-color: #00af00\">8,256</span> │\n",
              "├─────────────────────────────────┼────────────────────────┼───────────────┤\n",
              "│ dropout_1 (<span style=\"color: #0087ff; text-decoration-color: #0087ff\">Dropout</span>)             │ (<span style=\"color: #00d7ff; text-decoration-color: #00d7ff\">None</span>, <span style=\"color: #00af00; text-decoration-color: #00af00\">64</span>)             │             <span style=\"color: #00af00; text-decoration-color: #00af00\">0</span> │\n",
              "├─────────────────────────────────┼────────────────────────┼───────────────┤\n",
              "│ dense_2 (<span style=\"color: #0087ff; text-decoration-color: #0087ff\">Dense</span>)                 │ (<span style=\"color: #00d7ff; text-decoration-color: #00d7ff\">None</span>, <span style=\"color: #00af00; text-decoration-color: #00af00\">1</span>)              │            <span style=\"color: #00af00; text-decoration-color: #00af00\">65</span> │\n",
              "└─────────────────────────────────┴────────────────────────┴───────────────┘\n",
              "</pre>\n"
            ]
          },
          "metadata": {}
        },
        {
          "output_type": "display_data",
          "data": {
            "text/plain": [
              "\u001b[1m Total params: \u001b[0m\u001b[38;5;34m12,929\u001b[0m (50.50 KB)\n"
            ],
            "text/html": [
              "<pre style=\"white-space:pre;overflow-x:auto;line-height:normal;font-family:Menlo,'DejaVu Sans Mono',consolas,'Courier New',monospace\"><span style=\"font-weight: bold\"> Total params: </span><span style=\"color: #00af00; text-decoration-color: #00af00\">12,929</span> (50.50 KB)\n",
              "</pre>\n"
            ]
          },
          "metadata": {}
        },
        {
          "output_type": "display_data",
          "data": {
            "text/plain": [
              "\u001b[1m Trainable params: \u001b[0m\u001b[38;5;34m12,929\u001b[0m (50.50 KB)\n"
            ],
            "text/html": [
              "<pre style=\"white-space:pre;overflow-x:auto;line-height:normal;font-family:Menlo,'DejaVu Sans Mono',consolas,'Courier New',monospace\"><span style=\"font-weight: bold\"> Trainable params: </span><span style=\"color: #00af00; text-decoration-color: #00af00\">12,929</span> (50.50 KB)\n",
              "</pre>\n"
            ]
          },
          "metadata": {}
        },
        {
          "output_type": "display_data",
          "data": {
            "text/plain": [
              "\u001b[1m Non-trainable params: \u001b[0m\u001b[38;5;34m0\u001b[0m (0.00 B)\n"
            ],
            "text/html": [
              "<pre style=\"white-space:pre;overflow-x:auto;line-height:normal;font-family:Menlo,'DejaVu Sans Mono',consolas,'Courier New',monospace\"><span style=\"font-weight: bold\"> Non-trainable params: </span><span style=\"color: #00af00; text-decoration-color: #00af00\">0</span> (0.00 B)\n",
              "</pre>\n"
            ]
          },
          "metadata": {}
        }
      ]
    },
    {
      "cell_type": "markdown",
      "source": [
        "---\n",
        "<font color=green>Q6:</font> <br><font color='green'>\n",
        "Compile the neural network with appropriate loss function for binary classification, Adam optimizer, and accuracy metric.\n",
        "</font>  \n",
        "\n",
        "---"
      ],
      "metadata": {
        "id": "ltZ_F0O3Q3yu"
      }
    },
    {
      "cell_type": "markdown",
      "source": [
        "<center><img width=\"600\" src = \"https://drive.google.com/uc?export=view&id=1n-F9nGIAvcrtbM4NGdHqkVKtxYjneuQe\"></center>\n",
        "\n",
        "\n",
        "**Optional Reading**: For those interested in the mathematical details behind the Adam optimizer's convergence properties, you can refer to:\n",
        "\n",
        "[**Optional Lecture Notes**](https://drive.google.com/file/d/1sz7XPZfI-6zBKL7ZoSHYANu_lYp7GVrX/view?usp=sharing)\n",
        "\n",
        "This supplementary material may provide deeper insights, but is not required for understanding the main course content."
      ],
      "metadata": {
        "id": "tQtGvGqM1KO8"
      }
    },
    {
      "cell_type": "code",
      "source": [
        "nn_model.compile(\n",
        "    optimizer=tf.keras.optimizers.Adam(learning_rate=0.001),\n",
        "    loss='binary_crossentropy',\n",
        "    metrics=['accuracy']\n",
        ")\n",
        "\n",
        "print(\"Model compiled successfully with binary crossentropy loss and accuracy metric.\")"
      ],
      "metadata": {
        "colab": {
          "base_uri": "https://localhost:8080/"
        },
        "id": "LOL2FaqdQeqW",
        "outputId": "ed474c9b-85fd-462a-cba3-b65ac6783200"
      },
      "execution_count": null,
      "outputs": [
        {
          "output_type": "stream",
          "name": "stdout",
          "text": [
            "Model compiled successfully with binary crossentropy loss and accuracy metric.\n"
          ]
        }
      ]
    },
    {
      "cell_type": "markdown",
      "source": [
        "---\n",
        "<font color=green>Q7:</font> <br><font color='green'>\n",
        "Train the neural network for 20 epochs with batch size of 32, using 20% of training data for validation. Include Dropout, callbacks for early stopping and learning rate reduction.\n",
        "</font>  \n",
        "\n",
        "---"
      ],
      "metadata": {
        "id": "uB3tnH6RRA3C"
      }
    },
    {
      "cell_type": "code",
      "source": [
        "from tensorflow.keras.callbacks import EarlyStopping, ReduceLROnPlateau\n",
        "\n",
        "# Create callbacks\n",
        "early_stopping = EarlyStopping(\n",
        "    monitor='val_loss',\n",
        "    patience=5,\n",
        "    restore_best_weights=True,\n",
        "    verbose=1\n",
        ")\n",
        "\n",
        "reduce_lr = ReduceLROnPlateau(\n",
        "    monitor='val_loss',\n",
        "    factor=0.5,\n",
        "    patience=3,\n",
        "    min_lr=0.00001,\n",
        "    verbose=1\n",
        ")\n",
        "\n",
        "# Train the model\n",
        "history = nn_model.fit(\n",
        "    X_train_combined, y_train,\n",
        "    epochs=20,\n",
        "    batch_size=32,\n",
        "    validation_split=0.2,\n",
        "    callbacks=[early_stopping, reduce_lr],\n",
        "    verbose=1\n",
        ")"
      ],
      "metadata": {
        "colab": {
          "base_uri": "https://localhost:8080/"
        },
        "id": "9I1ji2pWROZo",
        "outputId": "fb8f9169-02a6-4a74-f31a-ce76b55b42c1"
      },
      "execution_count": null,
      "outputs": [
        {
          "output_type": "stream",
          "name": "stdout",
          "text": [
            "Epoch 1/20\n",
            "\u001b[1m20/20\u001b[0m \u001b[32m━━━━━━━━━━━━━━━━━━━━\u001b[0m\u001b[37m\u001b[0m \u001b[1m2s\u001b[0m 16ms/step - accuracy: 0.5968 - loss: 0.6477 - val_accuracy: 0.8500 - val_loss: 0.3807 - learning_rate: 0.0010\n",
            "Epoch 2/20\n",
            "\u001b[1m20/20\u001b[0m \u001b[32m━━━━━━━━━━━━━━━━━━━━\u001b[0m\u001b[37m\u001b[0m \u001b[1m0s\u001b[0m 5ms/step - accuracy: 0.8882 - loss: 0.3308 - val_accuracy: 0.9062 - val_loss: 0.2505 - learning_rate: 0.0010\n",
            "Epoch 3/20\n",
            "\u001b[1m20/20\u001b[0m \u001b[32m━━━━━━━━━━━━━━━━━━━━\u001b[0m\u001b[37m\u001b[0m \u001b[1m0s\u001b[0m 7ms/step - accuracy: 0.9165 - loss: 0.2497 - val_accuracy: 0.9187 - val_loss: 0.2077 - learning_rate: 0.0010\n",
            "Epoch 4/20\n",
            "\u001b[1m20/20\u001b[0m \u001b[32m━━━━━━━━━━━━━━━━━━━━\u001b[0m\u001b[37m\u001b[0m \u001b[1m0s\u001b[0m 6ms/step - accuracy: 0.9090 - loss: 0.2024 - val_accuracy: 0.9062 - val_loss: 0.1878 - learning_rate: 0.0010\n",
            "Epoch 5/20\n",
            "\u001b[1m20/20\u001b[0m \u001b[32m━━━━━━━━━━━━━━━━━━━━\u001b[0m\u001b[37m\u001b[0m \u001b[1m0s\u001b[0m 5ms/step - accuracy: 0.9007 - loss: 0.1960 - val_accuracy: 0.9187 - val_loss: 0.1707 - learning_rate: 0.0010\n",
            "Epoch 6/20\n",
            "\u001b[1m20/20\u001b[0m \u001b[32m━━━━━━━━━━━━━━━━━━━━\u001b[0m\u001b[37m\u001b[0m \u001b[1m0s\u001b[0m 5ms/step - accuracy: 0.9339 - loss: 0.1570 - val_accuracy: 0.9312 - val_loss: 0.1576 - learning_rate: 0.0010\n",
            "Epoch 7/20\n",
            "\u001b[1m20/20\u001b[0m \u001b[32m━━━━━━━━━━━━━━━━━━━━\u001b[0m\u001b[37m\u001b[0m \u001b[1m0s\u001b[0m 6ms/step - accuracy: 0.9237 - loss: 0.1561 - val_accuracy: 0.9187 - val_loss: 0.1557 - learning_rate: 0.0010\n",
            "Epoch 8/20\n",
            "\u001b[1m20/20\u001b[0m \u001b[32m━━━━━━━━━━━━━━━━━━━━\u001b[0m\u001b[37m\u001b[0m \u001b[1m0s\u001b[0m 5ms/step - accuracy: 0.9318 - loss: 0.1500 - val_accuracy: 0.9375 - val_loss: 0.1498 - learning_rate: 0.0010\n",
            "Epoch 9/20\n",
            "\u001b[1m20/20\u001b[0m \u001b[32m━━━━━━━━━━━━━━━━━━━━\u001b[0m\u001b[37m\u001b[0m \u001b[1m0s\u001b[0m 6ms/step - accuracy: 0.9447 - loss: 0.1264 - val_accuracy: 0.9438 - val_loss: 0.1408 - learning_rate: 0.0010\n",
            "Epoch 10/20\n",
            "\u001b[1m20/20\u001b[0m \u001b[32m━━━━━━━━━━━━━━━━━━━━\u001b[0m\u001b[37m\u001b[0m \u001b[1m0s\u001b[0m 6ms/step - accuracy: 0.9523 - loss: 0.1070 - val_accuracy: 0.9438 - val_loss: 0.1343 - learning_rate: 0.0010\n",
            "Epoch 11/20\n",
            "\u001b[1m20/20\u001b[0m \u001b[32m━━━━━━━━━━━━━━━━━━━━\u001b[0m\u001b[37m\u001b[0m \u001b[1m0s\u001b[0m 7ms/step - accuracy: 0.9632 - loss: 0.0998 - val_accuracy: 0.9500 - val_loss: 0.1278 - learning_rate: 0.0010\n",
            "Epoch 12/20\n",
            "\u001b[1m20/20\u001b[0m \u001b[32m━━━━━━━━━━━━━━━━━━━━\u001b[0m\u001b[37m\u001b[0m \u001b[1m0s\u001b[0m 5ms/step - accuracy: 0.9654 - loss: 0.0843 - val_accuracy: 0.9500 - val_loss: 0.1224 - learning_rate: 0.0010\n",
            "Epoch 13/20\n",
            "\u001b[1m20/20\u001b[0m \u001b[32m━━━━━━━━━━━━━━━━━━━━\u001b[0m\u001b[37m\u001b[0m \u001b[1m0s\u001b[0m 5ms/step - accuracy: 0.9673 - loss: 0.0817 - val_accuracy: 0.9500 - val_loss: 0.1174 - learning_rate: 0.0010\n",
            "Epoch 14/20\n",
            "\u001b[1m20/20\u001b[0m \u001b[32m━━━━━━━━━━━━━━━━━━━━\u001b[0m\u001b[37m\u001b[0m \u001b[1m0s\u001b[0m 5ms/step - accuracy: 0.9819 - loss: 0.0613 - val_accuracy: 0.9563 - val_loss: 0.1152 - learning_rate: 0.0010\n",
            "Epoch 15/20\n",
            "\u001b[1m20/20\u001b[0m \u001b[32m━━━━━━━━━━━━━━━━━━━━\u001b[0m\u001b[37m\u001b[0m \u001b[1m0s\u001b[0m 6ms/step - accuracy: 0.9680 - loss: 0.0786 - val_accuracy: 0.9563 - val_loss: 0.1111 - learning_rate: 0.0010\n",
            "Epoch 16/20\n",
            "\u001b[1m20/20\u001b[0m \u001b[32m━━━━━━━━━━━━━━━━━━━━\u001b[0m\u001b[37m\u001b[0m \u001b[1m0s\u001b[0m 5ms/step - accuracy: 0.9801 - loss: 0.0675 - val_accuracy: 0.9563 - val_loss: 0.1086 - learning_rate: 0.0010\n",
            "Epoch 17/20\n",
            "\u001b[1m20/20\u001b[0m \u001b[32m━━━━━━━━━━━━━━━━━━━━\u001b[0m\u001b[37m\u001b[0m \u001b[1m0s\u001b[0m 6ms/step - accuracy: 0.9850 - loss: 0.0508 - val_accuracy: 0.9563 - val_loss: 0.1167 - learning_rate: 0.0010\n",
            "Epoch 18/20\n",
            "\u001b[1m20/20\u001b[0m \u001b[32m━━━━━━━━━━━━━━━━━━━━\u001b[0m\u001b[37m\u001b[0m \u001b[1m0s\u001b[0m 6ms/step - accuracy: 0.9859 - loss: 0.0510 - val_accuracy: 0.9688 - val_loss: 0.1113 - learning_rate: 0.0010\n",
            "Epoch 19/20\n",
            "\u001b[1m 1/20\u001b[0m \u001b[32m━\u001b[0m\u001b[37m━━━━━━━━━━━━━━━━━━━\u001b[0m \u001b[1m0s\u001b[0m 25ms/step - accuracy: 1.0000 - loss: 0.0339\n",
            "Epoch 19: ReduceLROnPlateau reducing learning rate to 0.0005000000237487257.\n",
            "\u001b[1m20/20\u001b[0m \u001b[32m━━━━━━━━━━━━━━━━━━━━\u001b[0m\u001b[37m\u001b[0m \u001b[1m0s\u001b[0m 5ms/step - accuracy: 0.9868 - loss: 0.0564 - val_accuracy: 0.9750 - val_loss: 0.1117 - learning_rate: 0.0010\n",
            "Epoch 20/20\n",
            "\u001b[1m20/20\u001b[0m \u001b[32m━━━━━━━━━━━━━━━━━━━━\u001b[0m\u001b[37m\u001b[0m \u001b[1m0s\u001b[0m 5ms/step - accuracy: 0.9764 - loss: 0.0497 - val_accuracy: 0.9625 - val_loss: 0.1110 - learning_rate: 5.0000e-04\n",
            "Restoring model weights from the end of the best epoch: 16.\n"
          ]
        }
      ]
    },
    {
      "cell_type": "code",
      "source": [
        "# Plot training history\n",
        "plt.figure(figsize=(12, 4))\n",
        "\n",
        "# Plot training & validation accuracy\n",
        "plt.subplot(1, 2, 1)\n",
        "plt.plot(history.history['accuracy'])\n",
        "plt.plot(history.history['val_accuracy'])\n",
        "plt.title('Model Accuracy')\n",
        "plt.ylabel('Accuracy')\n",
        "plt.xlabel('Epoch')\n",
        "plt.legend(['Train', 'Validation'], loc='lower right')\n",
        "\n",
        "# Plot training & validation loss\n",
        "plt.subplot(1, 2, 2)\n",
        "plt.plot(history.history['loss'])\n",
        "plt.plot(history.history['val_loss'])\n",
        "plt.title('Model Loss')\n",
        "plt.ylabel('Loss')\n",
        "plt.xlabel('Epoch')\n",
        "plt.legend(['Train', 'Validation'], loc='upper right')\n",
        "\n",
        "plt.tight_layout()\n",
        "plt.show()"
      ],
      "metadata": {
        "colab": {
          "base_uri": "https://localhost:8080/",
          "height": 407
        },
        "id": "z3EC0FQURFVp",
        "outputId": "c2892550-044d-446e-9415-872f7667874a"
      },
      "execution_count": null,
      "outputs": [
        {
          "output_type": "display_data",
          "data": {
            "text/plain": [
              "<Figure size 1200x400 with 2 Axes>"
            ],
            "image/png": "[encoded data removed]"
          },
          "metadata": {}
        }
      ]
    },
    {
      "cell_type": "markdown",
      "source": [
        "<center><img width=\"500\" src = \"https://drive.google.com/uc?export=view&id=1O0S5tEUBHZaynn1L8a5KSwXLLiYimW5g\"></center>\n",
        "\n",
        "<center>👉👉 <a href=\"https://forms.gle/H7v5qZbBuiHvMbBu9\">Click here to participate in the poll</a>👈👈</center>"
      ],
      "metadata": {
        "id": "5o_i1SRZlXlb"
      }
    },
    {
      "cell_type": "markdown",
      "source": [
        "# The Variable Selection Network"
      ],
      "metadata": {
        "id": "3Z9whjHWS1Zk"
      }
    },
    {
      "cell_type": "markdown",
      "source": [
        "## Processing the Data"
      ],
      "metadata": {
        "id": "Kd0J0i2xwit0"
      }
    },
    {
      "cell_type": "code",
      "source": [
        "# Calculate the cardinalities (number of unique values) for each categorical feature\n",
        "cardinalities = []\n",
        "for col in X_cat.columns:\n",
        "    cardinality = X_cat[col].nunique()\n",
        "    cardinalities.append(cardinality)\n",
        "\n",
        "# Display information about categorical features and their cardinalities\n",
        "cat_info = pd.DataFrame({\n",
        "    'Feature': X_cat.columns,\n",
        "    'Cardinality': cardinalities\n",
        "})\n",
        "\n",
        "print(\"Categorical feature cardinalities:\")\n",
        "print(cat_info)\n",
        "print(f\"\\nCardinalities list: {cardinalities}\")\n",
        "\n",
        "# Display information about the split datasets\n",
        "print(f\"\\nX_num_train shape: {X_num_train.shape}\")\n",
        "print(f\"X_num_test shape: {X_num_test.shape}\")\n",
        "print(f\"X_cat_train shape: {X_cat_train.shape}\")\n",
        "print(f\"X_cat_test shape: {X_cat_test.shape}\")\n",
        "print(f\"y_train shape: {y_train.shape}\")\n",
        "print(f\"y_test shape: {y_test.shape}\")"
      ],
      "metadata": {
        "colab": {
          "base_uri": "https://localhost:8080/"
        },
        "id": "kEtcqj7fYBWc",
        "outputId": "fe0b9bb5-0069-4995-f78e-ea120a5e0df5"
      },
      "execution_count": null,
      "outputs": [
        {
          "output_type": "stream",
          "name": "stdout",
          "text": [
            "Categorical feature cardinalities:\n",
            "  Feature  Cardinality\n",
            "0   Cat_0            5\n",
            "1   Cat_1            3\n",
            "2   Cat_2            7\n",
            "\n",
            "Cardinalities list: [5, 3, 7]\n",
            "\n",
            "X_num_train shape: (800, 20)\n",
            "X_num_test shape: (200, 20)\n",
            "X_cat_train shape: (800, 3)\n",
            "X_cat_test shape: (200, 3)\n",
            "y_train shape: (800,)\n",
            "y_test shape: (200,)\n"
          ]
        }
      ]
    },
    {
      "cell_type": "markdown",
      "source": [
        "#### Introduction"
      ],
      "metadata": {
        "id": "_eU3BnDwXXop"
      }
    },
    {
      "cell_type": "markdown",
      "source": [
        "We denote $x_i \\in \\mathbb{R}^D$ the D-dimensional vector representing all the processed features:\n",
        "\n",
        "* The first $D_n$ dimensions are the numerical variables.\n",
        "* The last $D_c$ dimensions are the label encoded categorical variables.\n",
        "\n",
        "\n",
        "<center><img width=\"400\" src = \"https://drive.google.com/uc?export=view&id=1haI7b3oi60irjOv7W9iES99aUN1gPOMJ\"></center>\n",
        "\n",
        "\n",
        "\n"
      ],
      "metadata": {
        "id": "1uwCEGw18bk0"
      }
    },
    {
      "cell_type": "markdown",
      "source": [
        "Therefore, the first $D_n$ indices $d \\in \\{1, \\dots, D_n\\}$ are associated with the numerical variables $x_i^d$.\n",
        "\n",
        "                                                     "
      ],
      "metadata": {
        "id": "McL-K8AYAh57"
      }
    },
    {
      "cell_type": "markdown",
      "source": [
        "Each categorical variable $x_i^{d'}$ of index $d'$ (where $d' \\in \\{D_n +1, \\dots, D_n + D_c \\}$) has $n_{d'}$ possible categories, as summarized in the following table:\n",
        "\n",
        "| Categorical Variables | Cardinalities |\n",
        "|-----------------------|---------------|\n",
        "| Cat_0                 | 5             |\n",
        "| Cat_1                 | 3             |\n",
        "| Cat_2                 | 7             |"
      ],
      "metadata": {
        "id": "dEiOkGlyY1_N"
      }
    },
    {
      "cell_type": "markdown",
      "source": [
        "#### Encoding the numerical and the categorical variables into $D_e$-dimensional vectors"
      ],
      "metadata": {
        "id": "pD7g96wTS7DT"
      }
    },
    {
      "cell_type": "markdown",
      "source": [
        "---\n",
        "<font color=green>Q9:</font>\n",
        "<br><font color='green'>\n",
        "What is the primary limitation of Label Encoding ?\n",
        "</font>\n",
        "\n",
        "---"
      ],
      "metadata": {
        "id": "6H91f7TjqKsJ"
      }
    },
    {
      "cell_type": "markdown",
      "source": [
        "---\n",
        "Label Encoding introduces an arbitrary ordering or importance in the categories. This might be fine in some cases like 'Low', 'Medium', 'High' where an order is implied, but for something like 'France', 'UK', 'Spain', this order has no meaning. In such cases, we often use another technique called One-Hot Encoding.\n",
        "\n",
        "---"
      ],
      "metadata": {
        "id": "o7OygZLzYm-y"
      }
    },
    {
      "cell_type": "markdown",
      "source": [
        "Let $D_e$ be the size of the embedding space. We would like to encode each feature (numerical or categorical) into a $D_e$-dimensional vector. To that end, we will use:\n",
        "\n",
        "* **Dense Layers** for numerical features.\n",
        "\n",
        "  Therefore, the numerical feature $x_i^d$ (for $d \\in \\{1, \\dots, D_n\\}$) will be mapped into a $D_e$-dimensional vector $\\xi_i^d \\in \\mathbb{R}^{D_e}$.\n",
        "\n",
        "\n",
        "* **Embedding Layers** for categorical features.\n",
        "\n",
        "  The idea is to represent each category as a vector in a continuous vector space, rather than using one-hot encoding or Label Encoding. This has the advantage of capturing more complex relationships between categories, which can be especially important when dealing with categorical variables that have many categories. Therefore, the categorical feature $x_i^{d'}$ (for $d' \\in \\{D_n + 1, \\dots, D_n + D_c\\}$) will be mapped into a $D_e$-dimensional vector $\\xi_i^{d'} \\in \\mathbb{R}^{D_e}$."
      ],
      "metadata": {
        "id": "lIOUMZbZACP3"
      }
    },
    {
      "cell_type": "markdown",
      "source": [
        "#### Example: Exploring one of the categorical variables `Cat_0`"
      ],
      "metadata": {
        "id": "qK2VtRwxBnM1"
      }
    },
    {
      "cell_type": "markdown",
      "source": [
        "\n",
        "Suppose $d'$ is the index of the categorical variable `Cat_0`, which has $n_{d'} = 5$ possible values, encoded into $\\{0, 1, 2, 3, 4\\}$ using Label Encoding.\n",
        "\n",
        "Suppose we create an embedding layer (with the corresponding embedding_matrix $\\mathcal{E}_{d'}$) to process the categorical variable `CAT_0`.\n",
        "\n",
        "\n"
      ],
      "metadata": {
        "id": "oY3difyn_2Vn"
      }
    },
    {
      "cell_type": "markdown",
      "source": [
        "<center><img width=\"600\" src = \"https://drive.google.com/uc?export=view&id=1MO9QmTmZH9-A_Q29tF2xIjdte4jVd8kB\"></center>\n"
      ],
      "metadata": {
        "id": "WHQQMOtvZ0Ki"
      }
    },
    {
      "cell_type": "markdown",
      "source": [
        "---\n",
        "<font color=green>Q10:</font>\n",
        "<br><font color='green'>\n",
        "Explain why the embedding matrix $\\mathcal{E}_{d'}$ associated with the categorical variable `Cat_0` is of shape $(n_{d'}, D_e$)\n",
        "\n",
        "</font>\n",
        "\n",
        "---"
      ],
      "metadata": {
        "id": "FlN3SbOEPgR6"
      }
    },
    {
      "cell_type": "markdown",
      "source": [
        "---\n",
        "The embedding matrix has a shape of $(n_{d'}, D_e)$ because each row $i$ represents the embedding vector of the category label encoded into $i$.\n",
        "\n",
        "As we have, $n_{d'}$ categories for `Cat_0`, we will have $n_{d'}$ rows in $\\mathcal{E}_{d'}$.\n",
        "As the embedding vectors are of size $D_e$, $\\mathcal{E}_{d'}$ has $D_e$ columns.\n",
        "\n",
        "---"
      ],
      "metadata": {
        "id": "mTCYV7jbYsvg"
      }
    },
    {
      "cell_type": "markdown",
      "source": [
        "These embedding vectors are learned during the training process and are updated via backpropagation, just like any other weights in the network"
      ],
      "metadata": {
        "id": "7tMN07CgQS7N"
      }
    },
    {
      "cell_type": "markdown",
      "source": [
        "---\n",
        "<font color=green>Q11:</font>\n",
        "<br><font color='green'>\n",
        "What would be the embedding vector associated with the category 2 of `Cat_1`?\n",
        "\n",
        "</font>\n",
        "\n",
        "---"
      ],
      "metadata": {
        "id": "MVFPeL10YDWF"
      }
    },
    {
      "cell_type": "markdown",
      "source": [
        "---\n",
        "It will be the row of index 2 of $\\mathcal{E}_{d'}$.\n",
        "\n",
        "---"
      ],
      "metadata": {
        "id": "U6TOr6peZ0zh"
      }
    },
    {
      "cell_type": "markdown",
      "source": [
        "#### Introducing the `InputTransformation` Layer"
      ],
      "metadata": {
        "id": "3ew1h6pDTtES"
      }
    },
    {
      "cell_type": "markdown",
      "source": [
        "The following custom TensorFlow layer, named `InputTransformation`, is designed to process numerical and categorical features as described previously.\n",
        "\n",
        "This layer takes as input the numerical tensor `X_num_train` $\\in \\mathbb{R}^{N_T \\times D_n}$ and the categorical tensor `X_cat_train` $\\in \\mathbb{R}^{N_T \\times D_c}$ and transforms them into a more representative space (embedded space) which can be further processed by downstream layers.\n",
        "\n",
        "\n",
        "The `InputTransformation` class has several key attributes:\n",
        "\n",
        "| Attribute  | Notation      | Description                                                              |\n",
        "|-----------------|---------------|--------------------------------------------------------------------------|\n",
        "| embedding_dim   |$D_e$ | Dimension of the space to which the input features will be mapped.             |                                                  \n",
        "| num_numerical   | $D_n$           | Number of numerical features                                             |\n",
        "| num_categorical | $D_c$           | Number of categorical features                                           |\n",
        "| cardinalities   | cardinalities | List that contains the number of unique values (categories) for each categorical variable. |\n",
        "\n",
        "\n",
        "\n",
        "In the `call` method, the class processes the numerical and categorical features separately.\n",
        "\n",
        "* For each numerical feature, it applies a **Dense layer** (a linear operation with learnable weights and biases), which projects the numerical feature into the embedding space.\n",
        "  \n",
        "  Therefore, the numerical tensor  $\\begin{bmatrix}\n",
        "x_i^1 \\\\\n",
        "\\vdots\\\\\n",
        "x_i^{D_n}\\\\\n",
        "\\end{bmatrix} \\in \\mathbb{R}^{D_n}$ is mapped into the list of tensors $\\left[\\xi_i^1 \\in \\mathbb{R}^{D_e}, \\dots, \\xi_i^d \\in \\mathbb{R}^{D_e}, \\dots, \\xi_i^{D_n} \\in \\mathbb{R}^{D_e} \\right]$\n",
        "\n",
        "\n",
        "\n",
        "\n",
        "* For each categorical feature, it applies an **Embedding layer**, which assigns each category an embedding vector in the embedding space.\n",
        "\n",
        "  Therefore, the categorical tensor  $\\begin{bmatrix}\n",
        "x_i^{D_n+1} \\\\\n",
        "\\vdots\\\\\n",
        "x_i^{D_n + D_c}\\\\\n",
        "\\end{bmatrix} \\in \\mathbb{R}^{D_c}$ is mapped into the list of tensors $\\left[\\xi_i^{D_n +1} \\in \\mathbb{R}^{D_e}, \\dots, \\xi_i^{d'} \\in \\mathbb{R}^{D_e}, \\dots, \\xi_i^{D_n + D_c} \\in \\mathbb{R}^{D_e} \\right]$\n",
        "\n",
        "* The following graph summarizes these transformations:\n",
        "\n",
        "<center><img width=\"700\" src = \"https://drive.google.com/uc?export=view&id=1XGcCfnBVTvOR64kKWWQLMyOyg1CUfdTy\"></center>\n",
        "\n",
        "\n",
        "* Finally, it stacks all the embedded numerical features $\\left[\\xi_i^1 \\in \\mathbb{R}^{D_e}, \\dots, \\xi_i^d \\in \\mathbb{R}^{D_e}, \\dots, \\xi_i^{D_n} \\in \\mathbb{R}^{D_e} \\right]$ and the embeded categorical features $\\left[\\xi_i^{D_n +1} \\in \\mathbb{R}^{D_e}, \\dots, \\xi_i^{d'} \\in \\mathbb{R}^{D_e}, \\dots, \\xi_i^{D_n + D_c} \\in \\mathbb{R}^{D_e} \\right]$ along the last axis, resulting in the tensor $\\left[\\xi_i^1 \\in \\mathbb{R}^{D_e}, \\dots, \\xi_i^d \\in \\mathbb{R}^{D_e}, \\dots, \\xi_i^{D_n} \\in \\mathbb{R}^{D_e}, \\xi_i^{D_n +1} \\in \\mathbb{R}^{D_e}, \\dots, \\xi_i^{d'} \\in \\mathbb{R}^{D_e}, \\dots, \\xi_i^{D_n + D_c} \\in \\mathbb{R}^{D_e} \\right] \\in \\mathbb{R}^{D_e \\times (D_n + D_c)}$ as shown in the following graph:\n",
        "\n",
        "<center><img width=\"700\" src = \"https://drive.google.com/uc?export=view&id=1L-VOZBERHSgGLcc44pcYoCnbl7SIKkwa\"></center>\n",
        "\n"
      ],
      "metadata": {
        "id": "3m2yikIiT5MS"
      }
    },
    {
      "cell_type": "code",
      "source": [
        "class InputTransformation(tf.keras.layers.Layer):\n",
        "  def __init__(self, embedding_dim, num_numerical, num_categorical, cardinalities, **kwargs):\n",
        "    super(InputTransformation, self).__init__(**kwargs)\n",
        "    # Define the Hyperparameters\n",
        "    self.embedding_dim = embedding_dim\n",
        "    self.num_numerical = num_numerical\n",
        "    self.num_categorical = num_categorical\n",
        "    self.cardinalities = cardinalities\n",
        "\n",
        "    # List of projections\n",
        "    self.list_projection_layers = [Dense(self.embedding_dim) for _ in range(self.num_numerical)]\n",
        "    # List of embedding layers\n",
        "    self.list_embedding_layers = [Embedding(input_dim=cardinality, output_dim=self.embedding_dim)\n",
        "                            for cardinality in self.cardinalities]\n",
        "\n",
        "  def call(self, x_num, x_cat):\n",
        "    \"\"\"\n",
        "    x_num (batch_size, num_numerical)\n",
        "    x_cat (batch_size, num_categorical)\n",
        "    \"\"\"\n",
        "    list_numerical_features = [] # list of num_numerical tensors[(batch_size, embedding_dim),...,(batch_size, embedding_dim)]\n",
        "    # Apply the projections on each feature x_num[:, i:i+1]\n",
        "    for i, projection in enumerate(self.list_projection_layers):\n",
        "      list_numerical_features.append(projection(x_num[:, i:i+1]))\n",
        "    list_categorical_features = [] # list of num_categorical tensors[(batch_size, embedding_dim),...,(batch_size, embedding_dim)]\n",
        "    # Apply the Embedding layers on each categorical feature x_cat[:, i:i+1]\n",
        "    for i, embedding_layer in enumerate(self.list_embedding_layers):\n",
        "      list_categorical_features.append(embedding_layer(x_cat[:, i]))\n",
        "    # stack all the embedding vectors (batch_size, embedding_dim, num_numerical + num_categorical)\n",
        "    stack_features = tf.stack(list_numerical_features + list_categorical_features, axis=-1)\n",
        "    return stack_features"
      ],
      "metadata": {
        "id": "2Y9REiU6SXMD"
      },
      "execution_count": null,
      "outputs": []
    },
    {
      "cell_type": "markdown",
      "source": [
        "---\n",
        "<font color=green>Q12:</font>\n",
        "<br><font color='green'>\n",
        "Apply the layer on `X_num_train` and `X_cat_train` as follows by filling the following code with the appropriate values:\n",
        "</font>\n",
        "\n",
        "---"
      ],
      "metadata": {
        "id": "KN5lJlJ_pl_p"
      }
    },
    {
      "cell_type": "code",
      "source": [
        "# Create an instance of the InputTransformation\n",
        "input_transformation = InputTransformation(\n",
        "  embedding_dim = 32, # D_e = 32 or any value\n",
        "  num_numerical = X_num_train.shape[1],\n",
        "  num_categorical = X_cat_train.shape[1],\n",
        "  cardinalities = cardinalities\n",
        ")\n",
        "# Apply it on the tensors X_num_train and X_cat_train as follows:\n",
        "stack_features = input_transformation(X_num_train, X_cat_train)\n",
        "\n",
        "# Print the shape of stack_features\n",
        "print(\"The shape of stack_features is\", stack_features.shape)"
      ],
      "metadata": {
        "id": "TfaoQvoxt4zH",
        "colab": {
          "base_uri": "https://localhost:8080/"
        },
        "outputId": "6a20241d-190c-4414-852f-3023c20b6331"
      },
      "execution_count": null,
      "outputs": [
        {
          "output_type": "stream",
          "name": "stdout",
          "text": [
            "The shape of stack_features is (800, 32, 23)\n"
          ]
        }
      ]
    },
    {
      "cell_type": "markdown",
      "source": [
        "---\n",
        "<font color=green>Q13:</font>\n",
        "<br><font color='green'>\n",
        "Explain the shape of `stack_features`\n",
        "</font>\n",
        "\n",
        "---"
      ],
      "metadata": {
        "id": "zBJ4r6awuCau"
      }
    },
    {
      "cell_type": "markdown",
      "source": [
        "---\n",
        "stack_features is of shape $(N_T, D_e, D_n + D_C)$ as it represents $\\left[\\xi_i^1 \\in \\mathbb{R}^{D_e}, \\dots, \\xi_i^d \\in \\mathbb{R}^{D_e}, \\dots, \\xi_i^{D_n} \\in \\mathbb{R}^{D_e}, \\xi_i^{D_n +1} \\in \\mathbb{R}^{D_e}, \\dots, \\xi_i^{d'} \\in \\mathbb{R}^{D_e}, \\dots, \\xi_i^{D_n + D_c} \\in \\mathbb{R}^{D_e} \\right] \\in \\mathbb{R}^{D_e \\times (D_n + D_c)}$ for each of the $N_T$ samples.\n",
        "\n",
        "---"
      ],
      "metadata": {
        "id": "CiPNheQ7afxn"
      }
    },
    {
      "cell_type": "markdown",
      "source": [
        "<center><img width=\"500\" src = \"https://drive.google.com/uc?export=view&id=1O0S5tEUBHZaynn1L8a5KSwXLLiYimW5g\"></center>\n",
        "\n",
        "<center>👉👉 <a href=\"https://forms.gle/H7v5qZbBuiHvMbBu9\">Click here to participate in the poll</a>👈👈</center>"
      ],
      "metadata": {
        "id": "hgty6uaQlbFB"
      }
    },
    {
      "cell_type": "markdown",
      "source": [
        "## The Gated Residual Network"
      ],
      "metadata": {
        "id": "MTRuyw7LQaxE"
      }
    },
    {
      "cell_type": "markdown",
      "source": [
        "#### The Gated Linear Unit Layer\n",
        "\n"
      ],
      "metadata": {
        "id": "QZXQDBv1wtFW"
      }
    },
    {
      "cell_type": "markdown",
      "source": [
        "The following custom `GatedLinearUnits` (GLU) layer is a special kind of layer introduced in the paper [Language Modeling with Gated Convolutional Networks](https://arxiv.org/pdf/1612.08083.pdf). In general, the purpose of gating mechanisms is to control the flow of information in a neural network, and the Gated Linear Units follow this principle.\n",
        "\n",
        "Here's how this custom TensorFlow layer works:\n",
        "\n",
        "* The `GatedLinearUnits` class has the following attribute:\n",
        "\n",
        "| Attribute  | Notation      | Description                                                              |\n",
        "|-----------------|---------------|--------------------------------------------------------------------------|\n",
        "| output_dim   | d_o             |   Dimension of the output vector                                               |\n",
        "\n",
        "\n",
        "\n",
        "\n",
        "* **Initialization**: When the layer is instantiated, it takes an `output_dim` parameter, which defines the dimensionality of the output space of the layer.\n",
        "\n",
        "* Two dense (fully connected) layers are also initialized: `dense_filter` and `dense_vector`. The `dense_filter` layer uses a **sigmoid** activation function, which will output values between 0 and 1, while `dense_vector` has no activation function specified, meaning it will use a linear activation function by default.\n",
        "\n",
        "* In the `call` method, the input $\\eta \\in \\mathbb{R}^{d_i}$ is processed by both `dense_filter` and `dense_vector`.\n",
        "\n",
        "  * The input vector $\\eta \\in \\mathbb{R}^{d_i}$ is processed by the `dense_filter` layer to get $\\sigma \\left( W_f^T \\eta + b_f \\right) \\in \\mathbb{R}^{d_o}$.\n",
        "  \n",
        "  * The input vector $\\eta \\in \\mathbb{R}^{d_i}$ is also processed by the `dense_vector` layer to get $W^T \\eta + b\\in \\mathbb{R}^{d_o}\n",
        "$.\n",
        "  * The output is the Hadamard product between both output vectors: $\\sigma \\left( W_f^T \\eta + b_f \\right) \\circ \\left(W^T \\eta + b\\right) \\in \\mathbb{R}^{d_o} $.\n",
        "\n",
        "* The `GatedLinearUnit` layer is represented in the following graph:\n",
        "\n",
        "<center><img width=\"900\" src = \"https://drive.google.com/uc?export=view&id=11h7MJpm8t9z7IT03QWbUgAiE53CVzJzd\"></center>\n",
        "\n",
        "\n",
        "\n"
      ],
      "metadata": {
        "id": "_089PsGovdJ0"
      }
    },
    {
      "cell_type": "code",
      "source": [
        "class GatedLinearUnits(tf.keras.layers.Layer):\n",
        "  def __init__(self, output_dim, **kwargs):\n",
        "    super(GatedLinearUnits, self).__init__(**kwargs)\n",
        "    self.output_dim = output_dim\n",
        "    self.dense_filter = Dense(output_dim, activation='sigmoid')\n",
        "    self.dense_vector = Dense(output_dim)\n",
        "  def call(self, x):\n",
        "    filter = self.dense_filter(x)\n",
        "    vector = self.dense_vector(x)\n",
        "    output = tf.multiply(filter, vector)\n",
        "    return output"
      ],
      "metadata": {
        "id": "7rxVLND11p3b"
      },
      "execution_count": null,
      "outputs": []
    },
    {
      "cell_type": "markdown",
      "source": [
        "---\n",
        "<font color=green>Q14:</font>\n",
        "<br><font color='green'>\n",
        "Explain the intuition behind this gating mechanism.\n",
        "</font>\n",
        "\n",
        "---\n",
        "\n"
      ],
      "metadata": {
        "id": "yX6GVjwm1zZ2"
      }
    },
    {
      "cell_type": "markdown",
      "source": [
        "---\n",
        "Gating mechanism: The gating mechanism comes into play when the filter vector $\\sigma \\left( W_f^T \\eta + b_f \\right) \\in \\mathbb{R}^{d_o}$ and the vector\n",
        "$\\sigma \\left( W_f^T \\eta + b_f \\right) \\circ \\left(W^T \\eta + b\\right) \\in \\mathbb{R}^{d_o} $ are element-wise multiplied using tf.multiply. Because the filter tensor only contains values between 0 and 1, it acts as a gate that controls the information flow from vector. If an element in filter is close to 0, the corresponding element in vector is mostly blocked (multiplied by a number close to 0). If an element in filter is close to 1, the corresponding element in vector is allowed to pass through (multiplied by a number close to 1).\n",
        "\n",
        "---"
      ],
      "metadata": {
        "id": "Fg0UPvWDbL46"
      }
    },
    {
      "cell_type": "markdown",
      "source": [
        "---\n",
        "<font color=green>Q15:</font>\n",
        "<br><font color='green'>\n",
        "What is the total number of parameters of the `GatedLinearUnit` layer as a function of $d_i$ and $d_o$ ?\n",
        "</font>\n",
        "\n",
        "---"
      ],
      "metadata": {
        "id": "a4EP2F0M1RkS"
      }
    },
    {
      "cell_type": "markdown",
      "source": [
        "---\n",
        "* Each of the two dense layers has $d_i d_o + d_o$ parameters\n",
        "* Therefore, the total number of parameters for the `GatedLinearUnit` layer is $2(d_i d_o + d_o)$\n",
        "\n",
        "---"
      ],
      "metadata": {
        "id": "VuLRNFPTbRtR"
      }
    },
    {
      "cell_type": "markdown",
      "source": [
        "#### The Gated Residual Network"
      ],
      "metadata": {
        "id": "hElmknMx1gyM"
      }
    },
    {
      "cell_type": "markdown",
      "source": [
        "The following custom`GatedResidualNetwork` layer is a layer that implements a Gated Residual Network architecture, which is a type of feed-forward neural network that includes gating mechanisms and residual connections. This can be helpful in controlling the flow of information through the network and mitigating problems such as vanishing gradients.\n",
        "\n",
        "\n",
        "\n",
        "* The input tensor $\\xi$ is first passed through the two Dense layers and then through the Dropout layer. The first Dense layer applies an Exponential Linear Unit (ELU) activation function, and the second Dense layer has no activation function specified, meaning it will use a linear activation function by default. The Dropout layer randomly sets a fraction (10% in this case) of the input units to 0 at each update during training, which helps prevent overfitting.\n",
        "\n",
        "* The output from the Dropout layer is passed through the `GatedLinearUnits` (GLU) layer described previously. This layer applies a gating mechanism that can help control the flow of information through the network.\n",
        "\n",
        "* Then, the output from the GLU layer is added to the input tensor. This forms a residual connection, which can help alleviate the vanishing gradient problem and improve the ability of the network to learn complex patterns.\n",
        "\n",
        "* Finally, the `LayerNormalization` layer is applied, which normalizes the output across the features (i.e., the last dimension) rather than across the batch. This can make the model more stable and faster to train.\n",
        "\n",
        "* The following graph summarizes the different steps of processing an input vector $\\xi \\in \\mathbb{R}^{d_i}$ into an output vector $\\tilde{\\xi} \\in \\mathbb{R}^{d_o}$ using the `GatedResidualNetwork`.\n",
        "\n",
        "<center><img width=\"500\" src = \"https://drive.google.com/uc?export=view&id=1Kf0zZgyDvzBxFDqLc0nzOPXwzT4TGABb\"></center>\n"
      ],
      "metadata": {
        "id": "Ueu2RZCW7Jzn"
      }
    },
    {
      "cell_type": "code",
      "source": [
        "class GatedResidualNetwork(tf.keras.layers.Layer):\n",
        "  def __init__(self, hidden_dim, output_dim, **kwargs):\n",
        "    super(GatedResidualNetwork, self).__init__(**kwargs)\n",
        "    self.hidden_dim=hidden_dim\n",
        "    self.output_dim=output_dim\n",
        "    # Define the layers\n",
        "    self.projection = Dense(output_dim)\n",
        "    self.dense_1 = Dense(hidden_dim, activation=\"elu\")\n",
        "    self.dense_2 = Dense(hidden_dim)\n",
        "    self.dropout = Dropout(rate=0.1)\n",
        "    self.glu = GatedLinearUnits(output_dim)\n",
        "    self.layer_norm = LayerNormalization()\n",
        "\n",
        "  def call(self, x):\n",
        "    \"\"\"\n",
        "    x (batch_size, input_dim) -> output (batch_size, output_dim)\n",
        "    \"\"\"\n",
        "    input_dim = x.shape[-1]\n",
        "    z = self.dense_1(x) # (batch_size, hidden_dim)\n",
        "    z = self.dense_2(z) # (batch_size, hidden_dim)\n",
        "    z = self.dropout(z) # (batch_size, hidden_dim)\n",
        "    z = self.glu(z) # (batch_size, output_dim)\n",
        "    if input_dim != self.output_dim:\n",
        "      x = self.projection(x)\n",
        "    output = self.layer_norm(x + z) # (batch_size, output_dim)\n",
        "    return output"
      ],
      "metadata": {
        "id": "KdJH2dOKSXME"
      },
      "execution_count": null,
      "outputs": []
    },
    {
      "cell_type": "markdown",
      "source": [
        "#### Getting the final output vector"
      ],
      "metadata": {
        "id": "HoyNde0dLpZF"
      }
    },
    {
      "cell_type": "markdown",
      "source": [
        "We would like to apply a Gated Residual Network (GRN) to each of the embedded features $\\left[\\xi_i^1, \\dots, \\xi_i^d , \\dots, \\xi_i^{D_n} , \\xi_i^{D_n +1}, \\dots, \\xi_i^{d'}, \\dots, \\xi_i^{D_n + D_c} \\right] \\in \\mathbb{R}^{D_e \\times (D_n + D_c)}$ in order to get the following sequence of $D_o$-Dimensional vectors: $\\left[\\tilde{\\xi}_i^1, \\dots, \\tilde{\\xi}_i^d, \\dots, \\tilde{\\xi}_i^{D_n}, \\tilde{\\xi}_i^{D_n +1}, \\dots, \\tilde{\\xi}_i^{d'}, \\dots, \\tilde{\\xi}_i^{D_n + D_c} \\right] \\in \\mathbb{R}^{D_o \\times (D_n + D_c)}$ as shown in the following graph:\n",
        "\n",
        "<center><img width=\"700\" src = \"https://drive.google.com/uc?export=view&id=15lm1HCVFM3365iMWsIVA-X0JZ9qm3puL\"></center>"
      ],
      "metadata": {
        "id": "i8aF3cvO9hhQ"
      }
    },
    {
      "cell_type": "markdown",
      "source": [
        "Let $\\xi_i$ be the concatenation of all the vectors $\\left[\\xi_i^1, \\dots,\n",
        "\\xi_i^d , \\dots, \\xi_i^{D_n} , \\xi_i^{D_n +1}, \\dots, \\xi_i^{d'}, \\dots, \\xi_i^{D_n + D_c} \\right]$."
      ],
      "metadata": {
        "id": "aJiAC30JLxAV"
      }
    },
    {
      "cell_type": "markdown",
      "source": [
        "---\n",
        "<font color=green>Q16:</font>\n",
        "<br><font color='green'>\n",
        "What is the dimensionality of $\\xi_i$ ?\n",
        "</font>\n",
        "\n",
        "---\n",
        "\n",
        "<center><img width=\"700\" src = \"https://drive.google.com/uc?export=view&id=1L3hLN_9ljvKBo-NhYNlsRFtz-Jvl7B-P\"></center>\n"
      ],
      "metadata": {
        "id": "T2aI-JIVJ4ca"
      }
    },
    {
      "cell_type": "markdown",
      "source": [
        "Wa want to apply a `GatedResidualNetwork` and a `Softmax` activation function on the vector $\\xi_i$ in order to get the vector $\\alpha_i$ of size $D_n + D_c$ as shown in the following figure:\n",
        "\n",
        "<center><img width=\"700\" src = \"https://drive.google.com/uc?export=view&id=1K3Ryx_M0lc9w8LUQdH6T7tuoJLStwVh3\"></center>"
      ],
      "metadata": {
        "id": "e9OljENkMmlY"
      }
    },
    {
      "cell_type": "markdown",
      "source": [
        "---\n",
        "<font color=green>Q17:</font>\n",
        "<br><font color='green'>\n",
        "Let $\\psi_i$ be the output vector of the `GatedResidualNetwork` applied on $\\xi_i$. How can we get $\\alpha_i$ from $\\psi_i$ ?\n",
        "\n",
        "</font>\n",
        "\n",
        "---"
      ],
      "metadata": {
        "id": "cFCaLK1NNoPr"
      }
    },
    {
      "cell_type": "markdown",
      "source": [
        "---\n",
        "Using the Softmax:\n",
        "\n",
        "\\begin{equation}\n",
        "\\forall d \\in \\{1, \\dots, D_n+D_c\\} \\quad \\alpha_i^d = \\frac{\\exp(\\psi_i^d)}{\\sum\\limits_{d'=1}^{D_n + D_c} \\exp(\\psi_i^{d'})}\n",
        "\\end{equation}\n",
        "\n",
        "---"
      ],
      "metadata": {
        "id": "Y-V4QWsqbvHE"
      }
    },
    {
      "cell_type": "markdown",
      "source": [
        "The final vector is $\\tilde{\\xi}_i = \\sum\\limits_{d=1}^{D_n + D_c} \\alpha_i^d \\tilde{\\xi}_i^{d}$ as shown in the following figure:\n",
        "\n",
        "<center><img width=\"1000\" src = \"https://drive.google.com/uc?export=view&id=1vYuM7IHblWHGXgblVzLRvOqHF24q923p\"></center>"
      ],
      "metadata": {
        "id": "VFfileR4OIk0"
      }
    },
    {
      "cell_type": "markdown",
      "source": [
        "---\n",
        "<font color=green>Q18:</font>\n",
        "<br><font color='green'>\n",
        "What is the interpretation of $\\alpha_i^d$ for all $d \\in \\{1, \\dots, D_n + D_c \\}$ ?\n",
        "\n",
        "</font>\n",
        "\n",
        "---"
      ],
      "metadata": {
        "id": "3Z_-BOMpO6ok"
      }
    },
    {
      "cell_type": "markdown",
      "source": [
        "---\n",
        "$\\forall d \\in \\{1, \\dots, D_n + D_c \\} \\quad \\alpha_i^d$ represents the contribution of the feature of index $d$ in generating $\\tilde{\\xi}_i$. Therefore, it represents the importance of the feature of index $d$ for the prediction associated with the sample $i$.\n",
        "\n",
        "---"
      ],
      "metadata": {
        "id": "ghCp-B0RccYZ"
      }
    },
    {
      "cell_type": "markdown",
      "source": [
        "<center><img width=\"500\" src = \"https://drive.google.com/uc?export=view&id=1O0S5tEUBHZaynn1L8a5KSwXLLiYimW5g\"></center>\n",
        "\n",
        "<center>👉👉 <a href=\"https://forms.gle/H7v5qZbBuiHvMbBu9\">Click here to participate in the poll</a>👈👈</center>"
      ],
      "metadata": {
        "id": "GndYl6RsliGe"
      }
    },
    {
      "cell_type": "markdown",
      "source": [
        "## The Final Model"
      ],
      "metadata": {
        "id": "6GZJZCh6SXME"
      }
    },
    {
      "cell_type": "markdown",
      "source": [
        "#### Coding the Final Model"
      ],
      "metadata": {
        "id": "cbhe1XJvRF6D"
      }
    },
    {
      "cell_type": "markdown",
      "source": [
        "The following graph summarizes the whole Forward Propagation.\n",
        "\n",
        "The whole process is coded in the `FinalModel` model below.\n",
        "\n",
        "It takes as input the tensors $\\begin{bmatrix}\n",
        "x_i^1 \\\\\n",
        "\\vdots\\\\\n",
        "x_i^{D_n}\\\\\n",
        "\\end{bmatrix}$ and $\\begin{bmatrix}\n",
        "x_i^{D_n+1} \\\\\n",
        "\\vdots\\\\\n",
        "x_i^{D_n + D_c}\\\\\n",
        "\\end{bmatrix}$ and outputs the prediction tensor $\\tilde{\\xi}_i \\in \\mathbb{R}^{D_o}$ to which we apply a Dense layer to get a final prediction $\\in [0, 1]$ as it's a binary classification problem and the alpha coeffecitions  $\\alpha_i \\in \\mathbb{R}^{D_n + D_c}$"
      ],
      "metadata": {
        "id": "rlz1rcYAQ664"
      }
    },
    {
      "cell_type": "markdown",
      "source": [
        "<center><img width=\"1000\" src = \"https://drive.google.com/uc?export=view&id=1vYuM7IHblWHGXgblVzLRvOqHF24q923p\"></center>"
      ],
      "metadata": {
        "id": "MMM08EmGSXME"
      }
    },
    {
      "cell_type": "code",
      "source": [
        "class VariableSelectionNetwork(tf.keras.layers.Layer):\n",
        "    def __init__(self, num_features, hidden_dim, output_dim, **kwargs):\n",
        "        super(VariableSelectionNetwork, self).__init__(**kwargs)\n",
        "        self.num_features = num_features\n",
        "        self.hidden_dim = hidden_dim\n",
        "        self.output_dim = output_dim\n",
        "        # Layers\n",
        "        self.list_grns = [GatedResidualNetwork(hidden_dim=hidden_dim,\n",
        "                                               output_dim=output_dim) for _ in range(num_features)]\n",
        "        self.flatten_grn = GatedResidualNetwork(hidden_dim=hidden_dim,\n",
        "                                                output_dim=num_features)\n",
        "\n",
        "    def call(self, stack_features):\n",
        "        \"\"\"\n",
        "        stack_features (batch_size, embedding_dim, num_features) -> outputs (batch_size, output_dim), feature_weights (batch_size, num_features)\n",
        "        \"\"\"\n",
        "        # Apply the gated residual network to each feature vector\n",
        "        list_features = []\n",
        "        for i, grn in enumerate(self.list_grns):\n",
        "            feature = grn(stack_features[:, :, i])\n",
        "            list_features.append(feature)\n",
        "        # [(batch_size, output_dim), ..., (batch_size, output_dim)] of size num_features -> (batch_size, output_dim, num_features)\n",
        "        stacked_features = tf.stack(list_features, axis=-1)  # (batch_size, output_dim, num_features)\n",
        "        # Reshape stacked_features (batch_size, output_dim, num_features) -> (batch_size, output_dim*num_features)\n",
        "        batch_size = tf.shape(stacked_features)[0]\n",
        "        stack_features_reshaped = tf.reshape(stacked_features, shape=(batch_size, stacked_features.shape[1] * stacked_features.shape[2]))\n",
        "        # Apply GRN (batch_size, output_dim*num_features) -> (batch_size, num_features)\n",
        "        stack_features_reshaped = self.flatten_grn(stack_features_reshaped)\n",
        "        # Apply Softmax (batch_size, num_features) -> (batch_size, num_features)\n",
        "        weights = tf.nn.softmax(stack_features_reshaped, axis=-1)\n",
        "        # Reshape weigths(batch_size, num_features) -> (batch_size, 1, num_features)\n",
        "        weights_reshaped = weights[:, tf.newaxis, :]\n",
        "        # Multiply weights and stacked_features (batch_size, output_dim, num_features), (batch_size, 1, num_features) -> (batch_size, output_dim, num_features)\n",
        "        output = tf.multiply(stacked_features, weights_reshaped)\n",
        "        # Sum over the num_features axis (batch_size, output_dim, num_features) -> (batch_size, output_dim)\n",
        "        output = tf.reduce_sum(output, axis=-1)\n",
        "        return output, weights\n",
        "\n",
        "class FinalModel(tf.keras.models.Model):\n",
        "    def __init__(self, embedding_dim, num_numerical, num_categorical, cardinalities, hidden_dim, output_dim, **kwargs):\n",
        "        super(FinalModel, self).__init__(**kwargs)\n",
        "        self.embedding_dim = embedding_dim\n",
        "        self.num_numerical = num_numerical\n",
        "        self.num_categorical = num_categorical\n",
        "        self.cardinalities = cardinalities\n",
        "        self.hidden_dim = hidden_dim\n",
        "        self.output_dim = output_dim\n",
        "        # Layers\n",
        "        self.input_transformation = InputTransformation(embedding_dim=embedding_dim,\n",
        "                                                        num_numerical=num_numerical,\n",
        "                                                        num_categorical=num_categorical,\n",
        "                                                        cardinalities=cardinalities)\n",
        "        self.vsn = VariableSelectionNetwork(num_features=num_numerical + num_categorical,\n",
        "                                            hidden_dim=hidden_dim,\n",
        "                                            output_dim=output_dim)\n",
        "        self.dense = Dense(1, activation=\"sigmoid\")\n",
        "\n",
        "    def call(self, inputs):\n",
        "        x_num, x_cat = inputs\n",
        "        stack_features = self.input_transformation(x_num, x_cat)\n",
        "        output, alpha = self.vsn(stack_features)\n",
        "        output = self.dense(output)\n",
        "        return tf.squeeze(output), alpha\n"
      ],
      "metadata": {
        "id": "eswmvY2HUg2z"
      },
      "execution_count": null,
      "outputs": []
    },
    {
      "cell_type": "markdown",
      "source": [
        "---\n",
        "<font color=green>Q19:</font>\n",
        "<br><font color='green'>\n",
        "Create a summary of the entire `FinalModel` by specifying the following elements: The different layers used, with a brief description of each layer and how the shape of the data changes after each layer transformation.\n",
        "\n",
        "</font>\n",
        "\n",
        "---"
      ],
      "metadata": {
        "id": "SS1aGmdlRL8t"
      }
    },
    {
      "cell_type": "markdown",
      "source": [
        "---\n",
        "* The model input is composed of the two tensors `X_num` of shape $(N, D_n)$ and `X_cat` of shape $(N, D_c)$, which are the tensors of numerical and categorical variables (label encoded). (N can be $N_T$ or $N_t$).\n",
        "* Each of the $D_n$ dimensions of the numerical tensor `X_num` is processed using a Dense layer with an output of dimension $D_e$ to get $\\xi_i^d$ for all $d\\in \\{1, \\dots, D_n\\}$.\n",
        "* Each of the $D_c$ dimensions $d'$ of the categorical tensor `X_cat` is processed through an embedding layer (with an embedding matrix of shape $(n_{d'}, D_e)$) to get the embedding vector $\\xi_i^{d'}$.\n",
        "* Each of the $\\xi_i^d$ for $d \\in \\{1, \\dots, D_n, D_n+1, \\dots, D_n + D_c\\}$ is mapped through a specific `GatedResidualNetwork` (a layer composed of Dense layers, The Gated Linear Unit to filter the data and a skipp connection to help overcome the vanishing gradient problem) into $\\tilde{\\xi}_i^d$.\n",
        "* The concatenation of all $\\left(\\xi_i^d\\right)_{1 \\leq d \\leq D_n + D_c}$ is mapped through a sequence of the `GatedResidualNetwork`and a `Sotmax()` layer to get a distribution over all the possible features called $\\alpha_i$.\n",
        "* The final output $\\tilde{\\xi}_i \\in \\mathbb{R}^{D_o}$ is then the weighted sum of all $\\left(\\xi_i^d \\right)_{1 \\leq d \\leq D_n + D_c}$, weighted by their importance described in $\\left(\\alpha_i^d \\right)_{1 \\leq d \\leq D_n + D_c}$.\n",
        "* A final Dense layer with a sigmoid activation function is then applied on $\\tilde{\\xi}_i$ to get the final prediction $p_i \\in [0, 1]$.\n",
        "* The output of the model is a tensor P of shape $(N,)$\n",
        "---"
      ],
      "metadata": {
        "id": "UHd44WUSewth"
      }
    },
    {
      "cell_type": "markdown",
      "source": [
        "#### The Forward Propagation"
      ],
      "metadata": {
        "id": "XpRI3XiRXtVG"
      }
    },
    {
      "cell_type": "markdown",
      "source": [
        "Let us apply the `FinalModel` on `(X_num_train, X_cat_train)`."
      ],
      "metadata": {
        "id": "PZUlXn6NX8lk"
      }
    },
    {
      "cell_type": "markdown",
      "source": [
        "The following table summarizes the different hyperparameters of the `FinalModel`:\n",
        "\n",
        "| Attribute | Description |\n",
        "|-----------|-------------|\n",
        "| `embedding_dim` | The dimension of the embedding space for both numerical and categorical variables. |\n",
        "| `num_numerical` | The number of numerical features  |\n",
        "| `num_categorical` | The number of categorical features |\n",
        "| `cardinalities` | A list of integers specifying the number of distinct categories for each categorical feature. |\n",
        "| `hidden_dim` | The dimensionality of the hidden layers in the Gated Residual Networks (GRN) |\n",
        "| `output_dim` | The dimensionality of the output space of the GRNs |\n"
      ],
      "metadata": {
        "id": "SJYwOLDZYkVV"
      }
    },
    {
      "cell_type": "markdown",
      "source": [
        "---\n",
        "<font color=green>Q20:</font>\n",
        "<br><font color='green'>\n",
        "Complete the following code to create an instance of `FinalModel` and apply it to `(X_num_train, X_cat_train)`\n",
        "\n",
        "</font>\n",
        "\n",
        "---"
      ],
      "metadata": {
        "id": "LoHr7DEYZNGQ"
      }
    },
    {
      "cell_type": "code",
      "source": [
        "# Create an instance of the model\n",
        "fm = FinalModel(embedding_dim=64,\n",
        "                num_numerical=X_num_train.shape[1],\n",
        "                num_categorical=X_cat_train.shape[1],\n",
        "                cardinalities=cardinalities,\n",
        "                hidden_dim=12,\n",
        "                output_dim=28)\n",
        "\n",
        "# Apply the model to the tensors x_num, x_cat\n",
        "output, alpha = fm((X_num_train, X_cat_train))\n",
        "\n",
        "# Print the shape of the output tensor\n",
        "print(\"The output tensor is of shape: \", output.shape)\n",
        "\n",
        "# Print the shape of the alpha tensor\n",
        "print(\"The alpha tensor is of shape: \", alpha.shape)\n"
      ],
      "metadata": {
        "id": "ZnNjkL12SXMF",
        "colab": {
          "base_uri": "https://localhost:8080/"
        },
        "outputId": "f6be97ca-a486-4d70-9a21-9fe85e4eaa17"
      },
      "execution_count": null,
      "outputs": [
        {
          "output_type": "stream",
          "name": "stdout",
          "text": [
            "The output tensor is of shape:  (800,)\n",
            "The alpha tensor is of shape:  (800, 23)\n"
          ]
        }
      ]
    },
    {
      "cell_type": "markdown",
      "source": [
        "---\n",
        "<font color=green>Q21:</font>\n",
        "<br><font color='green'>\n",
        "Explain why $\\frac{1}{N_T} \\sum\\limits_{i=1}^{N_T} \\sum\\limits_{d=1}^{D_n+D_c} \\alpha_i^d = 1$ and make sure your `alpha` tensor verifies the aforementioned equation.\n",
        "\n",
        "</font>\n",
        "\n",
        "---"
      ],
      "metadata": {
        "id": "1Y0kiBPFZ0l2"
      }
    },
    {
      "cell_type": "markdown",
      "source": [
        "---\n",
        "As we have used a Softmax on $\\xi_i$ for all $i \\in \\{1, \\dots, N_T \\}$\n",
        "\n",
        "So,\n",
        "\n",
        "\\begin{equation}\n",
        "\\forall i \\in \\{1, \\dots, N_T \\} \\quad \\sum\\limits_{d=1}^{D_n + D_c} \\alpha_i^d\n",
        "\\end{equation}\n",
        "\n",
        "Therefore,\n",
        "\n",
        "\\begin{equation}\n",
        "\\frac{1}{N_T} \\sum\\limits_{i=1}^{N_T} \\underbrace{\\sum\\limits_{d=1}^{D_n+D_c} \\alpha_i^d}_{=1} = \\frac{1}{N_T} \\sum\\limits_{i=1}^{N_T} 1 = 1\n",
        "\\end{equation}\n",
        "\n",
        "---"
      ],
      "metadata": {
        "id": "XUsGs_EttdAf"
      }
    },
    {
      "cell_type": "code",
      "source": [
        "# Verify the alpha tensor verifies the equation\n",
        "assert tf.reduce_mean(tf.reduce_sum(alpha, axis=1))==1, \"Oupsi\""
      ],
      "metadata": {
        "id": "KTya6bVTugFZ"
      },
      "execution_count": null,
      "outputs": []
    },
    {
      "cell_type": "markdown",
      "source": [
        "<center><img width=\"500\" src = \"https://drive.google.com/uc?export=view&id=1O0S5tEUBHZaynn1L8a5KSwXLLiYimW5g\"></center>\n",
        "\n",
        "<center>👉👉 <a href=\"https://forms.gle/H7v5qZbBuiHvMbBu9\">Click here to participate in the poll</a>👈👈</center>"
      ],
      "metadata": {
        "id": "qAqBBGFoll1c"
      }
    },
    {
      "cell_type": "markdown",
      "source": [
        "## Training the Model"
      ],
      "metadata": {
        "id": "kmNIAQZZbstb"
      }
    },
    {
      "cell_type": "markdown",
      "source": [
        "#### Preparing the code"
      ],
      "metadata": {
        "id": "3xtl5FGVck7s"
      }
    },
    {
      "cell_type": "markdown",
      "source": [
        "The code is provided to you, no need to change it."
      ],
      "metadata": {
        "id": "ShApwZV6ydcy"
      }
    },
    {
      "cell_type": "code",
      "source": [
        "## Create the training dataset\n",
        "def create_dataset(X_num, X_cat, y, batch_size=32):\n",
        "    X_num = tf.data.Dataset.from_tensor_slices(X_num.astype('float32'))\n",
        "    X_cat = tf.data.Dataset.from_tensor_slices(X_cat.astype('int32'))\n",
        "    y = tf.data.Dataset.from_tensor_slices(y.astype('float32'))\n",
        "    dataset = tf.data.Dataset.zip(((X_num, X_cat), y)).batch(batch_size)\n",
        "    return dataset\n",
        "\n",
        "\n",
        "## Helper functions for training\n",
        "@tf.function\n",
        "def grad_fn(model, inputs, targets, loss_fn):\n",
        "    with tf.GradientTape() as tape:\n",
        "        predictions, _ = model(inputs)\n",
        "        loss_value = loss_fn(targets, predictions)\n",
        "    grads = tape.gradient(loss_value, model.trainable_variables)\n",
        "    return loss_value, grads, predictions\n",
        "\n",
        "\n",
        "def f1_score(precision, recall):\n",
        "    return 2 * (precision * recall) / (precision + recall + 1e-7)  # Added small epsilon to prevent division by zero\n",
        "\n",
        "\n",
        "def calculate_metrics(outputs, predictions):\n",
        "    \"\"\"Calculate and return all metrics in one place\"\"\"\n",
        "    auc = AUC()\n",
        "    precision = Precision()\n",
        "    recall = Recall()\n",
        "\n",
        "    auc.update_state(outputs, predictions)\n",
        "    precision.update_state(outputs, predictions)\n",
        "    recall.update_state(outputs, predictions)\n",
        "\n",
        "    auc_result = auc.result().numpy()\n",
        "    precision_result = precision.result().numpy()\n",
        "    recall_result = recall.result().numpy()\n",
        "    f1_result = f1_score(precision_result, recall_result)\n",
        "\n",
        "    return {\n",
        "        'loss': None,  # Will be filled by caller\n",
        "        'auc': auc_result,\n",
        "        'precision': precision_result,\n",
        "        'recall': recall_result,\n",
        "        'f1': f1_result\n",
        "    }\n",
        "\n",
        "\n",
        "def log_metrics(epoch, metrics, dataset_type=\"Train\", batch=None):\n",
        "    \"\"\"Format and print metrics in a consistent way\"\"\"\n",
        "    epoch_str = f\"Epoch {epoch+1}\"\n",
        "    batch_str = f\" Batch {batch}\" if batch is not None else \"\"\n",
        "    prefix = f\"{epoch_str}{batch_str} {dataset_type}:\"\n",
        "\n",
        "    metrics_str = \" | \".join([\n",
        "        f\"Loss: {metrics['loss']:.4f}\",\n",
        "        f\"AUC: {metrics['auc']:.4f}\",\n",
        "        f\"F1: {metrics['f1']:.4f}\",\n",
        "        f\"Recall: {metrics['recall']:.4f}\",\n",
        "        f\"Precision: {metrics['precision']:.4f}\"\n",
        "    ])\n",
        "\n",
        "    print(f\"{prefix} {metrics_str}\")\n",
        "\n",
        "\n",
        "## Train the model\n",
        "def train_model(model, num_epochs, train_dataset, test_dataset, optimizer, loss_fn, grad_fn,\n",
        "                verbose=1, log_interval=None):\n",
        "    \"\"\"\n",
        "    Train the model with improved metrics tracking and logging\n",
        "\n",
        "    Parameters:\n",
        "    - verbose: 0=silent, 1=epoch summary, 2=batch details\n",
        "    - log_interval: how often to print batch results if verbose=2 (None=every batch)\n",
        "    \"\"\"\n",
        "    # Initialize metric history\n",
        "    history = {\n",
        "        'train_loss': [], 'train_auc': [], 'train_f1': [],\n",
        "        'train_recall': [], 'train_precision': [],\n",
        "        'test_loss': [], 'test_auc': [], 'test_f1': [],\n",
        "        'test_recall': [], 'test_precision': []\n",
        "    }\n",
        "\n",
        "    for epoch in range(num_epochs):\n",
        "        # Initialize epoch metrics\n",
        "        train_metrics = {'loss': [], 'auc': [], 'f1': [], 'recall': [], 'precision': []}\n",
        "\n",
        "        # Training loop\n",
        "        batch_count = 0\n",
        "        for inputs, outputs in train_dataset:\n",
        "            # Forward and backward pass\n",
        "            loss_value, grads, predictions = grad_fn(model, inputs, outputs, loss_fn)\n",
        "\n",
        "            # Update model weights\n",
        "            optimizer.apply_gradients(zip(grads, model.trainable_variables))\n",
        "\n",
        "            # Calculate metrics\n",
        "            batch_metrics = calculate_metrics(outputs, predictions)\n",
        "            batch_metrics['loss'] = loss_value.numpy()\n",
        "\n",
        "            # Store metrics\n",
        "            for metric in train_metrics:\n",
        "                train_metrics[metric].append(batch_metrics[metric])\n",
        "\n",
        "            # Print batch metrics if requested\n",
        "            if verbose == 2 and (log_interval is None or batch_count % log_interval == 0):\n",
        "                log_metrics(epoch, batch_metrics, \"Train\", batch_count)\n",
        "\n",
        "            batch_count += 1\n",
        "\n",
        "        # Calculate epoch average metrics\n",
        "        epoch_train_metrics = {metric: np.mean(values) for metric, values in train_metrics.items()}\n",
        "\n",
        "        # Add to history\n",
        "        history['train_loss'].append(epoch_train_metrics['loss'])\n",
        "        history['train_auc'].append(epoch_train_metrics['auc'])\n",
        "        history['train_f1'].append(epoch_train_metrics['f1'])\n",
        "        history['train_recall'].append(epoch_train_metrics['recall'])\n",
        "        history['train_precision'].append(epoch_train_metrics['precision'])\n",
        "\n",
        "        # Evaluate on test data\n",
        "        test_metrics = {'loss': [], 'auc': [], 'f1': [], 'recall': [], 'precision': []}\n",
        "\n",
        "        for inputs, outputs in test_dataset:\n",
        "            # Forward pass\n",
        "            predictions, _ = model(inputs)\n",
        "            test_loss = loss_fn(outputs, predictions).numpy()\n",
        "\n",
        "            # Calculate metrics\n",
        "            batch_metrics = calculate_metrics(outputs, predictions)\n",
        "            batch_metrics['loss'] = test_loss\n",
        "\n",
        "            # Store metrics\n",
        "            for metric in test_metrics:\n",
        "                test_metrics[metric].append(batch_metrics[metric])\n",
        "\n",
        "        # Calculate epoch average metrics\n",
        "        epoch_test_metrics = {metric: np.mean(values) for metric, values in test_metrics.items()}\n",
        "\n",
        "        # Add to history\n",
        "        history['test_loss'].append(epoch_test_metrics['loss'])\n",
        "        history['test_auc'].append(epoch_test_metrics['auc'])\n",
        "        history['test_f1'].append(epoch_test_metrics['f1'])\n",
        "        history['test_recall'].append(epoch_test_metrics['recall'])\n",
        "        history['test_precision'].append(epoch_test_metrics['precision'])\n",
        "\n",
        "        # Print epoch summary\n",
        "        if verbose >= 1:\n",
        "            log_metrics(epoch, epoch_train_metrics, \"Train\")\n",
        "            log_metrics(epoch, epoch_test_metrics, \"Test\")\n",
        "            print(\"-\" * 70)  # Separator between epochs\n",
        "\n",
        "    return (\n",
        "        history['train_loss'], history['train_auc'], history['train_f1'],\n",
        "        history['train_recall'], history['train_precision'],\n",
        "        history['test_loss'], history['test_auc'], history['test_f1'],\n",
        "        history['test_recall'], history['test_precision']\n",
        "    )"
      ],
      "metadata": {
        "id": "JNAdXcIBnyR9"
      },
      "execution_count": null,
      "outputs": []
    },
    {
      "cell_type": "markdown",
      "source": [
        "#### Preparing the Hyperparameters"
      ],
      "metadata": {
        "id": "VdwSUfSnbupF"
      }
    },
    {
      "cell_type": "markdown",
      "source": [
        "---\n",
        "<font color=green>Q22:</font>\n",
        "<br><font color='green'>\n",
        "Justify your choice of each of these hyperparameters\n",
        "\n",
        "</font>\n",
        "\n",
        "---"
      ],
      "metadata": {
        "id": "KcRh2hd3cG8G"
      }
    },
    {
      "cell_type": "code",
      "source": [
        "num_numerical = X_num_train.shape[1]\n",
        "num_categorical = X_cat_train.shape[1]\n",
        "cardinalities = cardinalities\n",
        "embedding_dim = 32\n",
        "hidden_dim = 8\n",
        "output_dim= 14\n",
        "num_epochs = 10\n",
        "batch_size = 64\n",
        "learning_rate = 0.001"
      ],
      "metadata": {
        "id": "NRuhcEuMxM6D"
      },
      "execution_count": null,
      "outputs": []
    },
    {
      "cell_type": "markdown",
      "source": [
        "#### Create and instance `fm` of the `FinalModel`"
      ],
      "metadata": {
        "id": "RBC7I9qey07Y"
      }
    },
    {
      "cell_type": "code",
      "source": [
        "# Create an instance of the model\n",
        "fm = FinalModel(embedding_dim=embedding_dim,\n",
        "                num_numerical=num_numerical,\n",
        "                num_categorical=num_categorical,\n",
        "                cardinalities=cardinalities,\n",
        "                hidden_dim=hidden_dim,\n",
        "                output_dim=output_dim)\n",
        "\n",
        "# Defining the Optimizer\n",
        "optimizer = tf.keras.optimizers.Adam(learning_rate)\n",
        "\n",
        "# Defining the Loss function\n",
        "loss = tf.keras.losses.binary_crossentropy"
      ],
      "metadata": {
        "id": "m75g5HpKeTZK"
      },
      "execution_count": null,
      "outputs": []
    },
    {
      "cell_type": "markdown",
      "source": [
        "Make sure the following tensors in this table are well defined and run the next cell to create `train_dataset`and `test_dataset`\n",
        "\n",
        "| Description of the Tensor                                                                                                       | Name        | Shape        |\n",
        "|---------------------------------------------------------------------------------------------------------------------------------|-------------|--------------|\n",
        "| The tensor containing all the numerical features associated with the training dataset                                           | X_num_train | $(N_T, D_n)$ |\n",
        "| The tensor containing all the label encoded categorical features associated with the training dataset                           | X_cat_train | $(N_T, D_c)$ |\n",
        "| The tensor containing all the features (numerical and label encoded categorical features) associated with the training dataset  | X_train     | $(N_T, D)$   |\n",
        "| The tensor containing all the numerical features associated with the test dataset                                               | X_num_test  | $(N_t, D_n)$ |\n",
        "| The tensor containing all the label encoded categorical features associated with the test dataset                               | X_cat_test  | $(N_t, D_c)$ |\n",
        "| The tensor containing all the features (numerical and label encoded categorical features) associated with the test dataset      | X_test      | $(N_t, D)$   |\n",
        "| The training target tensor                                                                                                      | y_train     | $(N_T,)$   |\n",
        "| The test target tensor                                                                                                          | y_test      | $(N_t,)$   |"
      ],
      "metadata": {
        "id": "HAsTz33afUCo"
      }
    },
    {
      "cell_type": "code",
      "source": [
        "train_dataset = create_dataset(X_num_train, X_cat_train, y_train, batch_size=batch_size)\n",
        "test_dataset = create_dataset(X_num_test, X_cat_test, y_test, batch_size=batch_size)"
      ],
      "metadata": {
        "id": "xUuB3ggWcnDX"
      },
      "execution_count": null,
      "outputs": []
    },
    {
      "cell_type": "markdown",
      "source": [
        "#### The Training Process"
      ],
      "metadata": {
        "id": "q66X-qjCf7bO"
      }
    },
    {
      "cell_type": "code",
      "source": [
        "mean_train_loss, mean_train_auc, mean_train_f1, mean_train_recall, mean_train_precision, mean_test_loss, mean_test_auc, mean_test_f1, mean_test_recall, mean_test_precision = train_model(fm, num_epochs, train_dataset, test_dataset, optimizer, loss, grad_fn)\n"
      ],
      "metadata": {
        "id": "ToyLdl-IcUNT",
        "colab": {
          "base_uri": "https://localhost:8080/"
        },
        "outputId": "502649b5-2b4e-48e1-c6ed-2d2686a83524"
      },
      "execution_count": null,
      "outputs": [
        {
          "output_type": "stream",
          "name": "stdout",
          "text": [
            "Epoch 1 Train: Loss: 0.5239 | AUC: 0.8419 | F1: 0.7695 | Recall: 0.7992 | Precision: 0.7479\n",
            "Epoch 1 Test: Loss: 0.4076 | AUC: 0.9385 | F1: 0.8639 | Recall: 0.8483 | Precision: 0.8818\n",
            "----------------------------------------------------------------------\n",
            "Epoch 2 Train: Loss: 0.3368 | AUC: 0.9506 | F1: 0.8697 | Recall: 0.8639 | Precision: 0.8795\n",
            "Epoch 2 Test: Loss: 0.3051 | AUC: 0.9613 | F1: 0.9032 | Recall: 0.8928 | Precision: 0.9147\n",
            "----------------------------------------------------------------------\n",
            "Epoch 3 Train: Loss: 0.2487 | AUC: 0.9766 | F1: 0.9125 | Recall: 0.9110 | Precision: 0.9194\n",
            "Epoch 3 Test: Loss: 0.2486 | AUC: 0.9711 | F1: 0.9170 | Recall: 0.9065 | Precision: 0.9288\n",
            "----------------------------------------------------------------------\n",
            "Epoch 4 Train: Loss: 0.1941 | AUC: 0.9867 | F1: 0.9370 | Recall: 0.9393 | Precision: 0.9384\n",
            "Epoch 4 Test: Loss: 0.2131 | AUC: 0.9756 | F1: 0.9204 | Recall: 0.9065 | Precision: 0.9363\n",
            "----------------------------------------------------------------------\n",
            "Epoch 5 Train: Loss: 0.1538 | AUC: 0.9926 | F1: 0.9559 | Recall: 0.9556 | Precision: 0.9584\n",
            "Epoch 5 Test: Loss: 0.1898 | AUC: 0.9809 | F1: 0.9293 | Recall: 0.9224 | Precision: 0.9368\n",
            "----------------------------------------------------------------------\n",
            "Epoch 6 Train: Loss: 0.1256 | AUC: 0.9960 | F1: 0.9658 | Recall: 0.9677 | Precision: 0.9659\n",
            "Epoch 6 Test: Loss: 0.1832 | AUC: 0.9804 | F1: 0.9255 | Recall: 0.9221 | Precision: 0.9302\n",
            "----------------------------------------------------------------------\n",
            "Epoch 7 Train: Loss: 0.1038 | AUC: 0.9970 | F1: 0.9734 | Recall: 0.9748 | Precision: 0.9733\n",
            "Epoch 7 Test: Loss: 0.1818 | AUC: 0.9795 | F1: 0.9344 | Recall: 0.9371 | Precision: 0.9338\n",
            "----------------------------------------------------------------------\n",
            "Epoch 8 Train: Loss: 0.0853 | AUC: 0.9976 | F1: 0.9823 | Recall: 0.9891 | Precision: 0.9761\n",
            "Epoch 8 Test: Loss: 0.1870 | AUC: 0.9763 | F1: 0.9262 | Recall: 0.9293 | Precision: 0.9241\n",
            "----------------------------------------------------------------------\n",
            "Epoch 9 Train: Loss: 0.0693 | AUC: 0.9983 | F1: 0.9903 | Recall: 0.9977 | Precision: 0.9832\n",
            "Epoch 9 Test: Loss: 0.1883 | AUC: 0.9778 | F1: 0.9231 | Recall: 0.9293 | Precision: 0.9182\n",
            "----------------------------------------------------------------------\n",
            "Epoch 10 Train: Loss: 0.0591 | AUC: 0.9988 | F1: 0.9903 | Recall: 0.9952 | Precision: 0.9856\n",
            "Epoch 10 Test: Loss: 0.1931 | AUC: 0.9786 | F1: 0.9231 | Recall: 0.9293 | Precision: 0.9182\n",
            "----------------------------------------------------------------------\n"
          ]
        }
      ]
    },
    {
      "cell_type": "markdown",
      "source": [
        "The method `train_model` trains the `fm` model and outputs the following lists:"
      ],
      "metadata": {
        "id": "cPqYQq8VmaOz"
      }
    },
    {
      "cell_type": "markdown",
      "source": [
        "| Element               | Description                                                                 |\n",
        "|-----------------------|-----------------------------------------------------------------------------|\n",
        "| mean_train_loss       | This is the average training loss per epoch.                                |\n",
        "| mean_train_auc        | This is the average Area Under the ROC Curve (AUC) for the training set.    |\n",
        "| mean_train_f1         | This is the average F1 score for the training set.                          |\n",
        "| mean_train_recall     | This is the average recall score for the training set.                      |\n",
        "| mean_train_precision  | This is the average precision score for the training set.                   |\n",
        "| mean_test_loss        | This is the average loss on the test set per epoch.                         |\n",
        "| mean_test_auc         | This is the average Area Under the ROC Curve (AUC) for the test set.        |\n",
        "| mean_test_f1          | This is the average F1 score for the test set.                              |\n",
        "| mean_test_recall      | This is the average recall score for the test set.                          |\n",
        "| mean_test_precision   | This is the average precision score for the test set.                       |\n"
      ],
      "metadata": {
        "id": "Og0zPzVIhcdr"
      }
    },
    {
      "cell_type": "markdown",
      "source": [
        "\n",
        "---\n",
        "<font color=green>Q23:</font>\n",
        "<br><font color='green'>\n",
        "Using the data provided in the variables `mean_train_loss`, `mean_train_auc`, `mean_train_f1`, `mean_train_recall`, `mean_train_precision`, `mean_test_loss`, `mean_test_auc`, `mean_test_f1`, `mean_test_recall`, and `mean_test_precision`, create the following plots:\n",
        "  * A plot showing the training and testing loss over each epoch. The x-axis should represent the epoch number and the y-axis should represent the loss.\n",
        "\n",
        "  * A plot showing the training and testing AUC over each epoch. The x-axis should represent the epoch number and the y-axis should represent the AUC.\n",
        "\n",
        "  * A plot showing the training and testing F1 score over each epoch. The x-axis should represent the epoch number and the y-axis should represent the F1 score.\n",
        "\n",
        "  * A plot showing the training and testing recall over each epoch. The x-axis should represent the epoch number and the y-axis should represent the recall.\n",
        "\n",
        "  * A plot showing the training and testing precision over each epoch. The x-axis should represent the epoch number and the y-axis should represent the precision.\n",
        "\n",
        "For each plot, include a legend to distinguish between the training and testing data.\n",
        "\n",
        "Discuss any trends or patterns you observe in these plots and what they may indicate about the performance and generalization of your model.\n",
        "\n",
        "</font>\n",
        "\n",
        "---\n",
        "\n"
      ],
      "metadata": {
        "id": "6cS2ErYyh5_R"
      }
    },
    {
      "cell_type": "code",
      "source": [
        "def plot_metrics(train_data, test_data, title):\n",
        "    \"\"\"\n",
        "    Plot training and test metrics with a fixed y-axis from 0 to 1.\n",
        "\n",
        "    Parameters:\n",
        "    -----------\n",
        "    train_data : list or array\n",
        "        Training metric values by epoch\n",
        "    test_data : list or array\n",
        "        Testing metric values by epoch\n",
        "    title : str\n",
        "        Title of the plot and y-axis label\n",
        "    \"\"\"\n",
        "    plt.clf()\n",
        "    plt.figure(figsize=(10, 6))\n",
        "    plt.plot(train_data, label='Train', marker='o', linestyle='-', linewidth=2)\n",
        "    plt.plot(test_data, label='Test', marker='s', linestyle='-', linewidth=2)\n",
        "    plt.title(title, fontsize=14)\n",
        "    plt.xlabel('Epochs', fontsize=12)\n",
        "    plt.ylabel(title, fontsize=12)\n",
        "    plt.legend(fontsize=12)\n",
        "    plt.grid(True, alpha=0.3)\n",
        "\n",
        "    # Set y-axis limits to 0-1\n",
        "    plt.ylim(0, 1)\n",
        "\n",
        "    # Add horizontal lines at 0.25, 0.5, 0.75 for better readability\n",
        "    plt.axhline(y=0.25, color='gray', linestyle='--', alpha=0.3)\n",
        "    plt.axhline(y=0.5, color='gray', linestyle='--', alpha=0.3)\n",
        "    plt.axhline(y=0.75, color='gray', linestyle='--', alpha=0.3)\n",
        "\n",
        "    plt.tight_layout()\n",
        "    plt.show()"
      ],
      "metadata": {
        "id": "Zq6GHGV-yKku"
      },
      "execution_count": null,
      "outputs": []
    },
    {
      "cell_type": "code",
      "source": [
        "plot_metrics(mean_train_loss, mean_test_loss, 'Loss')"
      ],
      "metadata": {
        "colab": {
          "base_uri": "https://localhost:8080/",
          "height": 624
        },
        "id": "l7KZRFc0ywR0",
        "outputId": "21ecea9c-81a1-45e5-bdac-33f1db4df8b0"
      },
      "execution_count": null,
      "outputs": [
        {
          "output_type": "display_data",
          "data": {
            "text/plain": [
              "<Figure size 640x480 with 0 Axes>"
            ]
          },
          "metadata": {}
        },
        {
          "output_type": "display_data",
          "data": {
            "text/plain": [
              "<Figure size 1000x600 with 1 Axes>"
            ],
            "image/png": "[encoded data removed]"
          },
          "metadata": {}
        }
      ]
    },
    {
      "cell_type": "code",
      "source": [
        "plot_metrics(mean_train_f1, mean_test_f1, 'F1 Score')"
      ],
      "metadata": {
        "colab": {
          "base_uri": "https://localhost:8080/",
          "height": 624
        },
        "id": "jZHX4bgiyxBD",
        "outputId": "924f25c4-077f-479a-cae7-4916dc3ea95c"
      },
      "execution_count": null,
      "outputs": [
        {
          "output_type": "display_data",
          "data": {
            "text/plain": [
              "<Figure size 640x480 with 0 Axes>"
            ]
          },
          "metadata": {}
        },
        {
          "output_type": "display_data",
          "data": {
            "text/plain": [
              "<Figure size 1000x600 with 1 Axes>"
            ],
            "image/png": "[encoded data removed]"
          },
          "metadata": {}
        }
      ]
    },
    {
      "cell_type": "code",
      "source": [
        "plot_metrics(mean_train_recall, mean_test_recall, 'Recall')"
      ],
      "metadata": {
        "colab": {
          "base_uri": "https://localhost:8080/",
          "height": 624
        },
        "id": "ySVSOH4hyxIT",
        "outputId": "0004a35d-f013-47b7-95dc-f5fc69e4cf48"
      },
      "execution_count": null,
      "outputs": [
        {
          "output_type": "display_data",
          "data": {
            "text/plain": [
              "<Figure size 640x480 with 0 Axes>"
            ]
          },
          "metadata": {}
        },
        {
          "output_type": "display_data",
          "data": {
            "text/plain": [
              "<Figure size 1000x600 with 1 Axes>"
            ],
            "image/png": "[encoded data removed]"
          },
          "metadata": {}
        }
      ]
    },
    {
      "cell_type": "code",
      "source": [
        "plot_metrics(mean_train_precision, mean_test_precision, 'Precision')"
      ],
      "metadata": {
        "colab": {
          "base_uri": "https://localhost:8080/",
          "height": 624
        },
        "id": "8GwTaW9OyxMd",
        "outputId": "474bab36-0418-469a-e0b5-e3f218ef7459"
      },
      "execution_count": null,
      "outputs": [
        {
          "output_type": "display_data",
          "data": {
            "text/plain": [
              "<Figure size 640x480 with 0 Axes>"
            ]
          },
          "metadata": {}
        },
        {
          "output_type": "display_data",
          "data": {
            "text/plain": [
              "<Figure size 1000x600 with 1 Axes>"
            ],
            "image/png": "[encoded data removed]"
          },
          "metadata": {}
        }
      ]
    },
    {
      "cell_type": "code",
      "source": [
        "plot_metrics(mean_train_auc, mean_test_auc, 'AUC')"
      ],
      "metadata": {
        "colab": {
          "base_uri": "https://localhost:8080/",
          "height": 624
        },
        "id": "CE1tZIfTy6AR",
        "outputId": "2fbbb2e6-1b1a-49d7-bb7c-e89f0317c3b4"
      },
      "execution_count": null,
      "outputs": [
        {
          "output_type": "display_data",
          "data": {
            "text/plain": [
              "<Figure size 640x480 with 0 Axes>"
            ]
          },
          "metadata": {}
        },
        {
          "output_type": "display_data",
          "data": {
            "text/plain": [
              "<Figure size 1000x600 with 1 Axes>"
            ],
            "image/png": "[encoded data removed]"
          },
          "metadata": {}
        }
      ]
    },
    {
      "cell_type": "markdown",
      "source": [
        "<center><img width=\"500\" src = \"https://drive.google.com/uc?export=view&id=1O0S5tEUBHZaynn1L8a5KSwXLLiYimW5g\"></center>\n",
        "\n",
        "<center>👉👉 <a href=\"https://forms.gle/H7v5qZbBuiHvMbBu9\">Click here to participate in the poll</a>👈👈</center>"
      ],
      "metadata": {
        "id": "B1EGlhLLlr8H"
      }
    },
    {
      "cell_type": "markdown",
      "source": [
        "## Feature Importance"
      ],
      "metadata": {
        "id": "lqvO9pdnkJy3"
      }
    },
    {
      "cell_type": "markdown",
      "source": [
        "Using the trained model `fm` and the feature data `X_num_train`, `X_cat_train`, `X_num_test` and `X_cat_test`, We would like to create a bar plot visualizing the feature importance for both training and testing data."
      ],
      "metadata": {
        "id": "uiuT6DSPk_IS"
      }
    },
    {
      "cell_type": "markdown",
      "source": [
        "---\n",
        "<font color=green>Q24:</font>\n",
        "<br><font color='green'>\n",
        "Make predictions using the model `fm` on both the training and testing data. The model returns two outputs: the predicted values and the importance weights (alpha) for each feature.\n",
        "\n",
        "</font>\n",
        "\n",
        "---\n",
        "\n",
        "\n",
        "\n",
        "\n",
        "\n",
        "\n",
        "\n"
      ],
      "metadata": {
        "id": "2DCU4Gl5kmwP"
      }
    },
    {
      "cell_type": "code",
      "source": [
        "train_inputs = (tf.cast(X_num_train, dtype=tf.float32), tf.cast(X_cat_train, dtype=tf.int32))\n",
        "test_inputs = (tf.cast(X_num_test, dtype=tf.float32), tf.cast(X_cat_test, dtype=tf.int32))\n",
        "train_predictions, alpha_train = fm(train_inputs)\n",
        "test_predictions, alpha_test = fm(test_inputs)"
      ],
      "metadata": {
        "id": "dUBr0EY3yXa9"
      },
      "execution_count": null,
      "outputs": []
    },
    {
      "cell_type": "markdown",
      "source": [
        "---\n",
        "<font color=green>Q25:</font>\n",
        "<br><font color='green'>\n",
        "Compute the mean feature importance for both training and testing data by averaging the importance weight associated with each feature (numerical or categorical).\n",
        "\n",
        "</font>\n",
        "\n",
        "---\n",
        "\n"
      ],
      "metadata": {
        "id": "_jR_n9--mDpA"
      }
    },
    {
      "cell_type": "code",
      "source": [
        "feature_importance_train = tf.reduce_mean(alpha_train, axis=0).numpy()\n",
        "feature_importance_test = tf.reduce_mean(alpha_test, axis=0).numpy()"
      ],
      "metadata": {
        "id": "ShIG8nJHyLCJ"
      },
      "execution_count": null,
      "outputs": []
    },
    {
      "cell_type": "markdown",
      "source": [
        "---\n",
        "<font color=green>Q26:</font>\n",
        "<br><font color='green'>\n",
        "Create a horizontal bar plot showing the feature importance of each feature for both the training and testing data. Use different colors to distinguish between the training and testing data. The y-axis should represent the features. The x-axis should represent the feature importance. Include a legend to distinguish between the training and testing data.\n",
        "\n",
        "</font>\n",
        "\n",
        "---\n",
        "\n"
      ],
      "metadata": {
        "id": "7bGjn6gCmG88"
      }
    },
    {
      "cell_type": "code",
      "source": [
        "def plot_feature_importance(X_num, X_cat, feature_importance_train, feature_importance_test):\n",
        "    \"\"\"\n",
        "    Plot feature importance for train and test sets in descending order.\n",
        "\n",
        "    Parameters:\n",
        "    -----------\n",
        "    X_num : pandas DataFrame\n",
        "        Numerical features dataframe\n",
        "    X_cat : pandas DataFrame\n",
        "        Categorical features dataframe\n",
        "    feature_importance_train : array-like\n",
        "        Feature importance values for training set\n",
        "    feature_importance_test : array-like\n",
        "        Feature importance values for test set\n",
        "    \"\"\"\n",
        "    import numpy as np\n",
        "    import matplotlib.pyplot as plt\n",
        "\n",
        "    # Get all feature names\n",
        "    list_features = list(X_num.columns) + list(X_cat.columns)\n",
        "\n",
        "    # Create data structure for sorting\n",
        "    combined_data = list(zip(list_features, feature_importance_train, feature_importance_test))\n",
        "\n",
        "    # Sort by the average importance (train+test) in descending order\n",
        "    sorted_data = sorted(combined_data, key=lambda x: (x[1] + x[2])/2, reverse=False)\n",
        "\n",
        "    # Unpack the sorted data\n",
        "    sorted_features, sorted_importance_train, sorted_importance_test = zip(*sorted_data)\n",
        "\n",
        "    plt.clf()\n",
        "    plt.figure(figsize=(10, 6))\n",
        "\n",
        "    # Plot the horizontal bars\n",
        "    y_positions = np.arange(len(sorted_features))\n",
        "    bar_width = 0.35\n",
        "\n",
        "    # Plot sorted bars\n",
        "    plt.barh(y_positions - bar_width/2, sorted_importance_train, height=bar_width,\n",
        "             label='Train', color='#3498db', alpha=0.8)\n",
        "    plt.barh(y_positions + bar_width/2, sorted_importance_test, height=bar_width,\n",
        "             label='Test', color='#e74c3c', alpha=0.8)\n",
        "\n",
        "    # Set the y-axis tick labels with sorted features\n",
        "    plt.yticks(y_positions, sorted_features)\n",
        "\n",
        "    # Add grid lines for readability\n",
        "    plt.grid(axis='x', linestyle='--', alpha=0.6)\n",
        "\n",
        "    # Add labels and legend\n",
        "    plt.xlabel('Feature Importance', fontsize=12)\n",
        "    plt.ylabel('Features', fontsize=12)\n",
        "    plt.legend(fontsize=12)\n",
        "    plt.title('Feature Importance Comparison (Train vs Test)', fontsize=14)\n",
        "\n",
        "    # Adjust layout\n",
        "    plt.tight_layout()\n",
        "    plt.show()"
      ],
      "metadata": {
        "id": "lxd_ncXvaxjA"
      },
      "execution_count": null,
      "outputs": []
    },
    {
      "cell_type": "code",
      "source": [
        "# After training your model and getting feature importances\n",
        "plot_feature_importance(\n",
        "    X_num,\n",
        "    X_cat,\n",
        "    feature_importance_train,\n",
        "    feature_importance_test\n",
        ")"
      ],
      "metadata": {
        "colab": {
          "base_uri": "https://localhost:8080/",
          "height": 624
        },
        "id": "mPe1xSa9ayVx",
        "outputId": "9a66ec08-eb11-4e13-bb37-e00c7a152427"
      },
      "execution_count": null,
      "outputs": [
        {
          "output_type": "display_data",
          "data": {
            "text/plain": [
              "<Figure size 640x480 with 0 Axes>"
            ]
          },
          "metadata": {}
        },
        {
          "output_type": "display_data",
          "data": {
            "text/plain": [
              "<Figure size 1000x600 with 1 Axes>"
            ],
            "image/png": "[encoded data removed]"
          },
          "metadata": {}
        }
      ]
    },
    {
      "cell_type": "markdown",
      "source": [
        "## Conclusion\n",
        "\n",
        "The Variable Selection Network presented in this implementation offers a powerful approach to handling both numerical and categorical data through specialized embedding techniques. By leveraging the InputTransformation Layer and Gated Residual Network architecture, the model effectively transforms raw inputs into meaningful representations while maintaining interpretability.\n",
        "\n",
        "The core strength of this architecture lies in its gated linear units, which allow the network to adaptively focus on the most relevant features during training.\n",
        "\n",
        "The implementation demonstrates a structured approach to deep learning model development, from data preparation and encoding to model instantiation and training. The custom training loop with comprehensive metrics tracking allows for fine-grained control over the learning process while monitoring performance across multiple dimensions.\n",
        "\n",
        "As demonstrated in the feature importance analysis, this architecture successfully bridges the gap between predictive power and interpretability, making it particularly suitable for domains requiring transparent AI decision-making such as finance, healthcare, etc."
      ],
      "metadata": {
        "id": "51lTDEJAkUFy"
      }
    },
    {
      "cell_type": "markdown",
      "source": [
        "### Contact\n",
        "\n",
        "If you have any question regarding this notebook, do not hesitate to contact: h.madmoun@imperial.ac.uk"
      ],
      "metadata": {
        "id": "WYcjmcS8kob4"
      }
    }
  ]
}